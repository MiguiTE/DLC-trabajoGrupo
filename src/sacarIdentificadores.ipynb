{
 "cells": [
  {
   "cell_type": "markdown",
   "metadata": {},
   "source": [
    "# Código para extraer identificadores de los datasets\n",
    "\n",
    "### Barcelona"
   ]
  },
  {
   "cell_type": "code",
   "execution_count": 15,
   "metadata": {},
   "outputs": [],
   "source": [
    "import requests\n",
    "import json"
   ]
  },
  {
   "cell_type": "markdown",
   "metadata": {},
   "source": [
    "- 1. Comenzamos por el dataset de *Calidad del Aire* de Barcelona, que se trata del dataset correspondiente al mes de Noviembre de 2018"
   ]
  },
  {
   "cell_type": "code",
   "execution_count": 16,
   "metadata": {},
   "outputs": [
    {
     "data": {
      "text/plain": [
       "<Response [200]>"
      ]
     },
     "execution_count": 16,
     "metadata": {},
     "output_type": "execute_result"
    }
   ],
   "source": [
    "urlConsulta = \"http://opendata-ajuntament.barcelona.cat/data/api/3/action/package_search?q=Aire\"\n",
    "consulta = requests.get(urlConsulta)\n",
    "consulta"
   ]
  },
  {
   "cell_type": "markdown",
   "metadata": {},
   "source": [
    "Lo cargamos como `json`"
   ]
  },
  {
   "cell_type": "code",
   "execution_count": 17,
   "metadata": {},
   "outputs": [],
   "source": [
    "datasetsAire = json.loads(consulta.text)"
   ]
  },
  {
   "cell_type": "markdown",
   "metadata": {},
   "source": [
    "Consultamos un poco qué y cómo es"
   ]
  },
  {
   "cell_type": "code",
   "execution_count": 18,
   "metadata": {},
   "outputs": [
    {
     "data": {
      "text/plain": [
       "dict"
      ]
     },
     "execution_count": 18,
     "metadata": {},
     "output_type": "execute_result"
    }
   ],
   "source": [
    "type(datasetsAire)"
   ]
  },
  {
   "cell_type": "code",
   "execution_count": 19,
   "metadata": {},
   "outputs": [
    {
     "name": "stdout",
     "output_type": "stream",
     "text": [
      "help\n",
      "success\n",
      "result\n"
     ]
    }
   ],
   "source": [
    "for key in datasetsAire:\n",
    "    print(key)"
   ]
  },
  {
   "cell_type": "code",
   "execution_count": 20,
   "metadata": {},
   "outputs": [
    {
     "data": {
      "text/plain": [
       "dict"
      ]
     },
     "execution_count": 20,
     "metadata": {},
     "output_type": "execute_result"
    }
   ],
   "source": [
    "type(datasetsAire[\"result\"])"
   ]
  },
  {
   "cell_type": "code",
   "execution_count": 21,
   "metadata": {},
   "outputs": [
    {
     "name": "stdout",
     "output_type": "stream",
     "text": [
      "count\n",
      "sort\n",
      "facets\n",
      "results\n",
      "search_facets\n"
     ]
    }
   ],
   "source": [
    "for key in datasetsAire[\"result\"]:\n",
    "    print(key)"
   ]
  },
  {
   "cell_type": "code",
   "execution_count": 22,
   "metadata": {},
   "outputs": [
    {
     "data": {
      "text/plain": [
       "list"
      ]
     },
     "execution_count": 22,
     "metadata": {},
     "output_type": "execute_result"
    }
   ],
   "source": [
    "type(datasetsAire[\"result\"][\"results\"])"
   ]
  },
  {
   "cell_type": "code",
   "execution_count": 9,
   "metadata": {},
   "outputs": [
    {
     "name": "stdout",
     "output_type": "stream",
     "text": [
      "<class 'dict'>\n",
      "<class 'dict'>\n"
     ]
    }
   ],
   "source": [
    "for item in datasetsAire[\"result\"][\"results\"]:\n",
    "    print(type(item))"
   ]
  },
  {
   "cell_type": "markdown",
   "metadata": {},
   "source": [
    "Parece que los datasets relacionados con la *palabra clave* **Aire** son están almacenados en listas dentro de un diccionario bajo las claves `result`, `results`. Ahora de estos buscamos aquel que tenga que ver con la calidad del aire de Barcelona.\n",
    "\n",
    "Comenzamos por buscar por el título, a ver si es posible. Para ello buscamos en los `metadatos` del datasets."
   ]
  },
  {
   "cell_type": "code",
   "execution_count": 10,
   "metadata": {},
   "outputs": [
    {
     "name": "stdout",
     "output_type": "stream",
     "text": [
      "notes_translated\n",
      "geolocation\n",
      "code\n",
      "url_tornada\n",
      "dataset_fields_description\n",
      "fuente\n",
      "private\n",
      "num_tags\n",
      "api\n",
      "frequency\n",
      "update_string\n",
      "id\n",
      "title_translated\n",
      "metadata_modified\n",
      "author\n",
      "author_email\n",
      "isopen\n",
      "state\n",
      "version\n",
      "observations\n",
      "relationships_as_object\n",
      "department\n",
      "creator_user_id\n",
      "type\n",
      "resources\n",
      "num_resources\n",
      "tags\n",
      "fecha_publicacion\n",
      "load_type\n",
      "groups\n",
      "license_id\n",
      "relationships_as_subject\n",
      "license_title\n",
      "organization\n",
      "name\n",
      "url\n",
      "notes\n",
      "owner_org\n",
      "tag\n",
      "license_url\n",
      "historical\n",
      "title\n",
      "revision_id\n",
      "date_deactivation_informed\n",
      "extras\n",
      "--------------------------------\n",
      "notes_translated\n",
      "geolocation\n",
      "code\n",
      "url_tornada\n",
      "dataset_fields_description\n",
      "fuente\n",
      "private\n",
      "num_tags\n",
      "api\n",
      "frequency\n",
      "update_string\n",
      "id\n",
      "title_translated\n",
      "metadata_modified\n",
      "author\n",
      "author_email\n",
      "isopen\n",
      "state\n",
      "version\n",
      "observations\n",
      "relationships_as_object\n",
      "department\n",
      "creator_user_id\n",
      "type\n",
      "resources\n",
      "num_resources\n",
      "tags\n",
      "fecha_publicacion\n",
      "load_type\n",
      "groups\n",
      "license_id\n",
      "relationships_as_subject\n",
      "license_title\n",
      "organization\n",
      "name\n",
      "url\n",
      "notes\n",
      "owner_org\n",
      "tag\n",
      "license_url\n",
      "historical\n",
      "title\n",
      "revision_id\n",
      "date_deactivation_informed\n",
      "extras\n",
      "--------------------------------\n"
     ]
    }
   ],
   "source": [
    "for item in datasetsAire[\"result\"][\"results\"]:\n",
    "    for key in item:\n",
    "        print(key)\n",
    "    print(\"--------------------------------\")"
   ]
  },
  {
   "cell_type": "code",
   "execution_count": 11,
   "metadata": {},
   "outputs": [
    {
     "name": "stdout",
     "output_type": "stream",
     "text": [
      "ca\n",
      "en\n",
      "es\n",
      "--------------------------------\n",
      "ca\n",
      "en\n",
      "es\n",
      "--------------------------------\n"
     ]
    }
   ],
   "source": [
    "for item in datasetsAire[\"result\"][\"results\"]:\n",
    "    for key in item[\"title_translated\"]:\n",
    "        print(key)\n",
    "    print(\"--------------------------------\")"
   ]
  },
  {
   "cell_type": "markdown",
   "metadata": {},
   "source": [
    "Parece que el título, en español, se encuentra en el diccionario bajo las `keys`: `title_transalted`, `es`. \n",
    "\n",
    "Pasamos a mirar cuál de los dos es el que nos interesa y obtenemos su `id`."
   ]
  },
  {
   "cell_type": "code",
   "execution_count": 12,
   "metadata": {},
   "outputs": [
    {
     "name": "stdout",
     "output_type": "stream",
     "text": [
      "1\n"
     ]
    }
   ],
   "source": [
    "for i, item in enumerate(datasetsAire[\"result\"][\"results\"]):\n",
    "    if item[\"title_translated\"][\"es\"] == \"Calidad del aire de la ciudad de Barcelona\":\n",
    "        print(i)"
   ]
  },
  {
   "cell_type": "code",
   "execution_count": 13,
   "metadata": {},
   "outputs": [
    {
     "data": {
      "text/plain": [
       "'0582a266-ea06-4cc5-a219-913b22484e40'"
      ]
     },
     "execution_count": 13,
     "metadata": {},
     "output_type": "execute_result"
    }
   ],
   "source": [
    "datasetCalidadBcn = datasetsAire[\"result\"][\"results\"][1]\n",
    "datasetCalidadBcn[\"id\"]"
   ]
  },
  {
   "cell_type": "markdown",
   "metadata": {},
   "source": [
    "Tenemos ya el *id* de los recursos sobre la calidad del aire de Barcelona. Ahora estamos interesados en buscar el *id* del que corresponde con el mes de Noviembre de $2018$."
   ]
  },
  {
   "cell_type": "code",
   "execution_count": 14,
   "metadata": {},
   "outputs": [
    {
     "name": "stdout",
     "output_type": "stream",
     "text": [
      "cache_last_updated\n",
      "package_id\n",
      "datastore_active\n",
      "id\n",
      "size\n",
      "state\n",
      "api_access_number\n",
      "api_access_number_absolute\n",
      "hash\n",
      "description\n",
      "format\n",
      "downloads\n",
      "mimetype_inner\n",
      "url_type\n",
      "file_volum\n",
      "mimetype\n",
      "cache_url\n",
      "name\n",
      "created\n",
      "url\n",
      "downloads_absolute\n",
      "map_visualization_res\n",
      "qa\n",
      "last_modified\n",
      "position\n",
      "revision_id\n",
      "resource_type\n"
     ]
    }
   ],
   "source": [
    "for key in datasetCalidadBcn[\"resources\"][0]:\n",
    "    print(key)"
   ]
  },
  {
   "cell_type": "code",
   "execution_count": 15,
   "metadata": {},
   "outputs": [
    {
     "name": "stdout",
     "output_type": "stream",
     "text": [
      "0 qualitataire.xml\n",
      "1 2018_06_Juny_qualitat_aire_BCN.csv\n",
      "2 2018_06_Juny_qualitat_aire_BCN.7z\n",
      "3 2018_07_Juliol_qualitat_aire_BCN.csv\n",
      "4 2018_07_Juliol_qualitat_aire_BCN.7z\n",
      "5 2018_08_Agost_qualitat_aire_BCN.csv\n",
      "6 2018_08_Agost_qualitat_aire_BCN.7z\n",
      "7 2018_09_Setembre_qualitat_aire_BCN.csv\n",
      "8 2018_09_Setembre_qualitat_aire_BCN.7z\n",
      "9 2018_10_Octubre_qualitat_aire_BCN.csv\n",
      "10 2018_10_Octubre_qualitat_aire_BCN.7z\n",
      "11 2018_11_Novembre_qualitat_aire_BCN.csv\n",
      "12 2018_11_Novembre_qualitat_aire_BCN.7z\n",
      "13 2018_12_Desembre_qualitat_aire_BCN.csv\n",
      "14 2018_12_Desembre_qualitat_aire_BCN.7z\n"
     ]
    }
   ],
   "source": [
    "for i, item in enumerate(datasetCalidadBcn[\"resources\"]):\n",
    "    print(i, item[\"name\"])"
   ]
  },
  {
   "cell_type": "code",
   "execution_count": 16,
   "metadata": {},
   "outputs": [
    {
     "data": {
      "text/plain": [
       "'cc993126-fb6f-4a63-a460-a2ffdb2b6886'"
      ]
     },
     "execution_count": 16,
     "metadata": {},
     "output_type": "execute_result"
    }
   ],
   "source": [
    "datasetCalidadBcnNov = datasetCalidadBcn[\"resources\"][11]\n",
    "datasetCalidadBcnNov[\"id\"]"
   ]
  },
  {
   "cell_type": "markdown",
   "metadata": {},
   "source": [
    "Ya está."
   ]
  },
  {
   "cell_type": "markdown",
   "metadata": {},
   "source": [
    "- 2. Continuamos con el dataset de *Tráfico/Estado de tŕansito* de Barcelona, que se trata del dataset correspondiente al mes de Noviembre de 2018:"
   ]
  },
  {
   "cell_type": "code",
   "execution_count": 44,
   "metadata": {},
   "outputs": [
    {
     "data": {
      "text/plain": [
       "<Response [200]>"
      ]
     },
     "execution_count": 44,
     "metadata": {},
     "output_type": "execute_result"
    }
   ],
   "source": [
    "urlConsulta = \"http://opendata-ajuntament.barcelona.cat/data/api/3/action/package_search?q=Tramos\"\n",
    "consulta = requests.get(urlConsulta)\n",
    "consulta"
   ]
  },
  {
   "cell_type": "code",
   "execution_count": 45,
   "metadata": {},
   "outputs": [],
   "source": [
    "datasetsTrafico = json.loads(consulta.text)"
   ]
  },
  {
   "cell_type": "code",
   "execution_count": 46,
   "metadata": {},
   "outputs": [
    {
     "data": {
      "text/plain": [
       "dict"
      ]
     },
     "execution_count": 46,
     "metadata": {},
     "output_type": "execute_result"
    }
   ],
   "source": [
    "type(datasetsTrafico)"
   ]
  },
  {
   "cell_type": "code",
   "execution_count": 47,
   "metadata": {},
   "outputs": [
    {
     "name": "stdout",
     "output_type": "stream",
     "text": [
      "help\n",
      "success\n",
      "result\n"
     ]
    }
   ],
   "source": [
    "for key in datasetsTrafico:\n",
    "    print(key)"
   ]
  },
  {
   "cell_type": "code",
   "execution_count": 48,
   "metadata": {},
   "outputs": [
    {
     "data": {
      "text/plain": [
       "dict"
      ]
     },
     "execution_count": 48,
     "metadata": {},
     "output_type": "execute_result"
    }
   ],
   "source": [
    "type(datasetsTrafico[\"result\"])"
   ]
  },
  {
   "cell_type": "code",
   "execution_count": 49,
   "metadata": {},
   "outputs": [
    {
     "name": "stdout",
     "output_type": "stream",
     "text": [
      "count\n",
      "sort\n",
      "facets\n",
      "results\n",
      "search_facets\n"
     ]
    }
   ],
   "source": [
    "for key in datasetsTrafico[\"result\"]:\n",
    "    print(key)"
   ]
  },
  {
   "cell_type": "code",
   "execution_count": 50,
   "metadata": {},
   "outputs": [
    {
     "data": {
      "text/plain": [
       "list"
      ]
     },
     "execution_count": 50,
     "metadata": {},
     "output_type": "execute_result"
    }
   ],
   "source": [
    "type(datasetsTrafico[\"result\"][\"results\"])"
   ]
  },
  {
   "cell_type": "code",
   "execution_count": 51,
   "metadata": {},
   "outputs": [
    {
     "name": "stdout",
     "output_type": "stream",
     "text": [
      "<class 'dict'>\n",
      "<class 'dict'>\n",
      "<class 'dict'>\n",
      "<class 'dict'>\n",
      "<class 'dict'>\n",
      "<class 'dict'>\n",
      "<class 'dict'>\n",
      "<class 'dict'>\n"
     ]
    }
   ],
   "source": [
    "for item in datasetsTrafico[\"result\"][\"results\"]:\n",
    "    print(type(item))"
   ]
  },
  {
   "cell_type": "code",
   "execution_count": 52,
   "metadata": {
    "scrolled": true
   },
   "outputs": [
    {
     "name": "stdout",
     "output_type": "stream",
     "text": [
      "notes_translated\n",
      "geolocation\n",
      "code\n",
      "url_tornada\n",
      "dataset_fields_description\n",
      "fuente\n",
      "private\n",
      "num_tags\n",
      "api\n",
      "frequency\n",
      "update_string\n",
      "id\n",
      "title_translated\n",
      "metadata_modified\n",
      "author\n",
      "author_email\n",
      "isopen\n",
      "state\n",
      "version\n",
      "observations\n",
      "relationships_as_object\n",
      "department\n",
      "creator_user_id\n",
      "type\n",
      "resources\n",
      "num_resources\n",
      "tags\n",
      "fecha_publicacion\n",
      "load_type\n",
      "groups\n",
      "license_id\n",
      "relationships_as_subject\n",
      "license_title\n",
      "organization\n",
      "name\n",
      "url\n",
      "notes\n",
      "owner_org\n",
      "tag\n",
      "license_url\n",
      "historical\n",
      "title\n",
      "revision_id\n",
      "date_deactivation_informed\n",
      "extras\n",
      "--------------------------------\n",
      "notes_translated\n",
      "geolocation\n",
      "code\n",
      "url_tornada\n",
      "dataset_fields_description\n",
      "fuente\n",
      "private\n",
      "num_tags\n",
      "api\n",
      "frequency\n",
      "update_string\n",
      "id\n",
      "title_translated\n",
      "metadata_modified\n",
      "author\n",
      "author_email\n",
      "isopen\n",
      "state\n",
      "version\n",
      "observations\n",
      "relationships_as_object\n",
      "department\n",
      "creator_user_id\n",
      "type\n",
      "resources\n",
      "num_resources\n",
      "tags\n",
      "fecha_publicacion\n",
      "load_type\n",
      "groups\n",
      "license_id\n",
      "relationships_as_subject\n",
      "license_title\n",
      "organization\n",
      "name\n",
      "url\n",
      "notes\n",
      "owner_org\n",
      "tag\n",
      "license_url\n",
      "historical\n",
      "title\n",
      "revision_id\n",
      "date_deactivation_informed\n",
      "extras\n",
      "--------------------------------\n",
      "notes_translated\n",
      "geolocation\n",
      "code\n",
      "url_tornada\n",
      "fuente\n",
      "private\n",
      "num_tags\n",
      "api\n",
      "frequency\n",
      "update_string\n",
      "id\n",
      "title_translated\n",
      "metadata_modified\n",
      "author\n",
      "author_email\n",
      "isopen\n",
      "state\n",
      "version\n",
      "observations\n",
      "relationships_as_object\n",
      "department\n",
      "creator_user_id\n",
      "type\n",
      "resources\n",
      "num_resources\n",
      "tags\n",
      "fecha_publicacion\n",
      "load_type\n",
      "groups\n",
      "license_id\n",
      "relationships_as_subject\n",
      "license_title\n",
      "organization\n",
      "name\n",
      "url\n",
      "notes\n",
      "owner_org\n",
      "tag\n",
      "license_url\n",
      "historical\n",
      "title\n",
      "revision_id\n",
      "date_deactivation_informed\n",
      "--------------------------------\n",
      "notes_translated\n",
      "geolocation\n",
      "code\n",
      "url_tornada\n",
      "fuente\n",
      "private\n",
      "num_tags\n",
      "api\n",
      "frequency\n",
      "update_string\n",
      "id\n",
      "title_translated\n",
      "metadata_modified\n",
      "author\n",
      "author_email\n",
      "isopen\n",
      "state\n",
      "version\n",
      "observations\n",
      "relationships_as_object\n",
      "department\n",
      "creator_user_id\n",
      "type\n",
      "resources\n",
      "num_resources\n",
      "tags\n",
      "fecha_publicacion\n",
      "load_type\n",
      "groups\n",
      "license_id\n",
      "relationships_as_subject\n",
      "license_title\n",
      "organization\n",
      "name\n",
      "url\n",
      "notes\n",
      "owner_org\n",
      "tag\n",
      "license_url\n",
      "historical\n",
      "title\n",
      "revision_id\n",
      "date_deactivation_informed\n",
      "--------------------------------\n",
      "notes_translated\n",
      "geolocation\n",
      "code\n",
      "url_tornada\n",
      "dataset_fields_description\n",
      "fuente\n",
      "private\n",
      "num_tags\n",
      "api\n",
      "frequency\n",
      "update_string\n",
      "id\n",
      "title_translated\n",
      "metadata_modified\n",
      "author\n",
      "author_email\n",
      "isopen\n",
      "state\n",
      "version\n",
      "observations\n",
      "relationships_as_object\n",
      "department\n",
      "creator_user_id\n",
      "type\n",
      "resources\n",
      "num_resources\n",
      "tags\n",
      "fecha_publicacion\n",
      "load_type\n",
      "groups\n",
      "license_id\n",
      "relationships_as_subject\n",
      "license_title\n",
      "organization\n",
      "name\n",
      "url\n",
      "notes\n",
      "owner_org\n",
      "tag\n",
      "license_url\n",
      "historical\n",
      "title\n",
      "revision_id\n",
      "date_deactivation_informed\n",
      "--------------------------------\n",
      "notes_translated\n",
      "geolocation\n",
      "code\n",
      "url_tornada\n",
      "dataset_fields_description\n",
      "fuente\n",
      "private\n",
      "num_tags\n",
      "api\n",
      "frequency\n",
      "update_string\n",
      "id\n",
      "title_translated\n",
      "metadata_modified\n",
      "author\n",
      "author_email\n",
      "isopen\n",
      "state\n",
      "version\n",
      "observations\n",
      "relationships_as_object\n",
      "department\n",
      "creator_user_id\n",
      "type\n",
      "resources\n",
      "num_resources\n",
      "tags\n",
      "fecha_publicacion\n",
      "load_type\n",
      "groups\n",
      "license_id\n",
      "relationships_as_subject\n",
      "license_title\n",
      "organization\n",
      "name\n",
      "url\n",
      "notes\n",
      "owner_org\n",
      "tag\n",
      "license_url\n",
      "historical\n",
      "title\n",
      "revision_id\n",
      "date_deactivation_informed\n",
      "extras\n",
      "--------------------------------\n",
      "notes_translated\n",
      "geolocation\n",
      "code\n",
      "url_tornada\n",
      "dataset_fields_description\n",
      "fuente\n",
      "private\n",
      "num_tags\n",
      "api\n",
      "frequency\n",
      "update_string\n",
      "id\n",
      "title_translated\n",
      "metadata_modified\n",
      "author\n",
      "author_email\n",
      "isopen\n",
      "state\n",
      "version\n",
      "observations\n",
      "relationships_as_object\n",
      "department\n",
      "creator_user_id\n",
      "type\n",
      "resources\n",
      "num_resources\n",
      "tags\n",
      "fecha_publicacion\n",
      "load_type\n",
      "groups\n",
      "license_id\n",
      "relationships_as_subject\n",
      "license_title\n",
      "organization\n",
      "name\n",
      "url\n",
      "notes\n",
      "owner_org\n",
      "tag\n",
      "license_url\n",
      "historical\n",
      "title\n",
      "revision_id\n",
      "date_deactivation_informed\n",
      "extras\n",
      "--------------------------------\n",
      "notes_translated\n",
      "geolocation\n",
      "code\n",
      "url_tornada\n",
      "dataset_fields_description\n",
      "fuente\n",
      "private\n",
      "num_tags\n",
      "api\n",
      "frequency\n",
      "update_string\n",
      "id\n",
      "title_translated\n",
      "metadata_modified\n",
      "author\n",
      "author_email\n",
      "isopen\n",
      "state\n",
      "version\n",
      "observations\n",
      "relationships_as_object\n",
      "department\n",
      "creator_user_id\n",
      "type\n",
      "resources\n",
      "num_resources\n",
      "tags\n",
      "fecha_publicacion\n",
      "load_type\n",
      "groups\n",
      "license_id\n",
      "relationships_as_subject\n",
      "license_title\n",
      "organization\n",
      "name\n",
      "url\n",
      "notes\n",
      "owner_org\n",
      "tag\n",
      "license_url\n",
      "historical\n",
      "title\n",
      "revision_id\n",
      "date_deactivation_informed\n",
      "extras\n",
      "--------------------------------\n"
     ]
    }
   ],
   "source": [
    "for item in datasetsTrafico[\"result\"][\"results\"]:\n",
    "    for key in item:\n",
    "        print(key)\n",
    "    print(\"--------------------------------\")"
   ]
  },
  {
   "cell_type": "code",
   "execution_count": 53,
   "metadata": {},
   "outputs": [
    {
     "name": "stdout",
     "output_type": "stream",
     "text": [
      "ca\n",
      "en\n",
      "es\n",
      "--------------------------------\n",
      "ca\n",
      "en\n",
      "es\n",
      "--------------------------------\n",
      "ca\n",
      "en\n",
      "es\n",
      "--------------------------------\n",
      "ca\n",
      "en\n",
      "es\n",
      "--------------------------------\n",
      "ca\n",
      "en\n",
      "es\n",
      "--------------------------------\n",
      "ca\n",
      "en\n",
      "es\n",
      "--------------------------------\n",
      "ca\n",
      "en\n",
      "es\n",
      "--------------------------------\n",
      "ca\n",
      "en\n",
      "es\n",
      "--------------------------------\n"
     ]
    }
   ],
   "source": [
    "for item in datasetsTrafico[\"result\"][\"results\"]:\n",
    "    for key in item[\"title_translated\"]:\n",
    "        print(key)\n",
    "    print(\"--------------------------------\")"
   ]
  },
  {
   "cell_type": "markdown",
   "metadata": {},
   "source": [
    "Parece que el título, en español, se encuentra en el diccionario bajo las `keys`: `title_transalted`, `es`. \n",
    "\n",
    "Pasamos a mirar cuál de los dos es el que nos interesa y obtenemos su `id`."
   ]
  },
  {
   "cell_type": "code",
   "execution_count": 54,
   "metadata": {},
   "outputs": [
    {
     "name": "stdout",
     "output_type": "stream",
     "text": [
      "6\n"
     ]
    }
   ],
   "source": [
    "for i, item in enumerate(datasetsTrafico[\"result\"][\"results\"]):\n",
    "    if item[\"title_translated\"][\"es\"] == \"Información del estado del tránsito en los tramos de la ciudad de Barcelona\":\n",
    "        print(i)"
   ]
  },
  {
   "cell_type": "code",
   "execution_count": 55,
   "metadata": {},
   "outputs": [
    {
     "data": {
      "text/plain": [
       "'40743bb8-e4e0-457f-aa15-87007a0bdb6a'"
      ]
     },
     "execution_count": 55,
     "metadata": {},
     "output_type": "execute_result"
    }
   ],
   "source": [
    "datasetTramosBcn = datasetsTrafico[\"result\"][\"results\"][1]\n",
    "datasetTramosBcn[\"id\"]"
   ]
  },
  {
   "cell_type": "markdown",
   "metadata": {},
   "source": [
    "Tenemos ya el *id* de los recursos sobre los tramos de tránsito de Barcelona. Ahora estamos interesados en buscar el *id* del que corresponde con el mes de Noviembre de $2018$.\n"
   ]
  },
  {
   "cell_type": "code",
   "execution_count": 56,
   "metadata": {},
   "outputs": [
    {
     "name": "stdout",
     "output_type": "stream",
     "text": [
      "0 TRAMS.csv\n",
      "1 2018_05_TRAMS.CSV\n",
      "2 2018_2T_TRAMS.csv\n",
      "3 2018_3T_TRAMS.csv\n",
      "4 2018_4T_TRAMS.csv\n"
     ]
    }
   ],
   "source": [
    "for i, item in enumerate(datasetTramosBcn[\"resources\"]):\n",
    "    print(i, item[\"name\"])"
   ]
  },
  {
   "cell_type": "markdown",
   "metadata": {},
   "source": [
    "- 3. Continuamos por el dataset de *Estaciones de control* de Barcelona, que se trata del dataset correspondiente al mes de Noviembre de 2018"
   ]
  },
  {
   "cell_type": "code",
   "execution_count": 57,
   "metadata": {},
   "outputs": [
    {
     "data": {
      "text/plain": [
       "<Response [200]>"
      ]
     },
     "execution_count": 57,
     "metadata": {},
     "output_type": "execute_result"
    }
   ],
   "source": [
    "urlConsulta = \"http://opendata-ajuntament.barcelona.cat/data/api/3/action/package_search?q=Estaciones\"\n",
    "consulta = requests.get(urlConsulta)\n",
    "consulta"
   ]
  },
  {
   "cell_type": "code",
   "execution_count": 58,
   "metadata": {},
   "outputs": [],
   "source": [
    "datasetsEstaciones = json.loads(consulta.text)"
   ]
  },
  {
   "cell_type": "code",
   "execution_count": 59,
   "metadata": {},
   "outputs": [
    {
     "name": "stdout",
     "output_type": "stream",
     "text": [
      "help\n",
      "success\n",
      "result\n"
     ]
    }
   ],
   "source": [
    "for key in datasetsEstaciones:\n",
    "    print(key)"
   ]
  },
  {
   "cell_type": "code",
   "execution_count": 60,
   "metadata": {},
   "outputs": [
    {
     "name": "stdout",
     "output_type": "stream",
     "text": [
      "count\n",
      "sort\n",
      "facets\n",
      "results\n",
      "search_facets\n"
     ]
    }
   ],
   "source": [
    "for key in datasetsEstaciones[\"result\"]:\n",
    "    print(key)"
   ]
  },
  {
   "cell_type": "code",
   "execution_count": 63,
   "metadata": {},
   "outputs": [
    {
     "name": "stdout",
     "output_type": "stream",
     "text": [
      "<class 'dict'>\n",
      "<class 'dict'>\n",
      "<class 'dict'>\n",
      "<class 'dict'>\n",
      "<class 'dict'>\n",
      "<class 'dict'>\n",
      "<class 'dict'>\n"
     ]
    }
   ],
   "source": [
    "for item in datasetsEstaciones[\"result\"][\"results\"]:\n",
    "    print(type(item))"
   ]
  },
  {
   "cell_type": "code",
   "execution_count": 64,
   "metadata": {},
   "outputs": [
    {
     "name": "stdout",
     "output_type": "stream",
     "text": [
      "notes_translated\n",
      "geolocation\n",
      "code\n",
      "url_tornada\n",
      "dataset_fields_description\n",
      "fuente\n",
      "private\n",
      "num_tags\n",
      "api\n",
      "frequency\n",
      "update_string\n",
      "id\n",
      "title_translated\n",
      "metadata_modified\n",
      "author\n",
      "author_email\n",
      "isopen\n",
      "state\n",
      "version\n",
      "observations\n",
      "relationships_as_object\n",
      "department\n",
      "creator_user_id\n",
      "type\n",
      "resources\n",
      "num_resources\n",
      "tags\n",
      "fecha_publicacion\n",
      "load_type\n",
      "groups\n",
      "license_id\n",
      "relationships_as_subject\n",
      "license_title\n",
      "organization\n",
      "name\n",
      "url\n",
      "notes\n",
      "owner_org\n",
      "tag\n",
      "license_url\n",
      "historical\n",
      "title\n",
      "revision_id\n",
      "date_deactivation_informed\n",
      "extras\n",
      "--------------------------------\n",
      "notes_translated\n",
      "geolocation\n",
      "code\n",
      "url_tornada\n",
      "dataset_fields_description\n",
      "fuente\n",
      "private\n",
      "num_tags\n",
      "api\n",
      "frequency\n",
      "update_string\n",
      "id\n",
      "title_translated\n",
      "metadata_modified\n",
      "author\n",
      "author_email\n",
      "isopen\n",
      "state\n",
      "version\n",
      "observations\n",
      "relationships_as_object\n",
      "department\n",
      "creator_user_id\n",
      "type\n",
      "resources\n",
      "num_resources\n",
      "tags\n",
      "fecha_publicacion\n",
      "load_type\n",
      "groups\n",
      "license_id\n",
      "relationships_as_subject\n",
      "license_title\n",
      "organization\n",
      "name\n",
      "url\n",
      "notes\n",
      "owner_org\n",
      "tag\n",
      "license_url\n",
      "historical\n",
      "title\n",
      "revision_id\n",
      "date_deactivation_informed\n",
      "extras\n",
      "--------------------------------\n",
      "notes_translated\n",
      "geolocation\n",
      "code\n",
      "url_tornada\n",
      "dataset_fields_description\n",
      "fuente\n",
      "private\n",
      "num_tags\n",
      "api\n",
      "frequency\n",
      "update_string\n",
      "id\n",
      "title_translated\n",
      "metadata_modified\n",
      "author\n",
      "author_email\n",
      "isopen\n",
      "state\n",
      "version\n",
      "observations\n",
      "relationships_as_object\n",
      "department\n",
      "creator_user_id\n",
      "type\n",
      "resources\n",
      "num_resources\n",
      "tags\n",
      "fecha_publicacion\n",
      "load_type\n",
      "groups\n",
      "license_id\n",
      "relationships_as_subject\n",
      "license_title\n",
      "organization\n",
      "name\n",
      "url\n",
      "notes\n",
      "owner_org\n",
      "tag\n",
      "license_url\n",
      "historical\n",
      "title\n",
      "revision_id\n",
      "date_deactivation_informed\n",
      "--------------------------------\n",
      "notes_translated\n",
      "geolocation\n",
      "code\n",
      "url_tornada\n",
      "dataset_fields_description\n",
      "fuente\n",
      "private\n",
      "num_tags\n",
      "api\n",
      "frequency\n",
      "update_string\n",
      "id\n",
      "title_translated\n",
      "metadata_modified\n",
      "author\n",
      "author_email\n",
      "isopen\n",
      "state\n",
      "version\n",
      "observations\n",
      "relationships_as_object\n",
      "department\n",
      "creator_user_id\n",
      "type\n",
      "resources\n",
      "num_resources\n",
      "tags\n",
      "fecha_publicacion\n",
      "load_type\n",
      "groups\n",
      "license_id\n",
      "relationships_as_subject\n",
      "license_title\n",
      "organization\n",
      "name\n",
      "url\n",
      "notes\n",
      "owner_org\n",
      "tag\n",
      "license_url\n",
      "historical\n",
      "title\n",
      "revision_id\n",
      "date_deactivation_informed\n",
      "extras\n",
      "--------------------------------\n",
      "notes_translated\n",
      "geolocation\n",
      "code\n",
      "url_tornada\n",
      "dataset_fields_description\n",
      "fuente\n",
      "private\n",
      "num_tags\n",
      "api\n",
      "frequency\n",
      "update_string\n",
      "id\n",
      "title_translated\n",
      "metadata_modified\n",
      "author\n",
      "author_email\n",
      "isopen\n",
      "state\n",
      "version\n",
      "observations\n",
      "relationships_as_object\n",
      "department\n",
      "creator_user_id\n",
      "type\n",
      "resources\n",
      "num_resources\n",
      "tags\n",
      "fecha_publicacion\n",
      "load_type\n",
      "groups\n",
      "license_id\n",
      "relationships_as_subject\n",
      "license_title\n",
      "organization\n",
      "name\n",
      "url\n",
      "notes\n",
      "owner_org\n",
      "tag\n",
      "license_url\n",
      "historical\n",
      "title\n",
      "revision_id\n",
      "date_deactivation_informed\n",
      "extras\n",
      "--------------------------------\n",
      "notes_translated\n",
      "geolocation\n",
      "code\n",
      "url_tornada\n",
      "dataset_fields_description\n",
      "fuente\n",
      "private\n",
      "num_tags\n",
      "api\n",
      "frequency\n",
      "update_string\n",
      "id\n",
      "title_translated\n",
      "metadata_modified\n",
      "author\n",
      "author_email\n",
      "isopen\n",
      "state\n",
      "version\n",
      "observations\n",
      "relationships_as_object\n",
      "department\n",
      "creator_user_id\n",
      "type\n",
      "resources\n",
      "num_resources\n",
      "tags\n",
      "fecha_publicacion\n",
      "load_type\n",
      "groups\n",
      "license_id\n",
      "relationships_as_subject\n",
      "license_title\n",
      "organization\n",
      "name\n",
      "url\n",
      "notes\n",
      "owner_org\n",
      "tag\n",
      "license_url\n",
      "historical\n",
      "title\n",
      "revision_id\n",
      "date_deactivation_informed\n",
      "extras\n",
      "--------------------------------\n",
      "notes_translated\n",
      "geolocation\n",
      "code\n",
      "url_tornada\n",
      "dataset_fields_description\n",
      "fuente\n",
      "private\n",
      "num_tags\n",
      "api\n",
      "frequency\n",
      "update_string\n",
      "id\n",
      "title_translated\n",
      "metadata_modified\n",
      "author\n",
      "author_email\n",
      "isopen\n",
      "state\n",
      "version\n",
      "observations\n",
      "relationships_as_object\n",
      "department\n",
      "creator_user_id\n",
      "type\n",
      "resources\n",
      "num_resources\n",
      "tags\n",
      "fecha_publicacion\n",
      "load_type\n",
      "groups\n",
      "license_id\n",
      "relationships_as_subject\n",
      "license_title\n",
      "organization\n",
      "name\n",
      "url\n",
      "notes\n",
      "owner_org\n",
      "tag\n",
      "license_url\n",
      "historical\n",
      "title\n",
      "revision_id\n",
      "date_deactivation_informed\n",
      "--------------------------------\n"
     ]
    }
   ],
   "source": [
    "for item in datasetsEstaciones[\"result\"][\"results\"]:\n",
    "    for key in item:\n",
    "        print(key)\n",
    "    print(\"--------------------------------\")"
   ]
  },
  {
   "cell_type": "code",
   "execution_count": 65,
   "metadata": {},
   "outputs": [
    {
     "name": "stdout",
     "output_type": "stream",
     "text": [
      "ca\n",
      "en\n",
      "es\n",
      "--------------------------------\n",
      "ca\n",
      "en\n",
      "es\n",
      "--------------------------------\n",
      "ca\n",
      "en\n",
      "es\n",
      "--------------------------------\n",
      "ca\n",
      "en\n",
      "es\n",
      "--------------------------------\n",
      "ca\n",
      "en\n",
      "es\n",
      "--------------------------------\n",
      "ca\n",
      "en\n",
      "es\n",
      "--------------------------------\n",
      "ca\n",
      "en\n",
      "es\n",
      "--------------------------------\n"
     ]
    }
   ],
   "source": [
    "for item in datasetsEstaciones[\"result\"][\"results\"]:\n",
    "    for key in item[\"title_translated\"]:\n",
    "        print(key)\n",
    "    print(\"--------------------------------\")"
   ]
  },
  {
   "cell_type": "markdown",
   "metadata": {},
   "source": [
    "Parece que el título, en español, se encuentra en el diccionario bajo las `keys`: `title_transalted`, `es`. \n",
    "\n",
    "Pasamos a mirar cuál de los dos es el que nos interesa y obtenemos su `id`."
   ]
  },
  {
   "cell_type": "code",
   "execution_count": 66,
   "metadata": {},
   "outputs": [
    {
     "name": "stdout",
     "output_type": "stream",
     "text": [
      "1\n"
     ]
    }
   ],
   "source": [
    "for i, item in enumerate(datasetsEstaciones[\"result\"][\"results\"]):\n",
    "    if item[\"title_translated\"][\"es\"] == \"Estaciones de medida de la calidad del aire de la ciudad de Barcelona\":\n",
    "        print(i)"
   ]
  },
  {
   "cell_type": "code",
   "execution_count": 67,
   "metadata": {},
   "outputs": [
    {
     "data": {
      "text/plain": [
       "'4dff88b1-151b-48db-91c2-45007cd5d07a'"
      ]
     },
     "execution_count": 67,
     "metadata": {},
     "output_type": "execute_result"
    }
   ],
   "source": [
    "datasetEstacionesBcn = datasetsEstaciones[\"result\"][\"results\"][1]\n",
    "datasetEstacionesBcn[\"id\"]"
   ]
  },
  {
   "cell_type": "markdown",
   "metadata": {},
   "source": [
    "Tenemos ya el *id* de los recursos sobre las estaciones de control de aire de Barcelona. Ahora estamos interesados en buscar el *id* del que corresponde con el mes de Noviembre de $2018$.\n"
   ]
  },
  {
   "cell_type": "code",
   "execution_count": 69,
   "metadata": {},
   "outputs": [
    {
     "name": "stdout",
     "output_type": "stream",
     "text": [
      "0 qualitat_aire_estacions_bcn.csv\n"
     ]
    }
   ],
   "source": [
    "for i, item in enumerate(datasetEstacionesBcn[\"resources\"]):\n",
    "    print(i, item[\"name\"])"
   ]
  },
  {
   "cell_type": "code",
   "execution_count": 70,
   "metadata": {},
   "outputs": [
    {
     "data": {
      "text/plain": [
       "'6c33f60b-2f52-4954-a5e6-cf879890551c'"
      ]
     },
     "execution_count": 70,
     "metadata": {},
     "output_type": "execute_result"
    }
   ],
   "source": [
    "datasetCalidadBcnNov = datasetEstacionesBcn[\"resources\"][0]\n",
    "datasetCalidadBcnNov[\"id\"]"
   ]
  },
  {
   "cell_type": "markdown",
   "metadata": {},
   "source": [
    "Hemos obtenido el identificador para el dataset de Estaciones de aire de Barcelona."
   ]
  }
 ],
 "metadata": {
  "kernelspec": {
   "display_name": "Python 3",
   "language": "python",
   "name": "python3"
  },
  "language_info": {
   "codemirror_mode": {
    "name": "ipython",
    "version": 3
   },
   "file_extension": ".py",
   "mimetype": "text/x-python",
   "name": "python",
   "nbconvert_exporter": "python",
   "pygments_lexer": "ipython3",
   "version": "3.7.1"
  }
 },
 "nbformat": 4,
 "nbformat_minor": 2
}
