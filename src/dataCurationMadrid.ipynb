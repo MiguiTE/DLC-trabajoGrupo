{
 "cells": [
  {
   "cell_type": "markdown",
   "metadata": {},
   "source": [
    "# Calidad del aire"
   ]
  },
  {
   "cell_type": "markdown",
   "metadata": {},
   "source": [
    "Librerías necesarias para la realización del Trabajo en Grupo"
   ]
  },
  {
   "cell_type": "code",
   "execution_count": 1,
   "metadata": {
    "ExecuteTime": {
     "end_time": "2018-12-30T11:10:01.131636Z",
     "start_time": "2018-12-30T11:10:00.942213Z"
    }
   },
   "outputs": [],
   "source": [
    "import numpy as np\n",
    "import pandas as pd\n",
    "import os"
   ]
  },
  {
   "cell_type": "code",
   "execution_count": 2,
   "metadata": {
    "ExecuteTime": {
     "end_time": "2018-12-30T11:10:01.138488Z",
     "start_time": "2018-12-30T11:10:01.132817Z"
    }
   },
   "outputs": [
    {
     "data": {
      "text/plain": [
       "['aire18.csv', 'trafico_octubre.csv']"
      ]
     },
     "execution_count": 2,
     "metadata": {},
     "output_type": "execute_result"
    }
   ],
   "source": [
    "os.listdir('data')"
   ]
  },
  {
   "cell_type": "markdown",
   "metadata": {},
   "source": [
    "Se comienza con el csv que ofrece los datos de la calidad del aire de Madrid. Veamos el aspecto que presentan los datos"
   ]
  },
  {
   "cell_type": "code",
   "execution_count": 3,
   "metadata": {
    "ExecuteTime": {
     "end_time": "2018-12-30T11:10:01.253925Z",
     "start_time": "2018-12-30T11:10:01.139610Z"
    }
   },
   "outputs": [
    {
     "name": "stdout",
     "output_type": "stream",
     "text": [
      "PROVINCIA;MUNICIPIO;ESTACION;MAGNITUD;PUNTO_MUESTREO;ANO;MES;D01;V01;D02;V02;D03;V03;D04;V04;D05;V05;D06;V06;D07;V07;D08;V08;D09;V09;D10;V10;D11;V11;D12;V12;D13;V13;D14;V14;D15;V15;D16;V16;D17;V17;D18;V18;D19;V19;D20;V20;D21;V21;D22;V22;D23;V23;D24;V24;D25;V25;D26;V26;D27;V27;D28;V28;D29;V29;D30;V30;D31;V31\r\n",
      "28;079;4;1;28079004_1_38;2018;01;00001;V;00001;V;00002;V;00001;V;00001;V;00001;V;00001;V;00002;V;00003;V;00001;V;00001;V;00004;V;00002;V;00001;V;00002;V;00003;V;00004;V;00006;V;00006;V;00004;V;00003;V;00005;V;00006;V;00006;V;00005;V;00002;V;00002;V;00002;V;00006;V;00005;V;00006;V\r\n",
      "28;079;4;1;28079004_1_38;2018;02;00005;V;00003;V;00002;V;00001;V;00001;V;00002;V;00003;V;00003;V;00004;V;00003;V;00003;V;00002;V;00003;V;00002;V;00002;V;00003;V;00003;V;00002;V;00003;V;00004;V;00002;V;00004;V;00004;V;00004;V;00005;V;00006;V;00003;V;00002;V00000N00000N00000N\r\n"
     ]
    }
   ],
   "source": [
    "!head -n 3 data/aire18.csv"
   ]
  },
  {
   "cell_type": "code",
   "execution_count": 80,
   "metadata": {
    "ExecuteTime": {
     "end_time": "2018-12-30T11:10:01.308966Z",
     "start_time": "2018-12-30T11:10:01.260571Z"
    }
   },
   "outputs": [],
   "source": [
    "df = pd.read_csv(os.path.join('data', 'aire18.csv'), sep=';')"
   ]
  },
  {
   "cell_type": "code",
   "execution_count": 5,
   "metadata": {
    "ExecuteTime": {
     "end_time": "2018-12-30T11:10:01.331574Z",
     "start_time": "2018-12-30T11:10:01.310978Z"
    }
   },
   "outputs": [
    {
     "data": {
      "text/html": [
       "<div>\n",
       "<style scoped>\n",
       "    .dataframe tbody tr th:only-of-type {\n",
       "        vertical-align: middle;\n",
       "    }\n",
       "\n",
       "    .dataframe tbody tr th {\n",
       "        vertical-align: top;\n",
       "    }\n",
       "\n",
       "    .dataframe thead th {\n",
       "        text-align: right;\n",
       "    }\n",
       "</style>\n",
       "<table border=\"1\" class=\"dataframe\">\n",
       "  <thead>\n",
       "    <tr style=\"text-align: right;\">\n",
       "      <th></th>\n",
       "      <th>PROVINCIA</th>\n",
       "      <th>MUNICIPIO</th>\n",
       "      <th>ESTACION</th>\n",
       "      <th>MAGNITUD</th>\n",
       "      <th>PUNTO_MUESTREO</th>\n",
       "      <th>ANO</th>\n",
       "      <th>MES</th>\n",
       "      <th>D01</th>\n",
       "      <th>V01</th>\n",
       "      <th>D02</th>\n",
       "      <th>...</th>\n",
       "      <th>D27</th>\n",
       "      <th>V27</th>\n",
       "      <th>D28</th>\n",
       "      <th>V28</th>\n",
       "      <th>D29</th>\n",
       "      <th>V29</th>\n",
       "      <th>D30</th>\n",
       "      <th>V30</th>\n",
       "      <th>D31</th>\n",
       "      <th>V31</th>\n",
       "    </tr>\n",
       "  </thead>\n",
       "  <tbody>\n",
       "    <tr>\n",
       "      <th>0</th>\n",
       "      <td>28</td>\n",
       "      <td>79</td>\n",
       "      <td>4</td>\n",
       "      <td>1</td>\n",
       "      <td>28079004_1_38</td>\n",
       "      <td>2018</td>\n",
       "      <td>1</td>\n",
       "      <td>1.0</td>\n",
       "      <td>V</td>\n",
       "      <td>1.0</td>\n",
       "      <td>...</td>\n",
       "      <td>2.0</td>\n",
       "      <td>V</td>\n",
       "      <td>2.0</td>\n",
       "      <td>V</td>\n",
       "      <td>6.0</td>\n",
       "      <td>V</td>\n",
       "      <td>5.0</td>\n",
       "      <td>V</td>\n",
       "      <td>6.0</td>\n",
       "      <td>V</td>\n",
       "    </tr>\n",
       "    <tr>\n",
       "      <th>1</th>\n",
       "      <td>28</td>\n",
       "      <td>79</td>\n",
       "      <td>4</td>\n",
       "      <td>1</td>\n",
       "      <td>28079004_1_38</td>\n",
       "      <td>2018</td>\n",
       "      <td>2</td>\n",
       "      <td>5.0</td>\n",
       "      <td>V</td>\n",
       "      <td>3.0</td>\n",
       "      <td>...</td>\n",
       "      <td>3.0</td>\n",
       "      <td>V</td>\n",
       "      <td>2.0</td>\n",
       "      <td>V00000N00000N00000N</td>\n",
       "      <td>NaN</td>\n",
       "      <td>NaN</td>\n",
       "      <td>NaN</td>\n",
       "      <td>NaN</td>\n",
       "      <td>NaN</td>\n",
       "      <td>NaN</td>\n",
       "    </tr>\n",
       "    <tr>\n",
       "      <th>2</th>\n",
       "      <td>28</td>\n",
       "      <td>79</td>\n",
       "      <td>4</td>\n",
       "      <td>1</td>\n",
       "      <td>28079004_1_38</td>\n",
       "      <td>2018</td>\n",
       "      <td>3</td>\n",
       "      <td>1.0</td>\n",
       "      <td>V</td>\n",
       "      <td>2.0</td>\n",
       "      <td>...</td>\n",
       "      <td>2.0</td>\n",
       "      <td>V</td>\n",
       "      <td>4.0</td>\n",
       "      <td>V</td>\n",
       "      <td>2.0</td>\n",
       "      <td>V</td>\n",
       "      <td>2.0</td>\n",
       "      <td>V</td>\n",
       "      <td>2.0</td>\n",
       "      <td>V</td>\n",
       "    </tr>\n",
       "    <tr>\n",
       "      <th>3</th>\n",
       "      <td>28</td>\n",
       "      <td>79</td>\n",
       "      <td>4</td>\n",
       "      <td>1</td>\n",
       "      <td>28079004_1_38</td>\n",
       "      <td>2018</td>\n",
       "      <td>4</td>\n",
       "      <td>2.0</td>\n",
       "      <td>V</td>\n",
       "      <td>3.0</td>\n",
       "      <td>...</td>\n",
       "      <td>1.0</td>\n",
       "      <td>V</td>\n",
       "      <td>2.0</td>\n",
       "      <td>V</td>\n",
       "      <td>2.0</td>\n",
       "      <td>V</td>\n",
       "      <td>2.0</td>\n",
       "      <td>V00000N</td>\n",
       "      <td>NaN</td>\n",
       "      <td>NaN</td>\n",
       "    </tr>\n",
       "    <tr>\n",
       "      <th>4</th>\n",
       "      <td>28</td>\n",
       "      <td>79</td>\n",
       "      <td>4</td>\n",
       "      <td>1</td>\n",
       "      <td>28079004_1_38</td>\n",
       "      <td>2018</td>\n",
       "      <td>5</td>\n",
       "      <td>2.0</td>\n",
       "      <td>V</td>\n",
       "      <td>2.0</td>\n",
       "      <td>...</td>\n",
       "      <td>2.0</td>\n",
       "      <td>V</td>\n",
       "      <td>2.0</td>\n",
       "      <td>V</td>\n",
       "      <td>3.0</td>\n",
       "      <td>V</td>\n",
       "      <td>2.0</td>\n",
       "      <td>V</td>\n",
       "      <td>2.0</td>\n",
       "      <td>V</td>\n",
       "    </tr>\n",
       "  </tbody>\n",
       "</table>\n",
       "<p>5 rows × 69 columns</p>\n",
       "</div>"
      ],
      "text/plain": [
       "   PROVINCIA  MUNICIPIO  ESTACION  MAGNITUD PUNTO_MUESTREO   ANO  MES  D01  \\\n",
       "0         28         79         4         1  28079004_1_38  2018    1  1.0   \n",
       "1         28         79         4         1  28079004_1_38  2018    2  5.0   \n",
       "2         28         79         4         1  28079004_1_38  2018    3  1.0   \n",
       "3         28         79         4         1  28079004_1_38  2018    4  2.0   \n",
       "4         28         79         4         1  28079004_1_38  2018    5  2.0   \n",
       "\n",
       "  V01  D02 ...   D27  V27  D28                  V28  D29  V29  D30      V30  \\\n",
       "0   V  1.0 ...   2.0    V  2.0                    V  6.0    V  5.0        V   \n",
       "1   V  3.0 ...   3.0    V  2.0  V00000N00000N00000N  NaN  NaN  NaN      NaN   \n",
       "2   V  2.0 ...   2.0    V  4.0                    V  2.0    V  2.0        V   \n",
       "3   V  3.0 ...   1.0    V  2.0                    V  2.0    V  2.0  V00000N   \n",
       "4   V  2.0 ...   2.0    V  2.0                    V  3.0    V  2.0        V   \n",
       "\n",
       "   D31  V31  \n",
       "0  6.0    V  \n",
       "1  NaN  NaN  \n",
       "2  2.0    V  \n",
       "3  NaN  NaN  \n",
       "4  2.0    V  \n",
       "\n",
       "[5 rows x 69 columns]"
      ]
     },
     "execution_count": 5,
     "metadata": {},
     "output_type": "execute_result"
    }
   ],
   "source": [
    "df.head()"
   ]
  },
  {
   "cell_type": "code",
   "execution_count": 6,
   "metadata": {
    "ExecuteTime": {
     "end_time": "2018-12-30T11:10:01.335005Z",
     "start_time": "2018-12-30T11:10:01.332630Z"
    }
   },
   "outputs": [
    {
     "data": {
      "text/plain": [
       "Index(['PROVINCIA', 'MUNICIPIO', 'ESTACION', 'MAGNITUD', 'PUNTO_MUESTREO',\n",
       "       'ANO', 'MES', 'D01', 'V01', 'D02', 'V02', 'D03', 'V03', 'D04', 'V04',\n",
       "       'D05', 'V05', 'D06', 'V06', 'D07', 'V07', 'D08', 'V08', 'D09', 'V09',\n",
       "       'D10', 'V10', 'D11', 'V11', 'D12', 'V12', 'D13', 'V13', 'D14', 'V14',\n",
       "       'D15', 'V15', 'D16', 'V16', 'D17', 'V17', 'D18', 'V18', 'D19', 'V19',\n",
       "       'D20', 'V20', 'D21', 'V21', 'D22', 'V22', 'D23', 'V23', 'D24', 'V24',\n",
       "       'D25', 'V25', 'D26', 'V26', 'D27', 'V27', 'D28', 'V28', 'D29', 'V29',\n",
       "       'D30', 'V30', 'D31', 'V31'],\n",
       "      dtype='object')"
      ]
     },
     "execution_count": 6,
     "metadata": {},
     "output_type": "execute_result"
    }
   ],
   "source": [
    "df.columns"
   ]
  },
  {
   "cell_type": "markdown",
   "metadata": {},
   "source": [
    "Se definen los siguientes boooleanos para estudiar si el argumento D o V va seguido de dos dígitos"
   ]
  },
  {
   "cell_type": "code",
   "execution_count": 7,
   "metadata": {
    "ExecuteTime": {
     "end_time": "2018-12-30T11:10:01.340214Z",
     "start_time": "2018-12-30T11:10:01.336091Z"
    }
   },
   "outputs": [
    {
     "data": {
      "text/plain": [
       "(True, True)"
      ]
     },
     "execution_count": 7,
     "metadata": {},
     "output_type": "execute_result"
    }
   ],
   "source": [
    "import re\n",
    "\n",
    "day_regexp = re.compile('D\\d{2}')\n",
    "valid_regexp = re.compile('V\\d{2}')\n",
    "bool(day_regexp.search('D23')), bool(valid_regexp.search('V03'))"
   ]
  },
  {
   "cell_type": "code",
   "execution_count": 8,
   "metadata": {
    "ExecuteTime": {
     "end_time": "2018-12-30T11:10:01.345448Z",
     "start_time": "2018-12-30T11:10:01.341183Z"
    }
   },
   "outputs": [
    {
     "data": {
      "text/plain": [
       "False"
      ]
     },
     "execution_count": 8,
     "metadata": {},
     "output_type": "execute_result"
    }
   ],
   "source": [
    "bool(day_regexp.search('MUNICIPIO'))"
   ]
  },
  {
   "cell_type": "markdown",
   "metadata": {},
   "source": [
    "Se crean dos listas con los nombres de los días y sus validaciones"
   ]
  },
  {
   "cell_type": "code",
   "execution_count": 81,
   "metadata": {
    "ExecuteTime": {
     "end_time": "2018-12-30T11:10:01.351670Z",
     "start_time": "2018-12-30T11:10:01.346431Z"
    }
   },
   "outputs": [
    {
     "data": {
      "text/plain": [
       "['D01', 'D02', 'D03', 'D04', 'D05', 'D06', 'D07', 'D08', 'D09', 'D10']"
      ]
     },
     "execution_count": 81,
     "metadata": {},
     "output_type": "execute_result"
    }
   ],
   "source": [
    "ID_VARS = ['PROVINCIA', 'MUNICIPIO', 'ESTACION', 'MAGNITUD', 'PUNTO_MUESTREO',\n",
    "           'ANO', 'MES']\n",
    "DAY_VARS = [name for name in df.columns if day_regexp.search(name)]\n",
    "IS_VALID_VARS = [name for name in df.columns if valid_regexp.search(name)]\n",
    "DAY_VARS[:10]"
   ]
  },
  {
   "cell_type": "markdown",
   "metadata": {},
   "source": [
    "Con el siguiente bucle se consigue que si en la validación del día i tenemos un valor distinto de 'V', entonces en el día i su valor será NaN."
   ]
  },
  {
   "cell_type": "code",
   "execution_count": 82,
   "metadata": {
    "ExecuteTime": {
     "end_time": "2018-12-30T11:10:01.436530Z",
     "start_time": "2018-12-30T11:10:01.352872Z"
    }
   },
   "outputs": [],
   "source": [
    "for col in DAY_VARS:\n",
    "    verification_col = col.replace('D', 'V')\n",
    "    bool_col = df[verification_col].eq('V').map(np.invert)\n",
    "    df.loc[bool_col, col] = np.nan"
   ]
  },
  {
   "cell_type": "code",
   "execution_count": 83,
   "metadata": {
    "ExecuteTime": {
     "end_time": "2018-12-30T11:10:01.454758Z",
     "start_time": "2018-12-30T11:10:01.437717Z"
    }
   },
   "outputs": [
    {
     "data": {
      "text/html": [
       "<div>\n",
       "<style scoped>\n",
       "    .dataframe tbody tr th:only-of-type {\n",
       "        vertical-align: middle;\n",
       "    }\n",
       "\n",
       "    .dataframe tbody tr th {\n",
       "        vertical-align: top;\n",
       "    }\n",
       "\n",
       "    .dataframe thead th {\n",
       "        text-align: right;\n",
       "    }\n",
       "</style>\n",
       "<table border=\"1\" class=\"dataframe\">\n",
       "  <thead>\n",
       "    <tr style=\"text-align: right;\">\n",
       "      <th></th>\n",
       "      <th>PROVINCIA</th>\n",
       "      <th>MUNICIPIO</th>\n",
       "      <th>ESTACION</th>\n",
       "      <th>MAGNITUD</th>\n",
       "      <th>PUNTO_MUESTREO</th>\n",
       "      <th>ANO</th>\n",
       "      <th>MES</th>\n",
       "      <th>D01</th>\n",
       "      <th>V01</th>\n",
       "      <th>D02</th>\n",
       "      <th>...</th>\n",
       "      <th>D27</th>\n",
       "      <th>V27</th>\n",
       "      <th>D28</th>\n",
       "      <th>V28</th>\n",
       "      <th>D29</th>\n",
       "      <th>V29</th>\n",
       "      <th>D30</th>\n",
       "      <th>V30</th>\n",
       "      <th>D31</th>\n",
       "      <th>V31</th>\n",
       "    </tr>\n",
       "  </thead>\n",
       "  <tbody>\n",
       "    <tr>\n",
       "      <th>0</th>\n",
       "      <td>28</td>\n",
       "      <td>79</td>\n",
       "      <td>4</td>\n",
       "      <td>1</td>\n",
       "      <td>28079004_1_38</td>\n",
       "      <td>2018</td>\n",
       "      <td>1</td>\n",
       "      <td>1.0</td>\n",
       "      <td>V</td>\n",
       "      <td>1.0</td>\n",
       "      <td>...</td>\n",
       "      <td>2.0</td>\n",
       "      <td>V</td>\n",
       "      <td>2.0</td>\n",
       "      <td>V</td>\n",
       "      <td>6.0</td>\n",
       "      <td>V</td>\n",
       "      <td>5.0</td>\n",
       "      <td>V</td>\n",
       "      <td>6.0</td>\n",
       "      <td>V</td>\n",
       "    </tr>\n",
       "    <tr>\n",
       "      <th>1</th>\n",
       "      <td>28</td>\n",
       "      <td>79</td>\n",
       "      <td>4</td>\n",
       "      <td>1</td>\n",
       "      <td>28079004_1_38</td>\n",
       "      <td>2018</td>\n",
       "      <td>2</td>\n",
       "      <td>5.0</td>\n",
       "      <td>V</td>\n",
       "      <td>3.0</td>\n",
       "      <td>...</td>\n",
       "      <td>3.0</td>\n",
       "      <td>V</td>\n",
       "      <td>NaN</td>\n",
       "      <td>V00000N00000N00000N</td>\n",
       "      <td>NaN</td>\n",
       "      <td>NaN</td>\n",
       "      <td>NaN</td>\n",
       "      <td>NaN</td>\n",
       "      <td>NaN</td>\n",
       "      <td>NaN</td>\n",
       "    </tr>\n",
       "    <tr>\n",
       "      <th>2</th>\n",
       "      <td>28</td>\n",
       "      <td>79</td>\n",
       "      <td>4</td>\n",
       "      <td>1</td>\n",
       "      <td>28079004_1_38</td>\n",
       "      <td>2018</td>\n",
       "      <td>3</td>\n",
       "      <td>1.0</td>\n",
       "      <td>V</td>\n",
       "      <td>2.0</td>\n",
       "      <td>...</td>\n",
       "      <td>2.0</td>\n",
       "      <td>V</td>\n",
       "      <td>4.0</td>\n",
       "      <td>V</td>\n",
       "      <td>2.0</td>\n",
       "      <td>V</td>\n",
       "      <td>2.0</td>\n",
       "      <td>V</td>\n",
       "      <td>2.0</td>\n",
       "      <td>V</td>\n",
       "    </tr>\n",
       "    <tr>\n",
       "      <th>3</th>\n",
       "      <td>28</td>\n",
       "      <td>79</td>\n",
       "      <td>4</td>\n",
       "      <td>1</td>\n",
       "      <td>28079004_1_38</td>\n",
       "      <td>2018</td>\n",
       "      <td>4</td>\n",
       "      <td>2.0</td>\n",
       "      <td>V</td>\n",
       "      <td>3.0</td>\n",
       "      <td>...</td>\n",
       "      <td>1.0</td>\n",
       "      <td>V</td>\n",
       "      <td>2.0</td>\n",
       "      <td>V</td>\n",
       "      <td>2.0</td>\n",
       "      <td>V</td>\n",
       "      <td>NaN</td>\n",
       "      <td>V00000N</td>\n",
       "      <td>NaN</td>\n",
       "      <td>NaN</td>\n",
       "    </tr>\n",
       "    <tr>\n",
       "      <th>4</th>\n",
       "      <td>28</td>\n",
       "      <td>79</td>\n",
       "      <td>4</td>\n",
       "      <td>1</td>\n",
       "      <td>28079004_1_38</td>\n",
       "      <td>2018</td>\n",
       "      <td>5</td>\n",
       "      <td>2.0</td>\n",
       "      <td>V</td>\n",
       "      <td>2.0</td>\n",
       "      <td>...</td>\n",
       "      <td>2.0</td>\n",
       "      <td>V</td>\n",
       "      <td>2.0</td>\n",
       "      <td>V</td>\n",
       "      <td>3.0</td>\n",
       "      <td>V</td>\n",
       "      <td>2.0</td>\n",
       "      <td>V</td>\n",
       "      <td>2.0</td>\n",
       "      <td>V</td>\n",
       "    </tr>\n",
       "  </tbody>\n",
       "</table>\n",
       "<p>5 rows × 69 columns</p>\n",
       "</div>"
      ],
      "text/plain": [
       "   PROVINCIA  MUNICIPIO  ESTACION  MAGNITUD PUNTO_MUESTREO   ANO  MES  D01  \\\n",
       "0         28         79         4         1  28079004_1_38  2018    1  1.0   \n",
       "1         28         79         4         1  28079004_1_38  2018    2  5.0   \n",
       "2         28         79         4         1  28079004_1_38  2018    3  1.0   \n",
       "3         28         79         4         1  28079004_1_38  2018    4  2.0   \n",
       "4         28         79         4         1  28079004_1_38  2018    5  2.0   \n",
       "\n",
       "  V01  D02 ...   D27  V27  D28                  V28  D29  V29  D30      V30  \\\n",
       "0   V  1.0 ...   2.0    V  2.0                    V  6.0    V  5.0        V   \n",
       "1   V  3.0 ...   3.0    V  NaN  V00000N00000N00000N  NaN  NaN  NaN      NaN   \n",
       "2   V  2.0 ...   2.0    V  4.0                    V  2.0    V  2.0        V   \n",
       "3   V  3.0 ...   1.0    V  2.0                    V  2.0    V  NaN  V00000N   \n",
       "4   V  2.0 ...   2.0    V  2.0                    V  3.0    V  2.0        V   \n",
       "\n",
       "   D31  V31  \n",
       "0  6.0    V  \n",
       "1  NaN  NaN  \n",
       "2  2.0    V  \n",
       "3  NaN  NaN  \n",
       "4  2.0    V  \n",
       "\n",
       "[5 rows x 69 columns]"
      ]
     },
     "execution_count": 83,
     "metadata": {},
     "output_type": "execute_result"
    }
   ],
   "source": [
    "df.head()"
   ]
  },
  {
   "cell_type": "markdown",
   "metadata": {},
   "source": [
    "Con la función melt se reforman las fechas del csv original. Se consigue que éstos aparezcan en una sóla columna, junto a otra columna (CONTAMINACION_AIRE) con los valores de la magnitud del parámetro de contaminación medido para tal técnica de medida utilizada en ese punto de muestreo."
   ]
  },
  {
   "cell_type": "code",
   "execution_count": 84,
   "metadata": {
    "ExecuteTime": {
     "end_time": "2018-12-30T11:10:01.702362Z",
     "start_time": "2018-12-30T11:10:01.455893Z"
    }
   },
   "outputs": [
    {
     "data": {
      "text/html": [
       "<div>\n",
       "<style scoped>\n",
       "    .dataframe tbody tr th:only-of-type {\n",
       "        vertical-align: middle;\n",
       "    }\n",
       "\n",
       "    .dataframe tbody tr th {\n",
       "        vertical-align: top;\n",
       "    }\n",
       "\n",
       "    .dataframe thead th {\n",
       "        text-align: right;\n",
       "    }\n",
       "</style>\n",
       "<table border=\"1\" class=\"dataframe\">\n",
       "  <thead>\n",
       "    <tr style=\"text-align: right;\">\n",
       "      <th></th>\n",
       "      <th>PROVINCIA</th>\n",
       "      <th>MUNICIPIO</th>\n",
       "      <th>ESTACION</th>\n",
       "      <th>MAGNITUD</th>\n",
       "      <th>PUNTO_MUESTREO</th>\n",
       "      <th>ANO</th>\n",
       "      <th>MES</th>\n",
       "      <th>DAY</th>\n",
       "      <th>CONTAMINACION_AIRE</th>\n",
       "      <th>date</th>\n",
       "    </tr>\n",
       "  </thead>\n",
       "  <tbody>\n",
       "    <tr>\n",
       "      <th>40</th>\n",
       "      <td>28</td>\n",
       "      <td>79</td>\n",
       "      <td>4</td>\n",
       "      <td>12</td>\n",
       "      <td>28079004_12_8</td>\n",
       "      <td>2018</td>\n",
       "      <td>1</td>\n",
       "      <td>1</td>\n",
       "      <td>24.0</td>\n",
       "      <td>2018-01-01</td>\n",
       "    </tr>\n",
       "    <tr>\n",
       "      <th>1544</th>\n",
       "      <td>28</td>\n",
       "      <td>79</td>\n",
       "      <td>4</td>\n",
       "      <td>12</td>\n",
       "      <td>28079004_12_8</td>\n",
       "      <td>2018</td>\n",
       "      <td>1</td>\n",
       "      <td>2</td>\n",
       "      <td>38.0</td>\n",
       "      <td>2018-01-02</td>\n",
       "    </tr>\n",
       "    <tr>\n",
       "      <th>3048</th>\n",
       "      <td>28</td>\n",
       "      <td>79</td>\n",
       "      <td>4</td>\n",
       "      <td>12</td>\n",
       "      <td>28079004_12_8</td>\n",
       "      <td>2018</td>\n",
       "      <td>1</td>\n",
       "      <td>3</td>\n",
       "      <td>63.0</td>\n",
       "      <td>2018-01-03</td>\n",
       "    </tr>\n",
       "    <tr>\n",
       "      <th>4552</th>\n",
       "      <td>28</td>\n",
       "      <td>79</td>\n",
       "      <td>4</td>\n",
       "      <td>12</td>\n",
       "      <td>28079004_12_8</td>\n",
       "      <td>2018</td>\n",
       "      <td>1</td>\n",
       "      <td>4</td>\n",
       "      <td>38.0</td>\n",
       "      <td>2018-01-04</td>\n",
       "    </tr>\n",
       "    <tr>\n",
       "      <th>6056</th>\n",
       "      <td>28</td>\n",
       "      <td>79</td>\n",
       "      <td>4</td>\n",
       "      <td>12</td>\n",
       "      <td>28079004_12_8</td>\n",
       "      <td>2018</td>\n",
       "      <td>1</td>\n",
       "      <td>5</td>\n",
       "      <td>43.0</td>\n",
       "      <td>2018-01-05</td>\n",
       "    </tr>\n",
       "  </tbody>\n",
       "</table>\n",
       "</div>"
      ],
      "text/plain": [
       "      PROVINCIA  MUNICIPIO  ESTACION  MAGNITUD PUNTO_MUESTREO   ANO  MES  DAY  \\\n",
       "40           28         79         4        12  28079004_12_8  2018    1    1   \n",
       "1544         28         79         4        12  28079004_12_8  2018    1    2   \n",
       "3048         28         79         4        12  28079004_12_8  2018    1    3   \n",
       "4552         28         79         4        12  28079004_12_8  2018    1    4   \n",
       "6056         28         79         4        12  28079004_12_8  2018    1    5   \n",
       "\n",
       "      CONTAMINACION_AIRE       date  \n",
       "40                  24.0 2018-01-01  \n",
       "1544                38.0 2018-01-02  \n",
       "3048                63.0 2018-01-03  \n",
       "4552                38.0 2018-01-04  \n",
       "6056                43.0 2018-01-05  "
      ]
     },
     "execution_count": 84,
     "metadata": {},
     "output_type": "execute_result"
    }
   ],
   "source": [
    "day_df = pd.melt(df, var_name='DAY', value_name='CONTAMINACION_AIRE',\n",
    "                 col_level=0,\n",
    "                 id_vars=ID_VARS,\n",
    "                 value_vars=DAY_VARS)\n",
    "\n",
    "day_df.DAY = day_df.DAY.str.replace('\\D', '').astype('int')\n",
    "day_df['date'] = (day_df.ANO.astype('str') + \n",
    "                  day_df.MES.astype('str').str.zfill(2) + \n",
    "                  day_df.DAY.astype('str').str.zfill(2))\n",
    "\n",
    "day_df.date = pd.to_datetime(day_df.date, format=\"%Y%m%d\", errors='coerce')\n",
    "day_df.dropna(subset=['date'], inplace=True)\n",
    "\n",
    "day_df.sort_values(['PUNTO_MUESTREO', 'date', 'CONTAMINACION_AIRE'], inplace=True)\n",
    "day_df.head()"
   ]
  },
  {
   "cell_type": "markdown",
   "metadata": {},
   "source": [
    "Comprobemos que no hay ningún NaN en date, ya que se han borrado los días finales no existentes en algunos meses, como por ejemplo el 31 de Febreo."
   ]
  },
  {
   "cell_type": "code",
   "execution_count": 85,
   "metadata": {
    "ExecuteTime": {
     "end_time": "2018-12-30T11:10:01.706273Z",
     "start_time": "2018-12-30T11:10:01.703486Z"
    }
   },
   "outputs": [
    {
     "data": {
      "text/plain": [
       "0"
      ]
     },
     "execution_count": 85,
     "metadata": {},
     "output_type": "execute_result"
    }
   ],
   "source": [
    "day_df.date.isnull().sum()"
   ]
  },
  {
   "cell_type": "markdown",
   "metadata": {},
   "source": [
    "Estudiemos los nan para el todas las variables"
   ]
  },
  {
   "cell_type": "code",
   "execution_count": 12,
   "metadata": {},
   "outputs": [
    {
     "data": {
      "text/plain": [
       "PROVINCIA                0\n",
       "MUNICIPIO                0\n",
       "ESTACION                 0\n",
       "MAGNITUD                 0\n",
       "PUNTO_MUESTREO           0\n",
       "ANO                      0\n",
       "MES                      0\n",
       "DAY                      0\n",
       "CONTAMINACION_AIRE    1012\n",
       "date                     0\n",
       "dtype: int64"
      ]
     },
     "execution_count": 12,
     "metadata": {},
     "output_type": "execute_result"
    }
   ],
   "source": [
    "day_df.isnull().sum()"
   ]
  },
  {
   "cell_type": "markdown",
   "metadata": {},
   "source": [
    "Luego en este dataset correspondiente al año 2018 encontramos NaNs en el campo correspondiente a la contaminación del aire. Se selecciona el mes de Octubre, para que los resultados tengan concordancia con los datos del tráfico"
   ]
  },
  {
   "cell_type": "code",
   "execution_count": 86,
   "metadata": {},
   "outputs": [
    {
     "name": "stdout",
     "output_type": "stream",
     "text": [
      "(45721, 10)\n",
      "(4681, 10)\n"
     ]
    }
   ],
   "source": [
    "print(day_df.shape)\n",
    "oct_df = day_df.loc[day_df.MES.eq(10)]\n",
    "print(oct_df.shape)"
   ]
  },
  {
   "cell_type": "markdown",
   "metadata": {},
   "source": [
    "Se agrupa por punto de muestro y date"
   ]
  },
  {
   "cell_type": "code",
   "execution_count": 87,
   "metadata": {},
   "outputs": [
    {
     "data": {
      "text/html": [
       "<div>\n",
       "<style scoped>\n",
       "    .dataframe tbody tr th:only-of-type {\n",
       "        vertical-align: middle;\n",
       "    }\n",
       "\n",
       "    .dataframe tbody tr th {\n",
       "        vertical-align: top;\n",
       "    }\n",
       "\n",
       "    .dataframe thead th {\n",
       "        text-align: right;\n",
       "    }\n",
       "</style>\n",
       "<table border=\"1\" class=\"dataframe\">\n",
       "  <thead>\n",
       "    <tr style=\"text-align: right;\">\n",
       "      <th></th>\n",
       "      <th></th>\n",
       "      <th>PROVINCIA</th>\n",
       "      <th>MUNICIPIO</th>\n",
       "      <th>ESTACION</th>\n",
       "      <th>MAGNITUD</th>\n",
       "      <th>ANO</th>\n",
       "      <th>MES</th>\n",
       "      <th>DAY</th>\n",
       "      <th>CONTAMINACION_AIRE</th>\n",
       "    </tr>\n",
       "    <tr>\n",
       "      <th>PUNTO_MUESTREO</th>\n",
       "      <th>date</th>\n",
       "      <th></th>\n",
       "      <th></th>\n",
       "      <th></th>\n",
       "      <th></th>\n",
       "      <th></th>\n",
       "      <th></th>\n",
       "      <th></th>\n",
       "      <th></th>\n",
       "    </tr>\n",
       "  </thead>\n",
       "  <tbody>\n",
       "    <tr>\n",
       "      <th rowspan=\"5\" valign=\"top\">28079004_12_8</th>\n",
       "      <th>2018-10-01</th>\n",
       "      <td>28</td>\n",
       "      <td>79</td>\n",
       "      <td>4</td>\n",
       "      <td>12</td>\n",
       "      <td>2018</td>\n",
       "      <td>10</td>\n",
       "      <td>1</td>\n",
       "      <td>57.0</td>\n",
       "    </tr>\n",
       "    <tr>\n",
       "      <th>2018-10-02</th>\n",
       "      <td>28</td>\n",
       "      <td>79</td>\n",
       "      <td>4</td>\n",
       "      <td>12</td>\n",
       "      <td>2018</td>\n",
       "      <td>10</td>\n",
       "      <td>2</td>\n",
       "      <td>119.0</td>\n",
       "    </tr>\n",
       "    <tr>\n",
       "      <th>2018-10-03</th>\n",
       "      <td>28</td>\n",
       "      <td>79</td>\n",
       "      <td>4</td>\n",
       "      <td>12</td>\n",
       "      <td>2018</td>\n",
       "      <td>10</td>\n",
       "      <td>3</td>\n",
       "      <td>167.0</td>\n",
       "    </tr>\n",
       "    <tr>\n",
       "      <th>2018-10-04</th>\n",
       "      <td>28</td>\n",
       "      <td>79</td>\n",
       "      <td>4</td>\n",
       "      <td>12</td>\n",
       "      <td>2018</td>\n",
       "      <td>10</td>\n",
       "      <td>4</td>\n",
       "      <td>216.0</td>\n",
       "    </tr>\n",
       "    <tr>\n",
       "      <th>2018-10-05</th>\n",
       "      <td>28</td>\n",
       "      <td>79</td>\n",
       "      <td>4</td>\n",
       "      <td>12</td>\n",
       "      <td>2018</td>\n",
       "      <td>10</td>\n",
       "      <td>5</td>\n",
       "      <td>194.0</td>\n",
       "    </tr>\n",
       "  </tbody>\n",
       "</table>\n",
       "</div>"
      ],
      "text/plain": [
       "                           PROVINCIA  MUNICIPIO  ESTACION  MAGNITUD   ANO  \\\n",
       "PUNTO_MUESTREO date                                                         \n",
       "28079004_12_8  2018-10-01         28         79         4        12  2018   \n",
       "               2018-10-02         28         79         4        12  2018   \n",
       "               2018-10-03         28         79         4        12  2018   \n",
       "               2018-10-04         28         79         4        12  2018   \n",
       "               2018-10-05         28         79         4        12  2018   \n",
       "\n",
       "                           MES  DAY  CONTAMINACION_AIRE  \n",
       "PUNTO_MUESTREO date                                      \n",
       "28079004_12_8  2018-10-01   10    1                57.0  \n",
       "               2018-10-02   10    2               119.0  \n",
       "               2018-10-03   10    3               167.0  \n",
       "               2018-10-04   10    4               216.0  \n",
       "               2018-10-05   10    5               194.0  "
      ]
     },
     "execution_count": 87,
     "metadata": {},
     "output_type": "execute_result"
    }
   ],
   "source": [
    "final_df = oct_df.groupby(['PUNTO_MUESTREO', 'date']).mean()\n",
    "final_df.head()"
   ]
  },
  {
   "cell_type": "markdown",
   "metadata": {},
   "source": [
    "Al seleccionar este mes, se ha pasado de 1012 NaN a 36, en el campo ONTAMINACION_AIRE"
   ]
  },
  {
   "cell_type": "code",
   "execution_count": 88,
   "metadata": {
    "ExecuteTime": {
     "end_time": "2018-12-30T11:10:01.740749Z",
     "start_time": "2018-12-30T11:10:01.713717Z"
    }
   },
   "outputs": [
    {
     "data": {
      "text/plain": [
       "36"
      ]
     },
     "execution_count": 88,
     "metadata": {},
     "output_type": "execute_result"
    }
   ],
   "source": [
    "final_df.CONTAMINACION_AIRE.isnull().sum()"
   ]
  },
  {
   "cell_type": "code",
   "execution_count": 89,
   "metadata": {},
   "outputs": [
    {
     "data": {
      "text/html": [
       "<div>\n",
       "<style scoped>\n",
       "    .dataframe tbody tr th:only-of-type {\n",
       "        vertical-align: middle;\n",
       "    }\n",
       "\n",
       "    .dataframe tbody tr th {\n",
       "        vertical-align: top;\n",
       "    }\n",
       "\n",
       "    .dataframe thead th {\n",
       "        text-align: right;\n",
       "    }\n",
       "</style>\n",
       "<table border=\"1\" class=\"dataframe\">\n",
       "  <thead>\n",
       "    <tr style=\"text-align: right;\">\n",
       "      <th></th>\n",
       "      <th>punto_muestreo</th>\n",
       "      <th>date</th>\n",
       "      <th>provincia</th>\n",
       "      <th>municipio</th>\n",
       "      <th>estacion</th>\n",
       "      <th>magnitud</th>\n",
       "      <th>ano</th>\n",
       "      <th>mes</th>\n",
       "      <th>day</th>\n",
       "      <th>contaminacion_aire</th>\n",
       "    </tr>\n",
       "  </thead>\n",
       "  <tbody>\n",
       "    <tr>\n",
       "      <th>0</th>\n",
       "      <td>28079004_12_8</td>\n",
       "      <td>2018-10-01</td>\n",
       "      <td>28</td>\n",
       "      <td>79</td>\n",
       "      <td>4</td>\n",
       "      <td>12</td>\n",
       "      <td>2018</td>\n",
       "      <td>10</td>\n",
       "      <td>1</td>\n",
       "      <td>57.0</td>\n",
       "    </tr>\n",
       "    <tr>\n",
       "      <th>1</th>\n",
       "      <td>28079004_12_8</td>\n",
       "      <td>2018-10-02</td>\n",
       "      <td>28</td>\n",
       "      <td>79</td>\n",
       "      <td>4</td>\n",
       "      <td>12</td>\n",
       "      <td>2018</td>\n",
       "      <td>10</td>\n",
       "      <td>2</td>\n",
       "      <td>119.0</td>\n",
       "    </tr>\n",
       "    <tr>\n",
       "      <th>2</th>\n",
       "      <td>28079004_12_8</td>\n",
       "      <td>2018-10-03</td>\n",
       "      <td>28</td>\n",
       "      <td>79</td>\n",
       "      <td>4</td>\n",
       "      <td>12</td>\n",
       "      <td>2018</td>\n",
       "      <td>10</td>\n",
       "      <td>3</td>\n",
       "      <td>167.0</td>\n",
       "    </tr>\n",
       "    <tr>\n",
       "      <th>3</th>\n",
       "      <td>28079004_12_8</td>\n",
       "      <td>2018-10-04</td>\n",
       "      <td>28</td>\n",
       "      <td>79</td>\n",
       "      <td>4</td>\n",
       "      <td>12</td>\n",
       "      <td>2018</td>\n",
       "      <td>10</td>\n",
       "      <td>4</td>\n",
       "      <td>216.0</td>\n",
       "    </tr>\n",
       "    <tr>\n",
       "      <th>4</th>\n",
       "      <td>28079004_12_8</td>\n",
       "      <td>2018-10-05</td>\n",
       "      <td>28</td>\n",
       "      <td>79</td>\n",
       "      <td>4</td>\n",
       "      <td>12</td>\n",
       "      <td>2018</td>\n",
       "      <td>10</td>\n",
       "      <td>5</td>\n",
       "      <td>194.0</td>\n",
       "    </tr>\n",
       "  </tbody>\n",
       "</table>\n",
       "</div>"
      ],
      "text/plain": [
       "  punto_muestreo       date  provincia  municipio  estacion  magnitud   ano  \\\n",
       "0  28079004_12_8 2018-10-01         28         79         4        12  2018   \n",
       "1  28079004_12_8 2018-10-02         28         79         4        12  2018   \n",
       "2  28079004_12_8 2018-10-03         28         79         4        12  2018   \n",
       "3  28079004_12_8 2018-10-04         28         79         4        12  2018   \n",
       "4  28079004_12_8 2018-10-05         28         79         4        12  2018   \n",
       "\n",
       "   mes  day  contaminacion_aire  \n",
       "0   10    1                57.0  \n",
       "1   10    2               119.0  \n",
       "2   10    3               167.0  \n",
       "3   10    4               216.0  \n",
       "4   10    5               194.0  "
      ]
     },
     "execution_count": 89,
     "metadata": {},
     "output_type": "execute_result"
    }
   ],
   "source": [
    "final_df = final_df.reset_index()\n",
    "final_df.columns = final_df.columns.str.lower()\n",
    "final_df.head()"
   ]
  },
  {
   "cell_type": "markdown",
   "metadata": {},
   "source": [
    "De nuevo, para la comparabilidad de resultados con el dataset del tráfico, se selecciona un punto de muestreo común en ambos conjuntos de datos. Buscando información, vemos que se repite la recogida de datos por los sensorees tanto en Moratalaz como en Vallecas. Seleccionemos el primero."
   ]
  },
  {
   "cell_type": "markdown",
   "metadata": {},
   "source": [
    "Añadimos una columna con el primer término (anterior a _) del punto de muestreo y a partir de ella podríamos seleccionar el punto de muestreo de Moratalaz, con valor 28079036"
   ]
  },
  {
   "cell_type": "code",
   "execution_count": 91,
   "metadata": {
    "ExecuteTime": {
     "end_time": "2018-12-30T11:10:07.200532Z",
     "start_time": "2018-12-30T11:10:07.139505Z"
    }
   },
   "outputs": [],
   "source": [
    "final_df['punto_muestreo_main'] = final_df.punto_muestreo.str.split('_', expand=True)[0]"
   ]
  },
  {
   "cell_type": "code",
   "execution_count": 92,
   "metadata": {
    "ExecuteTime": {
     "end_time": "2018-12-30T11:10:07.210717Z",
     "start_time": "2018-12-30T11:10:07.201985Z"
    }
   },
   "outputs": [
    {
     "data": {
      "text/html": [
       "<div>\n",
       "<style scoped>\n",
       "    .dataframe tbody tr th:only-of-type {\n",
       "        vertical-align: middle;\n",
       "    }\n",
       "\n",
       "    .dataframe tbody tr th {\n",
       "        vertical-align: top;\n",
       "    }\n",
       "\n",
       "    .dataframe thead th {\n",
       "        text-align: right;\n",
       "    }\n",
       "</style>\n",
       "<table border=\"1\" class=\"dataframe\">\n",
       "  <thead>\n",
       "    <tr style=\"text-align: right;\">\n",
       "      <th></th>\n",
       "      <th>punto_muestreo</th>\n",
       "      <th>date</th>\n",
       "      <th>provincia</th>\n",
       "      <th>municipio</th>\n",
       "      <th>estacion</th>\n",
       "      <th>magnitud</th>\n",
       "      <th>ano</th>\n",
       "      <th>mes</th>\n",
       "      <th>day</th>\n",
       "      <th>contaminacion_aire</th>\n",
       "      <th>punto_muestreo_main</th>\n",
       "    </tr>\n",
       "  </thead>\n",
       "  <tbody>\n",
       "    <tr>\n",
       "      <th>0</th>\n",
       "      <td>28079004_12_8</td>\n",
       "      <td>2018-10-01</td>\n",
       "      <td>28</td>\n",
       "      <td>79</td>\n",
       "      <td>4</td>\n",
       "      <td>12</td>\n",
       "      <td>2018</td>\n",
       "      <td>10</td>\n",
       "      <td>1</td>\n",
       "      <td>57.0</td>\n",
       "      <td>28079004</td>\n",
       "    </tr>\n",
       "    <tr>\n",
       "      <th>1</th>\n",
       "      <td>28079004_12_8</td>\n",
       "      <td>2018-10-02</td>\n",
       "      <td>28</td>\n",
       "      <td>79</td>\n",
       "      <td>4</td>\n",
       "      <td>12</td>\n",
       "      <td>2018</td>\n",
       "      <td>10</td>\n",
       "      <td>2</td>\n",
       "      <td>119.0</td>\n",
       "      <td>28079004</td>\n",
       "    </tr>\n",
       "    <tr>\n",
       "      <th>2</th>\n",
       "      <td>28079004_12_8</td>\n",
       "      <td>2018-10-03</td>\n",
       "      <td>28</td>\n",
       "      <td>79</td>\n",
       "      <td>4</td>\n",
       "      <td>12</td>\n",
       "      <td>2018</td>\n",
       "      <td>10</td>\n",
       "      <td>3</td>\n",
       "      <td>167.0</td>\n",
       "      <td>28079004</td>\n",
       "    </tr>\n",
       "    <tr>\n",
       "      <th>3</th>\n",
       "      <td>28079004_12_8</td>\n",
       "      <td>2018-10-04</td>\n",
       "      <td>28</td>\n",
       "      <td>79</td>\n",
       "      <td>4</td>\n",
       "      <td>12</td>\n",
       "      <td>2018</td>\n",
       "      <td>10</td>\n",
       "      <td>4</td>\n",
       "      <td>216.0</td>\n",
       "      <td>28079004</td>\n",
       "    </tr>\n",
       "    <tr>\n",
       "      <th>4</th>\n",
       "      <td>28079004_12_8</td>\n",
       "      <td>2018-10-05</td>\n",
       "      <td>28</td>\n",
       "      <td>79</td>\n",
       "      <td>4</td>\n",
       "      <td>12</td>\n",
       "      <td>2018</td>\n",
       "      <td>10</td>\n",
       "      <td>5</td>\n",
       "      <td>194.0</td>\n",
       "      <td>28079004</td>\n",
       "    </tr>\n",
       "  </tbody>\n",
       "</table>\n",
       "</div>"
      ],
      "text/plain": [
       "  punto_muestreo       date  provincia  municipio  estacion  magnitud   ano  \\\n",
       "0  28079004_12_8 2018-10-01         28         79         4        12  2018   \n",
       "1  28079004_12_8 2018-10-02         28         79         4        12  2018   \n",
       "2  28079004_12_8 2018-10-03         28         79         4        12  2018   \n",
       "3  28079004_12_8 2018-10-04         28         79         4        12  2018   \n",
       "4  28079004_12_8 2018-10-05         28         79         4        12  2018   \n",
       "\n",
       "   mes  day  contaminacion_aire punto_muestreo_main  \n",
       "0   10    1                57.0            28079004  \n",
       "1   10    2               119.0            28079004  \n",
       "2   10    3               167.0            28079004  \n",
       "3   10    4               216.0            28079004  \n",
       "4   10    5               194.0            28079004  "
      ]
     },
     "execution_count": 92,
     "metadata": {},
     "output_type": "execute_result"
    }
   ],
   "source": [
    "final_df.head()"
   ]
  },
  {
   "cell_type": "code",
   "execution_count": 93,
   "metadata": {
    "ExecuteTime": {
     "end_time": "2018-12-30T11:10:07.220461Z",
     "start_time": "2018-12-30T11:10:07.212072Z"
    }
   },
   "outputs": [
    {
     "name": "stdout",
     "output_type": "stream",
     "text": [
      "(4681, 11)\n",
      "(186, 11)\n"
     ]
    }
   ],
   "source": [
    "print(final_df.shape)\n",
    "final_df = final_df.loc[final_df.punto_muestreo_main.eq('28079036')]\n",
    "print(final_df.shape)"
   ]
  },
  {
   "cell_type": "markdown",
   "metadata": {},
   "source": [
    "Se observa que tras realizar la selección anterior no quedarían NaN entre nuestros datos"
   ]
  },
  {
   "cell_type": "code",
   "execution_count": 94,
   "metadata": {},
   "outputs": [
    {
     "data": {
      "text/plain": [
       "0"
      ]
     },
     "execution_count": 94,
     "metadata": {},
     "output_type": "execute_result"
    }
   ],
   "source": [
    "final_df.contaminacion_aire.isnull().sum()"
   ]
  },
  {
   "cell_type": "markdown",
   "metadata": {},
   "source": [
    "Si se hubiera dado el caso en que sí que hubiera presencia de estos valores, se podrían haber sustituido por la contaminacion del dia anterior, ya que es un valor que podría ser razonablemente similar `final_df.CONTAMINACION_AIRE.fillna(method='ffill', inplace=True)`"
   ]
  },
  {
   "cell_type": "markdown",
   "metadata": {},
   "source": [
    "Este punto de muestreo se subdivide en función del contaminante medido (17 posibles) y la técnica usada para ello (otras 17). Se ha decidido tomar una medida global de la contaminación, tomando la media de los valores anteriores para cada punto de muestreo."
   ]
  },
  {
   "cell_type": "code",
   "execution_count": 95,
   "metadata": {
    "ExecuteTime": {
     "end_time": "2018-12-30T11:10:07.231124Z",
     "start_time": "2018-12-30T11:10:07.226243Z"
    }
   },
   "outputs": [],
   "source": [
    "grouped_cont_df = final_df.groupby('date').contaminacion_aire.mean().to_frame()"
   ]
  },
  {
   "cell_type": "code",
   "execution_count": 96,
   "metadata": {},
   "outputs": [
    {
     "data": {
      "text/html": [
       "<div>\n",
       "<style scoped>\n",
       "    .dataframe tbody tr th:only-of-type {\n",
       "        vertical-align: middle;\n",
       "    }\n",
       "\n",
       "    .dataframe tbody tr th {\n",
       "        vertical-align: top;\n",
       "    }\n",
       "\n",
       "    .dataframe thead th {\n",
       "        text-align: right;\n",
       "    }\n",
       "</style>\n",
       "<table border=\"1\" class=\"dataframe\">\n",
       "  <thead>\n",
       "    <tr style=\"text-align: right;\">\n",
       "      <th></th>\n",
       "      <th>contaminacion_aire</th>\n",
       "    </tr>\n",
       "    <tr>\n",
       "      <th>date</th>\n",
       "      <th></th>\n",
       "    </tr>\n",
       "  </thead>\n",
       "  <tbody>\n",
       "    <tr>\n",
       "      <th>2018-10-01</th>\n",
       "      <td>10.850000</td>\n",
       "    </tr>\n",
       "    <tr>\n",
       "      <th>2018-10-02</th>\n",
       "      <td>20.533333</td>\n",
       "    </tr>\n",
       "    <tr>\n",
       "      <th>2018-10-03</th>\n",
       "      <td>30.716667</td>\n",
       "    </tr>\n",
       "    <tr>\n",
       "      <th>2018-10-04</th>\n",
       "      <td>32.866667</td>\n",
       "    </tr>\n",
       "    <tr>\n",
       "      <th>2018-10-05</th>\n",
       "      <td>42.383333</td>\n",
       "    </tr>\n",
       "  </tbody>\n",
       "</table>\n",
       "</div>"
      ],
      "text/plain": [
       "            contaminacion_aire\n",
       "date                          \n",
       "2018-10-01           10.850000\n",
       "2018-10-02           20.533333\n",
       "2018-10-03           30.716667\n",
       "2018-10-04           32.866667\n",
       "2018-10-05           42.383333"
      ]
     },
     "execution_count": 96,
     "metadata": {},
     "output_type": "execute_result"
    }
   ],
   "source": [
    "grouped_cont_df.head()"
   ]
  },
  {
   "cell_type": "markdown",
   "metadata": {},
   "source": [
    "# Tráfico"
   ]
  },
  {
   "cell_type": "code",
   "execution_count": 25,
   "metadata": {
    "ExecuteTime": {
     "end_time": "2018-12-30T11:10:01.778501Z",
     "start_time": "2018-12-30T11:10:01.774506Z"
    }
   },
   "outputs": [
    {
     "data": {
      "text/plain": [
       "['aire18.csv', 'trafico_octubre.csv']"
      ]
     },
     "execution_count": 25,
     "metadata": {},
     "output_type": "execute_result"
    }
   ],
   "source": [
    "os.listdir('data')"
   ]
  },
  {
   "cell_type": "markdown",
   "metadata": {},
   "source": [
    "Lectura del csv del tráfico, seleccionando por la ID del punto de medida de Moratalaz (6118)."
   ]
  },
  {
   "cell_type": "code",
   "execution_count": 97,
   "metadata": {
    "ExecuteTime": {
     "end_time": "2018-12-30T11:10:07.047454Z",
     "start_time": "2018-12-30T11:10:01.779737Z"
    }
   },
   "outputs": [],
   "source": [
    "traffic_df = pd.read_csv(os.path.join('data', 'trafico_octubre.csv'), sep=';')\n",
    "traffic_df = traffic_df.loc[traffic_df.id == 6118]"
   ]
  },
  {
   "cell_type": "code",
   "execution_count": 98,
   "metadata": {},
   "outputs": [
    {
     "data": {
      "text/html": [
       "<div>\n",
       "<style scoped>\n",
       "    .dataframe tbody tr th:only-of-type {\n",
       "        vertical-align: middle;\n",
       "    }\n",
       "\n",
       "    .dataframe tbody tr th {\n",
       "        vertical-align: top;\n",
       "    }\n",
       "\n",
       "    .dataframe thead th {\n",
       "        text-align: right;\n",
       "    }\n",
       "</style>\n",
       "<table border=\"1\" class=\"dataframe\">\n",
       "  <thead>\n",
       "    <tr style=\"text-align: right;\">\n",
       "      <th></th>\n",
       "      <th>id</th>\n",
       "      <th>fecha</th>\n",
       "      <th>tipo_elem</th>\n",
       "      <th>intensidad</th>\n",
       "      <th>ocupacion</th>\n",
       "      <th>carga</th>\n",
       "      <th>vmed</th>\n",
       "      <th>error</th>\n",
       "      <th>periodo_integracion</th>\n",
       "    </tr>\n",
       "  </thead>\n",
       "  <tbody>\n",
       "    <tr>\n",
       "      <th>7262553</th>\n",
       "      <td>6118</td>\n",
       "      <td>2018-10-01 00:00:00</td>\n",
       "      <td>URB</td>\n",
       "      <td>51.0</td>\n",
       "      <td>1.0</td>\n",
       "      <td>6.0</td>\n",
       "      <td>NaN</td>\n",
       "      <td>N</td>\n",
       "      <td>15</td>\n",
       "    </tr>\n",
       "    <tr>\n",
       "      <th>7262554</th>\n",
       "      <td>6118</td>\n",
       "      <td>2018-10-01 00:15:00</td>\n",
       "      <td>URB</td>\n",
       "      <td>62.0</td>\n",
       "      <td>NaN</td>\n",
       "      <td>6.0</td>\n",
       "      <td>NaN</td>\n",
       "      <td>N</td>\n",
       "      <td>15</td>\n",
       "    </tr>\n",
       "    <tr>\n",
       "      <th>7262555</th>\n",
       "      <td>6118</td>\n",
       "      <td>2018-10-01 00:30:00</td>\n",
       "      <td>URB</td>\n",
       "      <td>47.0</td>\n",
       "      <td>2.0</td>\n",
       "      <td>7.0</td>\n",
       "      <td>NaN</td>\n",
       "      <td>N</td>\n",
       "      <td>15</td>\n",
       "    </tr>\n",
       "    <tr>\n",
       "      <th>7262556</th>\n",
       "      <td>6118</td>\n",
       "      <td>2018-10-01 00:45:00</td>\n",
       "      <td>URB</td>\n",
       "      <td>25.0</td>\n",
       "      <td>NaN</td>\n",
       "      <td>4.0</td>\n",
       "      <td>NaN</td>\n",
       "      <td>N</td>\n",
       "      <td>15</td>\n",
       "    </tr>\n",
       "    <tr>\n",
       "      <th>7262557</th>\n",
       "      <td>6118</td>\n",
       "      <td>2018-10-01 01:00:00</td>\n",
       "      <td>URB</td>\n",
       "      <td>46.0</td>\n",
       "      <td>NaN</td>\n",
       "      <td>4.0</td>\n",
       "      <td>NaN</td>\n",
       "      <td>N</td>\n",
       "      <td>15</td>\n",
       "    </tr>\n",
       "  </tbody>\n",
       "</table>\n",
       "</div>"
      ],
      "text/plain": [
       "           id                fecha tipo_elem  intensidad  ocupacion  carga  \\\n",
       "7262553  6118  2018-10-01 00:00:00       URB        51.0        1.0    6.0   \n",
       "7262554  6118  2018-10-01 00:15:00       URB        62.0        NaN    6.0   \n",
       "7262555  6118  2018-10-01 00:30:00       URB        47.0        2.0    7.0   \n",
       "7262556  6118  2018-10-01 00:45:00       URB        25.0        NaN    4.0   \n",
       "7262557  6118  2018-10-01 01:00:00       URB        46.0        NaN    4.0   \n",
       "\n",
       "         vmed error  periodo_integracion  \n",
       "7262553   NaN     N                   15  \n",
       "7262554   NaN     N                   15  \n",
       "7262555   NaN     N                   15  \n",
       "7262556   NaN     N                   15  \n",
       "7262557   NaN     N                   15  "
      ]
     },
     "execution_count": 98,
     "metadata": {},
     "output_type": "execute_result"
    }
   ],
   "source": [
    "traffic_df.head()"
   ]
  },
  {
   "cell_type": "markdown",
   "metadata": {},
   "source": [
    "Para poder posteriormente realizar comparaciones entre los distintos dataset, se crea la columna date con las fechas con un periodo diario"
   ]
  },
  {
   "cell_type": "code",
   "execution_count": 99,
   "metadata": {},
   "outputs": [],
   "source": [
    "traffic_df['date'] = pd.to_datetime(traffic_df.fecha.str.split(' ', expand=True)[0],  #Nos quedamos con lo anterior al espacio\n",
    "                                    format=\"%Y-%m-%d\") \n",
    "traffic_df.reset_index(inplace=True, drop=True)"
   ]
  },
  {
   "cell_type": "code",
   "execution_count": 101,
   "metadata": {
    "ExecuteTime": {
     "end_time": "2018-12-30T11:10:07.066520Z",
     "start_time": "2018-12-30T11:10:07.054067Z"
    }
   },
   "outputs": [
    {
     "data": {
      "text/html": [
       "<div>\n",
       "<style scoped>\n",
       "    .dataframe tbody tr th:only-of-type {\n",
       "        vertical-align: middle;\n",
       "    }\n",
       "\n",
       "    .dataframe tbody tr th {\n",
       "        vertical-align: top;\n",
       "    }\n",
       "\n",
       "    .dataframe thead th {\n",
       "        text-align: right;\n",
       "    }\n",
       "</style>\n",
       "<table border=\"1\" class=\"dataframe\">\n",
       "  <thead>\n",
       "    <tr style=\"text-align: right;\">\n",
       "      <th></th>\n",
       "      <th>id</th>\n",
       "      <th>fecha</th>\n",
       "      <th>tipo_elem</th>\n",
       "      <th>intensidad</th>\n",
       "      <th>ocupacion</th>\n",
       "      <th>carga</th>\n",
       "      <th>vmed</th>\n",
       "      <th>error</th>\n",
       "      <th>periodo_integracion</th>\n",
       "      <th>date</th>\n",
       "    </tr>\n",
       "  </thead>\n",
       "  <tbody>\n",
       "    <tr>\n",
       "      <th>0</th>\n",
       "      <td>6118</td>\n",
       "      <td>2018-10-01 00:00:00</td>\n",
       "      <td>URB</td>\n",
       "      <td>51.0</td>\n",
       "      <td>1.0</td>\n",
       "      <td>6.0</td>\n",
       "      <td>NaN</td>\n",
       "      <td>N</td>\n",
       "      <td>15</td>\n",
       "      <td>2018-10-01</td>\n",
       "    </tr>\n",
       "    <tr>\n",
       "      <th>1</th>\n",
       "      <td>6118</td>\n",
       "      <td>2018-10-01 00:15:00</td>\n",
       "      <td>URB</td>\n",
       "      <td>62.0</td>\n",
       "      <td>NaN</td>\n",
       "      <td>6.0</td>\n",
       "      <td>NaN</td>\n",
       "      <td>N</td>\n",
       "      <td>15</td>\n",
       "      <td>2018-10-01</td>\n",
       "    </tr>\n",
       "    <tr>\n",
       "      <th>2</th>\n",
       "      <td>6118</td>\n",
       "      <td>2018-10-01 00:30:00</td>\n",
       "      <td>URB</td>\n",
       "      <td>47.0</td>\n",
       "      <td>2.0</td>\n",
       "      <td>7.0</td>\n",
       "      <td>NaN</td>\n",
       "      <td>N</td>\n",
       "      <td>15</td>\n",
       "      <td>2018-10-01</td>\n",
       "    </tr>\n",
       "    <tr>\n",
       "      <th>3</th>\n",
       "      <td>6118</td>\n",
       "      <td>2018-10-01 00:45:00</td>\n",
       "      <td>URB</td>\n",
       "      <td>25.0</td>\n",
       "      <td>NaN</td>\n",
       "      <td>4.0</td>\n",
       "      <td>NaN</td>\n",
       "      <td>N</td>\n",
       "      <td>15</td>\n",
       "      <td>2018-10-01</td>\n",
       "    </tr>\n",
       "    <tr>\n",
       "      <th>4</th>\n",
       "      <td>6118</td>\n",
       "      <td>2018-10-01 01:00:00</td>\n",
       "      <td>URB</td>\n",
       "      <td>46.0</td>\n",
       "      <td>NaN</td>\n",
       "      <td>4.0</td>\n",
       "      <td>NaN</td>\n",
       "      <td>N</td>\n",
       "      <td>15</td>\n",
       "      <td>2018-10-01</td>\n",
       "    </tr>\n",
       "  </tbody>\n",
       "</table>\n",
       "</div>"
      ],
      "text/plain": [
       "     id                fecha tipo_elem  intensidad  ocupacion  carga  vmed  \\\n",
       "0  6118  2018-10-01 00:00:00       URB        51.0        1.0    6.0   NaN   \n",
       "1  6118  2018-10-01 00:15:00       URB        62.0        NaN    6.0   NaN   \n",
       "2  6118  2018-10-01 00:30:00       URB        47.0        2.0    7.0   NaN   \n",
       "3  6118  2018-10-01 00:45:00       URB        25.0        NaN    4.0   NaN   \n",
       "4  6118  2018-10-01 01:00:00       URB        46.0        NaN    4.0   NaN   \n",
       "\n",
       "  error  periodo_integracion       date  \n",
       "0     N                   15 2018-10-01  \n",
       "1     N                   15 2018-10-01  \n",
       "2     N                   15 2018-10-01  \n",
       "3     N                   15 2018-10-01  \n",
       "4     N                   15 2018-10-01  "
      ]
     },
     "execution_count": 101,
     "metadata": {},
     "output_type": "execute_result"
    }
   ],
   "source": [
    "traffic_df.head()"
   ]
  },
  {
   "cell_type": "markdown",
   "metadata": {},
   "source": [
    "Veamos los valores de error. Estos valores pueden ser:\n",
    "    * N: No ha habido errores ni sustituciones \n",
    "    * E: Los parámetros de calidad de algunas de las muestras no son óptimos\n",
    "    * S: Alguna de las muestras recibidas era totalmente errónea y no se ha integrado"
   ]
  },
  {
   "cell_type": "code",
   "execution_count": 33,
   "metadata": {
    "ExecuteTime": {
     "end_time": "2018-12-30T11:10:07.073300Z",
     "start_time": "2018-12-30T11:10:07.067844Z"
    }
   },
   "outputs": [
    {
     "data": {
      "text/plain": [
       "N    2946\n",
       "Name: error, dtype: int64"
      ]
     },
     "execution_count": 33,
     "metadata": {},
     "output_type": "execute_result"
    }
   ],
   "source": [
    "traffic_df.error.value_counts()"
   ]
  },
  {
   "cell_type": "markdown",
   "metadata": {},
   "source": [
    "Todo los datos han sido recogidos correctamente ya que en esta ubicación todos los valores son N. A continuación se observa que las variables vmed y tipo_elem no aportan información"
   ]
  },
  {
   "cell_type": "code",
   "execution_count": 147,
   "metadata": {
    "ExecuteTime": {
     "end_time": "2018-12-30T11:10:07.079278Z",
     "start_time": "2018-12-30T11:10:07.074532Z"
    }
   },
   "outputs": [
    {
     "data": {
      "text/plain": [
       "Series([], Name: vmed, dtype: int64)"
      ]
     },
     "execution_count": 147,
     "metadata": {},
     "output_type": "execute_result"
    }
   ],
   "source": [
    "traffic_df.vmed.value_counts()"
   ]
  },
  {
   "cell_type": "code",
   "execution_count": 148,
   "metadata": {
    "ExecuteTime": {
     "end_time": "2018-12-30T11:10:07.085637Z",
     "start_time": "2018-12-30T11:10:07.080479Z"
    }
   },
   "outputs": [
    {
     "data": {
      "text/plain": [
       "URB    2946\n",
       "Name: tipo_elem, dtype: int64"
      ]
     },
     "execution_count": 148,
     "metadata": {},
     "output_type": "execute_result"
    }
   ],
   "source": [
    "traffic_df.tipo_elem.value_counts()"
   ]
  },
  {
   "cell_type": "markdown",
   "metadata": {},
   "source": [
    "Veamos que efectivamente el dataframe completo coincide con el que sólo toma N como valor para error"
   ]
  },
  {
   "cell_type": "code",
   "execution_count": 102,
   "metadata": {
    "ExecuteTime": {
     "end_time": "2018-12-30T11:10:07.091791Z",
     "start_time": "2018-12-30T11:10:07.086868Z"
    }
   },
   "outputs": [
    {
     "name": "stdout",
     "output_type": "stream",
     "text": [
      "(2946, 10)\n",
      "(2946, 10)\n"
     ]
    }
   ],
   "source": [
    "print(traffic_df.shape)\n",
    "traffic_df = traffic_df.loc[traffic_df.error.eq('N')]\n",
    "print(traffic_df.shape)"
   ]
  },
  {
   "cell_type": "markdown",
   "metadata": {},
   "source": [
    "Eliminamos las columnas innecesarias"
   ]
  },
  {
   "cell_type": "code",
   "execution_count": 103,
   "metadata": {
    "ExecuteTime": {
     "end_time": "2018-12-30T11:10:07.097103Z",
     "start_time": "2018-12-30T11:10:07.093116Z"
    }
   },
   "outputs": [],
   "source": [
    "DROP_COLUMNS = ['id', 'fecha', 'tipo_elem', 'vmed', 'periodo_integracion', 'error']\n",
    "traffic_df.drop(DROP_COLUMNS, axis=1, inplace=True)"
   ]
  },
  {
   "cell_type": "code",
   "execution_count": 104,
   "metadata": {
    "ExecuteTime": {
     "end_time": "2018-12-30T11:10:07.105948Z",
     "start_time": "2018-12-30T11:10:07.098379Z"
    }
   },
   "outputs": [
    {
     "data": {
      "text/html": [
       "<div>\n",
       "<style scoped>\n",
       "    .dataframe tbody tr th:only-of-type {\n",
       "        vertical-align: middle;\n",
       "    }\n",
       "\n",
       "    .dataframe tbody tr th {\n",
       "        vertical-align: top;\n",
       "    }\n",
       "\n",
       "    .dataframe thead th {\n",
       "        text-align: right;\n",
       "    }\n",
       "</style>\n",
       "<table border=\"1\" class=\"dataframe\">\n",
       "  <thead>\n",
       "    <tr style=\"text-align: right;\">\n",
       "      <th></th>\n",
       "      <th>intensidad</th>\n",
       "      <th>ocupacion</th>\n",
       "      <th>carga</th>\n",
       "      <th>date</th>\n",
       "    </tr>\n",
       "  </thead>\n",
       "  <tbody>\n",
       "    <tr>\n",
       "      <th>0</th>\n",
       "      <td>51.0</td>\n",
       "      <td>1.0</td>\n",
       "      <td>6.0</td>\n",
       "      <td>2018-10-01</td>\n",
       "    </tr>\n",
       "    <tr>\n",
       "      <th>1</th>\n",
       "      <td>62.0</td>\n",
       "      <td>NaN</td>\n",
       "      <td>6.0</td>\n",
       "      <td>2018-10-01</td>\n",
       "    </tr>\n",
       "    <tr>\n",
       "      <th>2</th>\n",
       "      <td>47.0</td>\n",
       "      <td>2.0</td>\n",
       "      <td>7.0</td>\n",
       "      <td>2018-10-01</td>\n",
       "    </tr>\n",
       "    <tr>\n",
       "      <th>3</th>\n",
       "      <td>25.0</td>\n",
       "      <td>NaN</td>\n",
       "      <td>4.0</td>\n",
       "      <td>2018-10-01</td>\n",
       "    </tr>\n",
       "    <tr>\n",
       "      <th>4</th>\n",
       "      <td>46.0</td>\n",
       "      <td>NaN</td>\n",
       "      <td>4.0</td>\n",
       "      <td>2018-10-01</td>\n",
       "    </tr>\n",
       "  </tbody>\n",
       "</table>\n",
       "</div>"
      ],
      "text/plain": [
       "   intensidad  ocupacion  carga       date\n",
       "0        51.0        1.0    6.0 2018-10-01\n",
       "1        62.0        NaN    6.0 2018-10-01\n",
       "2        47.0        2.0    7.0 2018-10-01\n",
       "3        25.0        NaN    4.0 2018-10-01\n",
       "4        46.0        NaN    4.0 2018-10-01"
      ]
     },
     "execution_count": 104,
     "metadata": {},
     "output_type": "execute_result"
    }
   ],
   "source": [
    "traffic_df.head()"
   ]
  },
  {
   "cell_type": "markdown",
   "metadata": {},
   "source": [
    "Y agrupamos por fechas, obteniendo la media de intensidad, ocupación y carga en cada día"
   ]
  },
  {
   "cell_type": "code",
   "execution_count": 105,
   "metadata": {
    "ExecuteTime": {
     "end_time": "2018-12-30T11:10:07.116299Z",
     "start_time": "2018-12-30T11:10:07.107275Z"
    }
   },
   "outputs": [
    {
     "data": {
      "text/html": [
       "<div>\n",
       "<style scoped>\n",
       "    .dataframe tbody tr th:only-of-type {\n",
       "        vertical-align: middle;\n",
       "    }\n",
       "\n",
       "    .dataframe tbody tr th {\n",
       "        vertical-align: top;\n",
       "    }\n",
       "\n",
       "    .dataframe thead th {\n",
       "        text-align: right;\n",
       "    }\n",
       "</style>\n",
       "<table border=\"1\" class=\"dataframe\">\n",
       "  <thead>\n",
       "    <tr style=\"text-align: right;\">\n",
       "      <th></th>\n",
       "      <th>date</th>\n",
       "      <th>intensidad</th>\n",
       "      <th>ocupacion</th>\n",
       "      <th>carga</th>\n",
       "    </tr>\n",
       "  </thead>\n",
       "  <tbody>\n",
       "    <tr>\n",
       "      <th>0</th>\n",
       "      <td>2018-10-01</td>\n",
       "      <td>187.437500</td>\n",
       "      <td>11.217949</td>\n",
       "      <td>25.739130</td>\n",
       "    </tr>\n",
       "    <tr>\n",
       "      <th>1</th>\n",
       "      <td>2018-10-02</td>\n",
       "      <td>187.479167</td>\n",
       "      <td>13.230769</td>\n",
       "      <td>25.468085</td>\n",
       "    </tr>\n",
       "    <tr>\n",
       "      <th>2</th>\n",
       "      <td>2018-10-03</td>\n",
       "      <td>183.937500</td>\n",
       "      <td>13.080000</td>\n",
       "      <td>24.989362</td>\n",
       "    </tr>\n",
       "    <tr>\n",
       "      <th>3</th>\n",
       "      <td>2018-10-04</td>\n",
       "      <td>194.975000</td>\n",
       "      <td>11.492063</td>\n",
       "      <td>26.513158</td>\n",
       "    </tr>\n",
       "    <tr>\n",
       "      <th>4</th>\n",
       "      <td>2018-10-05</td>\n",
       "      <td>171.395062</td>\n",
       "      <td>8.910448</td>\n",
       "      <td>23.179487</td>\n",
       "    </tr>\n",
       "  </tbody>\n",
       "</table>\n",
       "</div>"
      ],
      "text/plain": [
       "        date  intensidad  ocupacion      carga\n",
       "0 2018-10-01  187.437500  11.217949  25.739130\n",
       "1 2018-10-02  187.479167  13.230769  25.468085\n",
       "2 2018-10-03  183.937500  13.080000  24.989362\n",
       "3 2018-10-04  194.975000  11.492063  26.513158\n",
       "4 2018-10-05  171.395062   8.910448  23.179487"
      ]
     },
     "execution_count": 105,
     "metadata": {},
     "output_type": "execute_result"
    }
   ],
   "source": [
    "grouped_traffic_df = traffic_df.groupby('date').mean().reset_index()\n",
    "grouped_traffic_df.head()"
   ]
  },
  {
   "cell_type": "code",
   "execution_count": 106,
   "metadata": {
    "ExecuteTime": {
     "end_time": "2018-12-30T11:10:07.120457Z",
     "start_time": "2018-12-30T11:10:07.117709Z"
    }
   },
   "outputs": [
    {
     "data": {
      "text/plain": [
       "(31, 4)"
      ]
     },
     "execution_count": 106,
     "metadata": {},
     "output_type": "execute_result"
    }
   ],
   "source": [
    "grouped_traffic_df.shape"
   ]
  },
  {
   "cell_type": "markdown",
   "metadata": {},
   "source": [
    "# Merge"
   ]
  },
  {
   "cell_type": "markdown",
   "metadata": {},
   "source": [
    "Veamos el aspecto de los dos dataframe finales y los unimos con Merge"
   ]
  },
  {
   "cell_type": "code",
   "execution_count": 107,
   "metadata": {
    "ExecuteTime": {
     "end_time": "2018-12-30T11:10:07.246688Z",
     "start_time": "2018-12-30T11:10:07.240705Z"
    }
   },
   "outputs": [
    {
     "data": {
      "text/html": [
       "<div>\n",
       "<style scoped>\n",
       "    .dataframe tbody tr th:only-of-type {\n",
       "        vertical-align: middle;\n",
       "    }\n",
       "\n",
       "    .dataframe tbody tr th {\n",
       "        vertical-align: top;\n",
       "    }\n",
       "\n",
       "    .dataframe thead th {\n",
       "        text-align: right;\n",
       "    }\n",
       "</style>\n",
       "<table border=\"1\" class=\"dataframe\">\n",
       "  <thead>\n",
       "    <tr style=\"text-align: right;\">\n",
       "      <th></th>\n",
       "      <th>contaminacion_aire</th>\n",
       "    </tr>\n",
       "    <tr>\n",
       "      <th>date</th>\n",
       "      <th></th>\n",
       "    </tr>\n",
       "  </thead>\n",
       "  <tbody>\n",
       "    <tr>\n",
       "      <th>2018-10-01</th>\n",
       "      <td>10.850000</td>\n",
       "    </tr>\n",
       "    <tr>\n",
       "      <th>2018-10-02</th>\n",
       "      <td>20.533333</td>\n",
       "    </tr>\n",
       "    <tr>\n",
       "      <th>2018-10-03</th>\n",
       "      <td>30.716667</td>\n",
       "    </tr>\n",
       "    <tr>\n",
       "      <th>2018-10-04</th>\n",
       "      <td>32.866667</td>\n",
       "    </tr>\n",
       "    <tr>\n",
       "      <th>2018-10-05</th>\n",
       "      <td>42.383333</td>\n",
       "    </tr>\n",
       "  </tbody>\n",
       "</table>\n",
       "</div>"
      ],
      "text/plain": [
       "            contaminacion_aire\n",
       "date                          \n",
       "2018-10-01           10.850000\n",
       "2018-10-02           20.533333\n",
       "2018-10-03           30.716667\n",
       "2018-10-04           32.866667\n",
       "2018-10-05           42.383333"
      ]
     },
     "execution_count": 107,
     "metadata": {},
     "output_type": "execute_result"
    }
   ],
   "source": [
    "grouped_cont_df.head()"
   ]
  },
  {
   "cell_type": "code",
   "execution_count": 108,
   "metadata": {
    "ExecuteTime": {
     "end_time": "2018-12-30T11:10:07.255089Z",
     "start_time": "2018-12-30T11:10:07.247696Z"
    }
   },
   "outputs": [
    {
     "data": {
      "text/html": [
       "<div>\n",
       "<style scoped>\n",
       "    .dataframe tbody tr th:only-of-type {\n",
       "        vertical-align: middle;\n",
       "    }\n",
       "\n",
       "    .dataframe tbody tr th {\n",
       "        vertical-align: top;\n",
       "    }\n",
       "\n",
       "    .dataframe thead th {\n",
       "        text-align: right;\n",
       "    }\n",
       "</style>\n",
       "<table border=\"1\" class=\"dataframe\">\n",
       "  <thead>\n",
       "    <tr style=\"text-align: right;\">\n",
       "      <th></th>\n",
       "      <th>date</th>\n",
       "      <th>intensidad</th>\n",
       "      <th>ocupacion</th>\n",
       "      <th>carga</th>\n",
       "    </tr>\n",
       "  </thead>\n",
       "  <tbody>\n",
       "    <tr>\n",
       "      <th>0</th>\n",
       "      <td>2018-10-01</td>\n",
       "      <td>187.437500</td>\n",
       "      <td>11.217949</td>\n",
       "      <td>25.739130</td>\n",
       "    </tr>\n",
       "    <tr>\n",
       "      <th>1</th>\n",
       "      <td>2018-10-02</td>\n",
       "      <td>187.479167</td>\n",
       "      <td>13.230769</td>\n",
       "      <td>25.468085</td>\n",
       "    </tr>\n",
       "    <tr>\n",
       "      <th>2</th>\n",
       "      <td>2018-10-03</td>\n",
       "      <td>183.937500</td>\n",
       "      <td>13.080000</td>\n",
       "      <td>24.989362</td>\n",
       "    </tr>\n",
       "    <tr>\n",
       "      <th>3</th>\n",
       "      <td>2018-10-04</td>\n",
       "      <td>194.975000</td>\n",
       "      <td>11.492063</td>\n",
       "      <td>26.513158</td>\n",
       "    </tr>\n",
       "    <tr>\n",
       "      <th>4</th>\n",
       "      <td>2018-10-05</td>\n",
       "      <td>171.395062</td>\n",
       "      <td>8.910448</td>\n",
       "      <td>23.179487</td>\n",
       "    </tr>\n",
       "  </tbody>\n",
       "</table>\n",
       "</div>"
      ],
      "text/plain": [
       "        date  intensidad  ocupacion      carga\n",
       "0 2018-10-01  187.437500  11.217949  25.739130\n",
       "1 2018-10-02  187.479167  13.230769  25.468085\n",
       "2 2018-10-03  183.937500  13.080000  24.989362\n",
       "3 2018-10-04  194.975000  11.492063  26.513158\n",
       "4 2018-10-05  171.395062   8.910448  23.179487"
      ]
     },
     "execution_count": 108,
     "metadata": {},
     "output_type": "execute_result"
    }
   ],
   "source": [
    "grouped_traffic_df.head()"
   ]
  },
  {
   "cell_type": "code",
   "execution_count": 109,
   "metadata": {
    "ExecuteTime": {
     "end_time": "2018-12-30T11:10:07.262020Z",
     "start_time": "2018-12-30T11:10:07.256096Z"
    }
   },
   "outputs": [],
   "source": [
    "full_df = pd.merge(grouped_traffic_df, \n",
    "                   grouped_cont_df, \n",
    "                   how='left', on='date', \n",
    "                   validate='one_to_one')\n",
    "full_df.set_index('date', inplace=True)"
   ]
  },
  {
   "cell_type": "code",
   "execution_count": 110,
   "metadata": {
    "ExecuteTime": {
     "end_time": "2018-12-30T11:10:07.269426Z",
     "start_time": "2018-12-30T11:10:07.263023Z"
    }
   },
   "outputs": [
    {
     "data": {
      "text/html": [
       "<div>\n",
       "<style scoped>\n",
       "    .dataframe tbody tr th:only-of-type {\n",
       "        vertical-align: middle;\n",
       "    }\n",
       "\n",
       "    .dataframe tbody tr th {\n",
       "        vertical-align: top;\n",
       "    }\n",
       "\n",
       "    .dataframe thead th {\n",
       "        text-align: right;\n",
       "    }\n",
       "</style>\n",
       "<table border=\"1\" class=\"dataframe\">\n",
       "  <thead>\n",
       "    <tr style=\"text-align: right;\">\n",
       "      <th></th>\n",
       "      <th>intensidad</th>\n",
       "      <th>ocupacion</th>\n",
       "      <th>carga</th>\n",
       "      <th>contaminacion_aire</th>\n",
       "    </tr>\n",
       "    <tr>\n",
       "      <th>date</th>\n",
       "      <th></th>\n",
       "      <th></th>\n",
       "      <th></th>\n",
       "      <th></th>\n",
       "    </tr>\n",
       "  </thead>\n",
       "  <tbody>\n",
       "    <tr>\n",
       "      <th>2018-10-01</th>\n",
       "      <td>187.437500</td>\n",
       "      <td>11.217949</td>\n",
       "      <td>25.739130</td>\n",
       "      <td>10.850000</td>\n",
       "    </tr>\n",
       "    <tr>\n",
       "      <th>2018-10-02</th>\n",
       "      <td>187.479167</td>\n",
       "      <td>13.230769</td>\n",
       "      <td>25.468085</td>\n",
       "      <td>20.533333</td>\n",
       "    </tr>\n",
       "    <tr>\n",
       "      <th>2018-10-03</th>\n",
       "      <td>183.937500</td>\n",
       "      <td>13.080000</td>\n",
       "      <td>24.989362</td>\n",
       "      <td>30.716667</td>\n",
       "    </tr>\n",
       "    <tr>\n",
       "      <th>2018-10-04</th>\n",
       "      <td>194.975000</td>\n",
       "      <td>11.492063</td>\n",
       "      <td>26.513158</td>\n",
       "      <td>32.866667</td>\n",
       "    </tr>\n",
       "    <tr>\n",
       "      <th>2018-10-05</th>\n",
       "      <td>171.395062</td>\n",
       "      <td>8.910448</td>\n",
       "      <td>23.179487</td>\n",
       "      <td>42.383333</td>\n",
       "    </tr>\n",
       "  </tbody>\n",
       "</table>\n",
       "</div>"
      ],
      "text/plain": [
       "            intensidad  ocupacion      carga  contaminacion_aire\n",
       "date                                                            \n",
       "2018-10-01  187.437500  11.217949  25.739130           10.850000\n",
       "2018-10-02  187.479167  13.230769  25.468085           20.533333\n",
       "2018-10-03  183.937500  13.080000  24.989362           30.716667\n",
       "2018-10-04  194.975000  11.492063  26.513158           32.866667\n",
       "2018-10-05  171.395062   8.910448  23.179487           42.383333"
      ]
     },
     "execution_count": 110,
     "metadata": {},
     "output_type": "execute_result"
    }
   ],
   "source": [
    "full_df.head()"
   ]
  },
  {
   "cell_type": "markdown",
   "metadata": {},
   "source": [
    "Representemos la información gráficamente"
   ]
  },
  {
   "cell_type": "code",
   "execution_count": 111,
   "metadata": {
    "ExecuteTime": {
     "end_time": "2018-12-30T11:10:07.417515Z",
     "start_time": "2018-12-30T11:10:07.270439Z"
    }
   },
   "outputs": [
    {
     "data": {
      "text/plain": [
       "<matplotlib.axes._subplots.AxesSubplot at 0x7ff6b5f43860>"
      ]
     },
     "execution_count": 111,
     "metadata": {},
     "output_type": "execute_result"
    },
    {
     "data": {
      "image/png": "[encoded data removed]",
      "text/plain": [
       "<Figure size 1080x576 with 1 Axes>"
      ]
     },
     "metadata": {
      "needs_background": "light"
     },
     "output_type": "display_data"
    }
   ],
   "source": [
    "full_df.plot(figsize=(15, 8))"
   ]
  },
  {
   "cell_type": "markdown",
   "metadata": {},
   "source": [
    "No se percibe una relación significativa entre la contaminación del aire y alguna de las variable del tráfico para el mes de Octubre. Estudiemos su matriz de correlación"
   ]
  },
  {
   "cell_type": "code",
   "execution_count": 112,
   "metadata": {
    "ExecuteTime": {
     "end_time": "2018-12-30T11:10:07.426324Z",
     "start_time": "2018-12-30T11:10:07.419010Z"
    }
   },
   "outputs": [
    {
     "data": {
      "text/html": [
       "<div>\n",
       "<style scoped>\n",
       "    .dataframe tbody tr th:only-of-type {\n",
       "        vertical-align: middle;\n",
       "    }\n",
       "\n",
       "    .dataframe tbody tr th {\n",
       "        vertical-align: top;\n",
       "    }\n",
       "\n",
       "    .dataframe thead th {\n",
       "        text-align: right;\n",
       "    }\n",
       "</style>\n",
       "<table border=\"1\" class=\"dataframe\">\n",
       "  <thead>\n",
       "    <tr style=\"text-align: right;\">\n",
       "      <th></th>\n",
       "      <th>intensidad</th>\n",
       "      <th>ocupacion</th>\n",
       "      <th>carga</th>\n",
       "      <th>contaminacion_aire</th>\n",
       "    </tr>\n",
       "  </thead>\n",
       "  <tbody>\n",
       "    <tr>\n",
       "      <th>intensidad</th>\n",
       "      <td>1.000000</td>\n",
       "      <td>0.954977</td>\n",
       "      <td>0.995560</td>\n",
       "      <td>0.339095</td>\n",
       "    </tr>\n",
       "    <tr>\n",
       "      <th>ocupacion</th>\n",
       "      <td>0.954977</td>\n",
       "      <td>1.000000</td>\n",
       "      <td>0.962420</td>\n",
       "      <td>0.353054</td>\n",
       "    </tr>\n",
       "    <tr>\n",
       "      <th>carga</th>\n",
       "      <td>0.995560</td>\n",
       "      <td>0.962420</td>\n",
       "      <td>1.000000</td>\n",
       "      <td>0.356648</td>\n",
       "    </tr>\n",
       "    <tr>\n",
       "      <th>contaminacion_aire</th>\n",
       "      <td>0.339095</td>\n",
       "      <td>0.353054</td>\n",
       "      <td>0.356648</td>\n",
       "      <td>1.000000</td>\n",
       "    </tr>\n",
       "  </tbody>\n",
       "</table>\n",
       "</div>"
      ],
      "text/plain": [
       "                    intensidad  ocupacion     carga  contaminacion_aire\n",
       "intensidad            1.000000   0.954977  0.995560            0.339095\n",
       "ocupacion             0.954977   1.000000  0.962420            0.353054\n",
       "carga                 0.995560   0.962420  1.000000            0.356648\n",
       "contaminacion_aire    0.339095   0.353054  0.356648            1.000000"
      ]
     },
     "execution_count": 112,
     "metadata": {},
     "output_type": "execute_result"
    }
   ],
   "source": [
    "full_df.corr()"
   ]
  },
  {
   "cell_type": "markdown",
   "metadata": {},
   "source": [
    "Intentemos estudiar una posible relación entre la calidad del aire de cada día con el tráfico de días anteriores. Concretamente se estudia la posible influencia de las medidas del tráfico del día anterior, además de  la media de los 3 y 7 días anteriores sobre la contaminación del aire."
   ]
  },
  {
   "cell_type": "code",
   "execution_count": 113,
   "metadata": {
    "ExecuteTime": {
     "end_time": "2018-12-30T11:10:07.449594Z",
     "start_time": "2018-12-30T11:10:07.438565Z"
    }
   },
   "outputs": [],
   "source": [
    "RAW_PREDICTOR_COLUMNS = ['intensidad', 'ocupacion', 'carga']\n",
    "OBJECTIVE_COLUMN = 'contaminacion_aire'\n",
    "ROLLING_HORIZONS = [3, 7]\n",
    "\n",
    "for col in RAW_PREDICTOR_COLUMNS:\n",
    "    col_name = col + 'shifted_l1'\n",
    "    full_df[col_name] = full_df[col].shift(1)  #Con esto conseguimos darle a cada una de las variables el valor del día anterior (tráfico)\n",
    "    \n",
    "    for horizon in ROLLING_HORIZONS:\n",
    "        col_name = col + '_mean_' + str(horizon) + 'd' \n",
    "        full_df[col_name] = full_df[col].rolling(horizon).mean()"
   ]
  },
  {
   "cell_type": "code",
   "execution_count": 114,
   "metadata": {
    "ExecuteTime": {
     "end_time": "2018-12-30T11:10:07.461792Z",
     "start_time": "2018-12-30T11:10:07.450631Z"
    }
   },
   "outputs": [
    {
     "data": {
      "text/html": [
       "<div>\n",
       "<style scoped>\n",
       "    .dataframe tbody tr th:only-of-type {\n",
       "        vertical-align: middle;\n",
       "    }\n",
       "\n",
       "    .dataframe tbody tr th {\n",
       "        vertical-align: top;\n",
       "    }\n",
       "\n",
       "    .dataframe thead th {\n",
       "        text-align: right;\n",
       "    }\n",
       "</style>\n",
       "<table border=\"1\" class=\"dataframe\">\n",
       "  <thead>\n",
       "    <tr style=\"text-align: right;\">\n",
       "      <th></th>\n",
       "      <th>intensidad</th>\n",
       "      <th>ocupacion</th>\n",
       "      <th>carga</th>\n",
       "      <th>contaminacion_aire</th>\n",
       "      <th>intensidadshifted_l1</th>\n",
       "      <th>intensidad_mean_3d</th>\n",
       "      <th>intensidad_mean_7d</th>\n",
       "      <th>ocupacionshifted_l1</th>\n",
       "      <th>ocupacion_mean_3d</th>\n",
       "      <th>ocupacion_mean_7d</th>\n",
       "      <th>cargashifted_l1</th>\n",
       "      <th>carga_mean_3d</th>\n",
       "      <th>carga_mean_7d</th>\n",
       "    </tr>\n",
       "    <tr>\n",
       "      <th>date</th>\n",
       "      <th></th>\n",
       "      <th></th>\n",
       "      <th></th>\n",
       "      <th></th>\n",
       "      <th></th>\n",
       "      <th></th>\n",
       "      <th></th>\n",
       "      <th></th>\n",
       "      <th></th>\n",
       "      <th></th>\n",
       "      <th></th>\n",
       "      <th></th>\n",
       "      <th></th>\n",
       "    </tr>\n",
       "  </thead>\n",
       "  <tbody>\n",
       "    <tr>\n",
       "      <th>2018-10-01</th>\n",
       "      <td>187.437500</td>\n",
       "      <td>11.217949</td>\n",
       "      <td>25.739130</td>\n",
       "      <td>10.850000</td>\n",
       "      <td>NaN</td>\n",
       "      <td>NaN</td>\n",
       "      <td>NaN</td>\n",
       "      <td>NaN</td>\n",
       "      <td>NaN</td>\n",
       "      <td>NaN</td>\n",
       "      <td>NaN</td>\n",
       "      <td>NaN</td>\n",
       "      <td>NaN</td>\n",
       "    </tr>\n",
       "    <tr>\n",
       "      <th>2018-10-02</th>\n",
       "      <td>187.479167</td>\n",
       "      <td>13.230769</td>\n",
       "      <td>25.468085</td>\n",
       "      <td>20.533333</td>\n",
       "      <td>187.437500</td>\n",
       "      <td>NaN</td>\n",
       "      <td>NaN</td>\n",
       "      <td>11.217949</td>\n",
       "      <td>NaN</td>\n",
       "      <td>NaN</td>\n",
       "      <td>25.739130</td>\n",
       "      <td>NaN</td>\n",
       "      <td>NaN</td>\n",
       "    </tr>\n",
       "    <tr>\n",
       "      <th>2018-10-03</th>\n",
       "      <td>183.937500</td>\n",
       "      <td>13.080000</td>\n",
       "      <td>24.989362</td>\n",
       "      <td>30.716667</td>\n",
       "      <td>187.479167</td>\n",
       "      <td>186.284722</td>\n",
       "      <td>NaN</td>\n",
       "      <td>13.230769</td>\n",
       "      <td>12.509573</td>\n",
       "      <td>NaN</td>\n",
       "      <td>25.468085</td>\n",
       "      <td>25.398859</td>\n",
       "      <td>NaN</td>\n",
       "    </tr>\n",
       "    <tr>\n",
       "      <th>2018-10-04</th>\n",
       "      <td>194.975000</td>\n",
       "      <td>11.492063</td>\n",
       "      <td>26.513158</td>\n",
       "      <td>32.866667</td>\n",
       "      <td>183.937500</td>\n",
       "      <td>188.797222</td>\n",
       "      <td>NaN</td>\n",
       "      <td>13.080000</td>\n",
       "      <td>12.600944</td>\n",
       "      <td>NaN</td>\n",
       "      <td>24.989362</td>\n",
       "      <td>25.656868</td>\n",
       "      <td>NaN</td>\n",
       "    </tr>\n",
       "    <tr>\n",
       "      <th>2018-10-05</th>\n",
       "      <td>171.395062</td>\n",
       "      <td>8.910448</td>\n",
       "      <td>23.179487</td>\n",
       "      <td>42.383333</td>\n",
       "      <td>194.975000</td>\n",
       "      <td>183.435854</td>\n",
       "      <td>NaN</td>\n",
       "      <td>11.492063</td>\n",
       "      <td>11.160837</td>\n",
       "      <td>NaN</td>\n",
       "      <td>26.513158</td>\n",
       "      <td>24.894002</td>\n",
       "      <td>NaN</td>\n",
       "    </tr>\n",
       "  </tbody>\n",
       "</table>\n",
       "</div>"
      ],
      "text/plain": [
       "            intensidad  ocupacion      carga  contaminacion_aire  \\\n",
       "date                                                               \n",
       "2018-10-01  187.437500  11.217949  25.739130           10.850000   \n",
       "2018-10-02  187.479167  13.230769  25.468085           20.533333   \n",
       "2018-10-03  183.937500  13.080000  24.989362           30.716667   \n",
       "2018-10-04  194.975000  11.492063  26.513158           32.866667   \n",
       "2018-10-05  171.395062   8.910448  23.179487           42.383333   \n",
       "\n",
       "            intensidadshifted_l1  intensidad_mean_3d  intensidad_mean_7d  \\\n",
       "date                                                                       \n",
       "2018-10-01                   NaN                 NaN                 NaN   \n",
       "2018-10-02            187.437500                 NaN                 NaN   \n",
       "2018-10-03            187.479167          186.284722                 NaN   \n",
       "2018-10-04            183.937500          188.797222                 NaN   \n",
       "2018-10-05            194.975000          183.435854                 NaN   \n",
       "\n",
       "            ocupacionshifted_l1  ocupacion_mean_3d  ocupacion_mean_7d  \\\n",
       "date                                                                    \n",
       "2018-10-01                  NaN                NaN                NaN   \n",
       "2018-10-02            11.217949                NaN                NaN   \n",
       "2018-10-03            13.230769          12.509573                NaN   \n",
       "2018-10-04            13.080000          12.600944                NaN   \n",
       "2018-10-05            11.492063          11.160837                NaN   \n",
       "\n",
       "            cargashifted_l1  carga_mean_3d  carga_mean_7d  \n",
       "date                                                       \n",
       "2018-10-01              NaN            NaN            NaN  \n",
       "2018-10-02        25.739130            NaN            NaN  \n",
       "2018-10-03        25.468085      25.398859            NaN  \n",
       "2018-10-04        24.989362      25.656868            NaN  \n",
       "2018-10-05        26.513158      24.894002            NaN  "
      ]
     },
     "execution_count": 114,
     "metadata": {},
     "output_type": "execute_result"
    }
   ],
   "source": [
    "full_df.head()"
   ]
  },
  {
   "cell_type": "code",
   "execution_count": 115,
   "metadata": {
    "ExecuteTime": {
     "end_time": "2018-12-30T11:10:07.468770Z",
     "start_time": "2018-12-30T11:10:07.462927Z"
    }
   },
   "outputs": [
    {
     "data": {
      "text/plain": [
       "contaminacion_aire      1.000000\n",
       "ocupacion_mean_3d       0.529291\n",
       "carga_mean_3d           0.474027\n",
       "intensidad_mean_3d      0.439973\n",
       "carga                   0.356648\n",
       "ocupacion               0.353054\n",
       "ocupacionshifted_l1     0.346963\n",
       "intensidad              0.339095\n",
       "cargashifted_l1         0.303721\n",
       "intensidadshifted_l1    0.265793\n",
       "carga_mean_7d           0.138148\n",
       "ocupacion_mean_7d       0.125243\n",
       "intensidad_mean_7d      0.091856\n",
       "Name: contaminacion_aire, dtype: float64"
      ]
     },
     "execution_count": 115,
     "metadata": {},
     "output_type": "execute_result"
    }
   ],
   "source": [
    "full_df.corr().contaminacion_aire.sort_values(ascending=False)"
   ]
  },
  {
   "cell_type": "markdown",
   "metadata": {},
   "source": [
    "Se selecciona tan sólo la variable con mayor correlación con la contaminacion del aire, es decir la ocupación media de los 3 días anteriores, para compararla con la contaminación"
   ]
  },
  {
   "cell_type": "code",
   "execution_count": 116,
   "metadata": {},
   "outputs": [],
   "source": [
    "contaminacion = full_df.contaminacion_aire\n",
    "ocupacion_mean_3d = full_df.ocupacion_mean_3d"
   ]
  },
  {
   "cell_type": "code",
   "execution_count": 118,
   "metadata": {},
   "outputs": [],
   "source": [
    "vars_of_interest = ['contaminacion_aire', 'ocupacion_mean_3d']\n",
    "full_df_final = full_df[vars_of_interest]"
   ]
  },
  {
   "cell_type": "code",
   "execution_count": 119,
   "metadata": {},
   "outputs": [
    {
     "data": {
      "text/plain": [
       "<matplotlib.axes._subplots.AxesSubplot at 0x7ff6b6545898>"
      ]
     },
     "execution_count": 119,
     "metadata": {},
     "output_type": "execute_result"
    },
    {
     "data": {
      "image/png": "[encoded data removed]",
      "text/plain": [
       "<Figure size 1080x576 with 1 Axes>"
      ]
     },
     "metadata": {
      "needs_background": "light"
     },
     "output_type": "display_data"
    }
   ],
   "source": [
    "full_df_final.plot(figsize=(15, 8))"
   ]
  }
 ],
 "metadata": {
  "hide_input": false,
  "kernelspec": {
   "display_name": "Python 3",
   "language": "python",
   "name": "python3"
  },
  "language_info": {
   "codemirror_mode": {
    "name": "ipython",
    "version": 3
   },
   "file_extension": ".py",
   "mimetype": "text/x-python",
   "name": "python",
   "nbconvert_exporter": "python",
   "pygments_lexer": "ipython3",
   "version": "3.6.7"
  },
  "toc": {
   "base_numbering": 1,
   "nav_menu": {},
   "number_sections": true,
   "sideBar": true,
   "skip_h1_title": false,
   "title_cell": "Table of Contents",
   "title_sidebar": "Contents",
   "toc_cell": false,
   "toc_position": {},
   "toc_section_display": "block",
   "toc_window_display": true
  }
 },
 "nbformat": 4,
 "nbformat_minor": 2
}
