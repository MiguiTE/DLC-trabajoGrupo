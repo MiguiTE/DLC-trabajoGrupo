{
 "cells": [
  {
   "cell_type": "markdown",
   "metadata": {},
   "source": [
    "# Código para extraer identificadores de los datasets\n",
    "\n",
    "### Barcelona"
   ]
  },
  {
   "cell_type": "code",
   "execution_count": 1,
   "metadata": {},
   "outputs": [],
   "source": [
    "import requests\n",
    "import json"
   ]
  },
  {
   "cell_type": "markdown",
   "metadata": {},
   "source": [
    "- 1. Comenzamos por el dataset de *Calidad del Aire* de Barcelona, que se trata del dataset correspondiente al mes de Noviembre de 2018."
   ]
  },
  {
   "cell_type": "code",
   "execution_count": 2,
   "metadata": {},
   "outputs": [
    {
     "data": {
      "text/plain": [
       "<Response [200]>"
      ]
     },
     "execution_count": 2,
     "metadata": {},
     "output_type": "execute_result"
    }
   ],
   "source": [
    "urlConsulta = \"http://opendata-ajuntament.barcelona.cat/data/api/3/action/package_search?q=Aire\"\n",
    "consulta = requests.get(urlConsulta)\n",
    "consulta"
   ]
  },
  {
   "cell_type": "markdown",
   "metadata": {},
   "source": [
    "Lo cargamos como `json`:"
   ]
  },
  {
   "cell_type": "code",
   "execution_count": 3,
   "metadata": {},
   "outputs": [],
   "source": [
    "datasetsAire = json.loads(consulta.text)"
   ]
  },
  {
   "cell_type": "markdown",
   "metadata": {},
   "source": [
    "Consultamos un poco qué y cómo es:"
   ]
  },
  {
   "cell_type": "code",
   "execution_count": 4,
   "metadata": {},
   "outputs": [
    {
     "data": {
      "text/plain": [
       "dict"
      ]
     },
     "execution_count": 4,
     "metadata": {},
     "output_type": "execute_result"
    }
   ],
   "source": [
    "type(datasetsAire)"
   ]
  },
  {
   "cell_type": "code",
   "execution_count": 5,
   "metadata": {},
   "outputs": [
    {
     "name": "stdout",
     "output_type": "stream",
     "text": [
      "help\n",
      "success\n",
      "result\n"
     ]
    }
   ],
   "source": [
    "for key in datasetsAire:\n",
    "    print(key)"
   ]
  },
  {
   "cell_type": "code",
   "execution_count": 6,
   "metadata": {},
   "outputs": [
    {
     "data": {
      "text/plain": [
       "dict"
      ]
     },
     "execution_count": 6,
     "metadata": {},
     "output_type": "execute_result"
    }
   ],
   "source": [
    "type(datasetsAire[\"result\"])"
   ]
  },
  {
   "cell_type": "code",
   "execution_count": 7,
   "metadata": {},
   "outputs": [
    {
     "name": "stdout",
     "output_type": "stream",
     "text": [
      "count\n",
      "sort\n",
      "facets\n",
      "results\n",
      "search_facets\n"
     ]
    }
   ],
   "source": [
    "for key in datasetsAire[\"result\"]:\n",
    "    print(key)"
   ]
  },
  {
   "cell_type": "code",
   "execution_count": 8,
   "metadata": {},
   "outputs": [
    {
     "data": {
      "text/plain": [
       "list"
      ]
     },
     "execution_count": 8,
     "metadata": {},
     "output_type": "execute_result"
    }
   ],
   "source": [
    "type(datasetsAire[\"result\"][\"results\"])"
   ]
  },
  {
   "cell_type": "code",
   "execution_count": 9,
   "metadata": {},
   "outputs": [
    {
     "name": "stdout",
     "output_type": "stream",
     "text": [
      "<class 'dict'>\n",
      "<class 'dict'>\n"
     ]
    }
   ],
   "source": [
    "for item in datasetsAire[\"result\"][\"results\"]:\n",
    "    print(type(item))"
   ]
  },
  {
   "cell_type": "markdown",
   "metadata": {},
   "source": [
    "Parece que los datasets relacionados con la *palabra clave* **Aire** están almacenados en listas dentro de un diccionario bajo las claves `result`, `results`. Ahora en estos buscamos el que tenga que ver con la calidad del aire de Barcelona.\n",
    "\n",
    "Comenzamos por buscar por el título, si es posible. Para ello buscamos en los `metadatos` del datasets."
   ]
  },
  {
   "cell_type": "code",
   "execution_count": 10,
   "metadata": {},
   "outputs": [
    {
     "name": "stdout",
     "output_type": "stream",
     "text": [
      "notes_translated\n",
      "geolocation\n",
      "code\n",
      "url_tornada\n",
      "dataset_fields_description\n",
      "fuente\n",
      "private\n",
      "num_tags\n",
      "api\n",
      "frequency\n",
      "update_string\n",
      "id\n",
      "title_translated\n",
      "metadata_modified\n",
      "author\n",
      "author_email\n",
      "isopen\n",
      "state\n",
      "version\n",
      "observations\n",
      "relationships_as_object\n",
      "department\n",
      "creator_user_id\n",
      "type\n",
      "resources\n",
      "num_resources\n",
      "tags\n",
      "fecha_publicacion\n",
      "load_type\n",
      "groups\n",
      "license_id\n",
      "relationships_as_subject\n",
      "license_title\n",
      "organization\n",
      "name\n",
      "url\n",
      "notes\n",
      "owner_org\n",
      "tag\n",
      "license_url\n",
      "historical\n",
      "title\n",
      "revision_id\n",
      "date_deactivation_informed\n",
      "extras\n"
     ]
    }
   ],
   "source": [
    "for key in datasetsAire[\"result\"][\"results\"][0]:\n",
    "    print(key)"
   ]
  },
  {
   "cell_type": "code",
   "execution_count": 11,
   "metadata": {},
   "outputs": [
    {
     "name": "stdout",
     "output_type": "stream",
     "text": [
      "ca\n",
      "en\n",
      "es\n"
     ]
    }
   ],
   "source": [
    "for key in datasetsAire[\"result\"][\"results\"][0][\"title_translated\"]:\n",
    "    print(key)"
   ]
  },
  {
   "cell_type": "markdown",
   "metadata": {},
   "source": [
    "Parece que el título, en español, se encuentra en el diccionario bajo las `keys`: `title_transalted`, `es`. \n",
    "\n",
    "Pasamos a mirar cuál de los dos es el que nos interesa y obtenemos su `id`."
   ]
  },
  {
   "cell_type": "code",
   "execution_count": 12,
   "metadata": {},
   "outputs": [
    {
     "name": "stdout",
     "output_type": "stream",
     "text": [
      "1\n"
     ]
    }
   ],
   "source": [
    "for i, item in enumerate(datasetsAire[\"result\"][\"results\"]):\n",
    "    if item[\"title_translated\"][\"es\"] == \"Calidad del aire de la ciudad de Barcelona\":\n",
    "        print(i)"
   ]
  },
  {
   "cell_type": "code",
   "execution_count": 13,
   "metadata": {},
   "outputs": [
    {
     "data": {
      "text/plain": [
       "'0582a266-ea06-4cc5-a219-913b22484e40'"
      ]
     },
     "execution_count": 13,
     "metadata": {},
     "output_type": "execute_result"
    }
   ],
   "source": [
    "datasetCalidadBcn = datasetsAire[\"result\"][\"results\"][1]\n",
    "datasetCalidadBcn[\"id\"]"
   ]
  },
  {
   "cell_type": "markdown",
   "metadata": {},
   "source": [
    "Tenemos ya el *id* de los recursos sobre la calidad del aire de Barcelona. Ahora estamos interesados en buscar el *id* correspondiente con el mes de Noviembre de $2018$."
   ]
  },
  {
   "cell_type": "code",
   "execution_count": 14,
   "metadata": {},
   "outputs": [
    {
     "name": "stdout",
     "output_type": "stream",
     "text": [
      "cache_last_updated\n",
      "package_id\n",
      "datastore_active\n",
      "id\n",
      "size\n",
      "state\n",
      "api_access_number\n",
      "api_access_number_absolute\n",
      "hash\n",
      "description\n",
      "format\n",
      "downloads\n",
      "mimetype_inner\n",
      "url_type\n",
      "file_volum\n",
      "mimetype\n",
      "cache_url\n",
      "name\n",
      "created\n",
      "url\n",
      "downloads_absolute\n",
      "map_visualization_res\n",
      "qa\n",
      "last_modified\n",
      "position\n",
      "revision_id\n",
      "resource_type\n"
     ]
    }
   ],
   "source": [
    "for key in datasetCalidadBcn[\"resources\"][0]:\n",
    "    print(key)"
   ]
  },
  {
   "cell_type": "code",
   "execution_count": 15,
   "metadata": {},
   "outputs": [
    {
     "name": "stdout",
     "output_type": "stream",
     "text": [
      "0 qualitataire.xml\n",
      "1 2018_06_Juny_qualitat_aire_BCN.csv\n",
      "2 2018_06_Juny_qualitat_aire_BCN.7z\n",
      "3 2018_07_Juliol_qualitat_aire_BCN.csv\n",
      "4 2018_07_Juliol_qualitat_aire_BCN.7z\n",
      "5 2018_08_Agost_qualitat_aire_BCN.csv\n",
      "6 2018_08_Agost_qualitat_aire_BCN.7z\n",
      "7 2018_09_Setembre_qualitat_aire_BCN.csv\n",
      "8 2018_09_Setembre_qualitat_aire_BCN.7z\n",
      "9 2018_10_Octubre_qualitat_aire_BCN.csv\n",
      "10 2018_10_Octubre_qualitat_aire_BCN.7z\n",
      "11 2018_11_Novembre_qualitat_aire_BCN.csv\n",
      "12 2018_11_Novembre_qualitat_aire_BCN.7z\n",
      "13 2018_12_Desembre_qualitat_aire_BCN.csv\n",
      "14 2018_12_Desembre_qualitat_aire_BCN.7z\n"
     ]
    }
   ],
   "source": [
    "for i, item in enumerate(datasetCalidadBcn[\"resources\"]):\n",
    "    print(i, item[\"name\"])"
   ]
  },
  {
   "cell_type": "code",
   "execution_count": 16,
   "metadata": {},
   "outputs": [
    {
     "data": {
      "text/plain": [
       "'cc993126-fb6f-4a63-a460-a2ffdb2b6886'"
      ]
     },
     "execution_count": 16,
     "metadata": {},
     "output_type": "execute_result"
    }
   ],
   "source": [
    "datasetCalidadBcnNov = datasetCalidadBcn[\"resources\"][11]\n",
    "datasetCalidadBcnNov[\"id\"]"
   ]
  },
  {
   "cell_type": "markdown",
   "metadata": {},
   "source": [
    "Ya está.\n",
    "\n",
    "Veamos ahora las estaciones de medición de calidad del aire. Puede que sea el otro dataset que nos ha devuelto al filtrar por la *palabra clave* `aire`. Comprobemos:"
   ]
  },
  {
   "cell_type": "code",
   "execution_count": 17,
   "metadata": {},
   "outputs": [
    {
     "name": "stdout",
     "output_type": "stream",
     "text": [
      "cache_last_updated None\n",
      "package_id 0582a266-ea06-4cc5-a219-913b22484e40\n",
      "datastore_active True\n",
      "id cc993126-fb6f-4a63-a460-a2ffdb2b6886\n",
      "size None\n",
      "state active\n",
      "api_access_number 1\n",
      "api_access_number_absolute 1\n",
      "hash \n",
      "description \n",
      "format CSV\n",
      "downloads 22\n",
      "mimetype_inner None\n",
      "url_type upload\n",
      "column_types \n",
      "file_volum \n",
      "mimetype None\n",
      "cache_url None\n",
      "name 2018_11_Novembre_qualitat_aire_BCN.csv\n",
      "created 2018-12-07T13:34:56.722605\n",
      "url http://opendata-ajuntament.barcelona.cat/data/dataset/0582a266-ea06-4cc5-a219-913b22484e40/resource/cc993126-fb6f-4a63-a460-a2ffdb2b6886/download/2018_11_novembre_qualitat_aire_bcn.csv\n",
      "downloads_absolute 27\n",
      "map_visualization_res none\n",
      "qa {'updated': '2019-01-09T02:07:56.902204', 'openness_score': 3, 'archival_timestamp': None, 'format': u'CSV', 'created': '2018-12-08T02:08:15.727657', 'resource_timestamp': None, 'openness_score_reason': u'This file had not been downloaded at the time of scoring it. URL extension \"csv\" relates to format \"CSV\" and receives score: 3.'}\n",
      "last_modified 2018-12-07T12:34:56.646066\n",
      "position 11\n",
      "revision_id d10b0903-f760-4f60-b6ac-a9495a37f527\n",
      "resource_type None\n"
     ]
    }
   ],
   "source": [
    "for key in datasetCalidadBcnNov:\n",
    "    print(key, datasetCalidadBcnNov[key])"
   ]
  },
  {
   "cell_type": "code",
   "execution_count": 18,
   "metadata": {},
   "outputs": [
    {
     "data": {
      "text/plain": [
       "dict"
      ]
     },
     "execution_count": 18,
     "metadata": {},
     "output_type": "execute_result"
    }
   ],
   "source": [
    "datasetOtro = datasetsAire[\"result\"][\"results\"][0]\n",
    "type(datasetOtro)"
   ]
  },
  {
   "cell_type": "code",
   "execution_count": 19,
   "metadata": {},
   "outputs": [
    {
     "name": "stdout",
     "output_type": "stream",
     "text": [
      "notes_translated {'ca': \"Llista de les estacions de mesura de la qualitat de l'aire de la ciutat de Barcelona. Es detallen les característiques principals de cada una d'elles.\", 'en': 'Air quality measure stations of the city of Barcelona. Main characteristics of each one are detailed.', 'es': 'Lista de las estaciones de medida de la calidad del aire de la ciudad de Barcelona. Se detallan las características principales de cada una de ellas.'}\n",
      "geolocation Yes_with_map_view\n",
      "code qualitat_aire_estacions_BCN\n",
      "url_tornada {'ca': 'http://mediambient.gencat.cat/ca/05_ambits_dactuacio/atmosfera/qualitat_de_laire/    ', 'en': 'http://mediambient.gencat.cat/es/05_ambits_dactuacio/atmosfera/qualitat_de_laire/index.html', 'es': 'http://mediambient.gencat.cat/es/05_ambits_dactuacio/atmosfera/qualitat_de_laire/index.html'}\n",
      "dataset_fields_description \n",
      "fuente Direcció General de Qualitat Ambiental i Canvi Climàtic de la Generalitat de Catalunya\n",
      "private False\n",
      "num_tags 7\n",
      "api Yes\n",
      "frequency PETICIO_NEGOCI\n",
      "update_string \n",
      "id 4dff88b1-151b-48db-91c2-45007cd5d07a\n",
      "title_translated {'ca': \"Estacions de mesura de la qualitat de l'aire de la ciutat de Barcelona\", 'en': 'Air quality measure stations of the city of Barcelona', 'es': 'Estaciones de medida de la calidad del aire de la ciudad de Barcelona'}\n",
      "metadata_modified 2018-07-19T09:32:39.751470\n",
      "author Medi Ambient i Serveis Urbans - Ecologia Urbana\n",
      "author_email None\n",
      "isopen True\n",
      "state active\n",
      "version \n",
      "observations \n",
      "relationships_as_object []\n",
      "department Departament de Qualitat Ambiental\n",
      "creator_user_id 6d593275-d059-4261-9004-e6df8677e3bf\n",
      "type dataset\n",
      "resources [{'cache_last_updated': None, 'package_id': '4dff88b1-151b-48db-91c2-45007cd5d07a', 'datastore_active': True, 'id': '6c33f60b-2f52-4954-a5e6-cf879890551c', 'size': None, 'state': 'active', 'api_access_number': '13', 'api_access_number_absolute': '19', 'hash': '', 'description': '', 'format': 'CSV', 'downloads': '141', 'mimetype_inner': None, 'url_type': 'upload', 'file_volum': 'little', 'mimetype': None, 'cache_url': None, 'name': 'qualitat_aire_estacions_bcn.csv', 'created': '2018-06-14T13:14:46.185015', 'url': 'http://opendata-ajuntament.barcelona.cat/data/dataset/4dff88b1-151b-48db-91c2-45007cd5d07a/resource/6c33f60b-2f52-4954-a5e6-cf879890551c/download/qualitat_aire_estacions_bcn.csv', 'downloads_absolute': '168', 'map_visualization_res': 'data_explorer_map', 'qa': '{\\'updated\\': \\'2019-01-09T02:07:57.403769\\', \\'openness_score\\': 3, \\'archival_timestamp\\': None, \\'format\\': u\\'CSV\\', \\'created\\': \\'2018-06-15T02:07:33.246823\\', \\'resource_timestamp\\': None, \\'openness_score_reason\\': u\\'This file had not been downloaded at the time of scoring it. URL extension \"csv\" relates to format \"CSV\" and receives score: 3.\\'}', 'last_modified': '2018-06-14T13:51:10.684432', 'position': 0, 'revision_id': 'b49e85d7-0872-4273-9c3d-fbc9b1f9c182', 'resource_type': None}]\n",
      "num_resources 1\n",
      "tags [{'vocabulary_id': None, 'state': 'active', 'display_name': 'Aire', 'id': '07966813-9180-4a24-94f1-659562af918d', 'name': 'Aire'}, {'vocabulary_id': None, 'state': 'active', 'display_name': 'Medi ambient', 'id': '53dd26cc-fd95-4780-a71c-744b717a5458', 'name': 'Medi ambient'}, {'vocabulary_id': None, 'state': 'active', 'display_name': 'NO2', 'id': 'a715eaed-eb57-48ea-aaee-4101fb1e8f34', 'name': 'NO2'}, {'vocabulary_id': None, 'state': 'active', 'display_name': 'O3', 'id': '50705c69-8dfe-456b-a277-1bc0bb720312', 'name': 'O3'}, {'vocabulary_id': None, 'state': 'active', 'display_name': 'PM10', 'id': '181a3673-0614-4d20-9500-197b26c5a40a', 'name': 'PM10'}, {'vocabulary_id': None, 'state': 'active', 'display_name': 'Qualitat', 'id': '35967a8c-a288-4207-8ef5-da8eba3520a8', 'name': 'Qualitat'}, {'vocabulary_id': None, 'state': 'active', 'display_name': 'Salut pública', 'id': '76868377-3537-4c59-af90-c906d95f7566', 'name': 'Salut pública'}]\n",
      "fecha_publicacion 2018-06-15\n",
      "load_type ds_manual\n",
      "groups []\n",
      "license_id CC-BY-4.0\n",
      "relationships_as_subject []\n",
      "license_title Creative Commons Attribution 4.0\n",
      "organization {'code': 'medi-ambient', 'display_name': 'Medi ambient', 'description': 'Environment', 'parent': {'code': 'entorn-urba', 'display_name': 'Ciutat i serveis', 'description': 'Urban environment', 'created': '2017-01-24T16:55:08.867299', 'package_count': 0, 'image_display_url': 'http://opendata-ajuntament.barcelona.cat/data/uploads/group/bcn-icon2-ciutat-i-serveis', 'description_translated': {'ca': 'Ciutat i serveis', 'en': 'Urban environment', 'es': 'Ciudad y servicios'}, 'name': 'entorn-urba', 'is_organization': True, 'state': 'active', 'image_url': 'bcn-icon2-ciutat-i-serveis', 'groups': [], 'type': 'organization', 'title': 'Urban environment', 'revision_id': 'effe3c8f-e810-4d94-b6a8-3e57540c0802', 'title_translated': {'ca': 'Ciutat i serveis', 'en': 'Urban environment', 'es': 'Ciudad y servicios'}, 'num_followers': 0, 'id': 'd80eb926-faec-4e14-98b9-8c3f0d295977', 'approval_status': 'approved'}, 'created': '2017-01-24T16:55:06.174823', 'package_count': 17, 'image_display_url': 'http://opendata-ajuntament.barcelona.cat/data/uploads/group/bcn-icon-medi-ambient', 'tematica_nti': 'medio-ambiente', 'description_translated': {'ca': 'Medi ambient', 'en': 'Environment', 'es': 'Medio ambiente'}, 'name': 'medi-ambient', 'is_organization': True, 'state': 'active', 'image_url': 'bcn-icon-medi-ambient', 'groups': [{'capacity': 'public', 'name': 'entorn-urba'}], 'type': 'organization', 'title': 'Environment', 'revision_id': '1a603339-4fe4-44b9-ac60-13395cfc79a0', 'title_translated': {'ca': 'Medi ambient', 'en': 'Environment', 'es': 'Medio ambiente'}, 'num_followers': 0, 'id': 'c711e03a-e97d-4572-917e-7ca747ae541d', 'approval_status': 'approved'}\n",
      "name qualitat-aire-estacions-bcn\n",
      "url None\n",
      "notes Air quality measure stations of the city of Barcelona. Main characteristics of each one are detailed.\n",
      "owner_org c711e03a-e97d-4572-917e-7ca747ae541d\n",
      "tag Aire,Qualitat,Medi ambient,O3,NO2,PM10,Salut pública\n",
      "license_url https://creativecommons.org/licenses/by/4.0/\n",
      "historical No\n",
      "title Air quality measure stations of the city of Barcelona\n",
      "revision_id 2dba987b-d33f-4880-9387-74cf5181e0a5\n",
      "date_deactivation_informed No\n",
      "extras [{'key': '01.nom_cabina', 'value': \"Nom de l'estació/cabina\"}, {'key': '02.codi_dtes', 'value': \"Codi de l'estació/cabina\"}, {'key': '03.zqa', 'value': \"Codi de la zona de qualitat de l'aire on està situada l'estació/cabina\"}, {'key': '04.codi_eoi', 'value': \"Codi europeu per identificar l'estació/cabina\"}, {'key': '05.longitud', 'value': 'Longitud'}, {'key': '06.latitud', 'value': 'Latitud'}, {'key': '07.Ubicació', 'value': 'Adreça/Cruïlla'}, {'key': '08.Codi_Districte', 'value': 'Codi del districte'}, {'key': '09.Nom_Districte', 'value': 'Nom del districte'}, {'key': '10.Codi_Barri', 'value': 'Codi del barri'}, {'key': '11.Nom_Barri', 'value': 'Nom del barri'}, {'key': '12.Ocupacio_sol', 'value': \"Ocupació del sòl a l'entorn de l'estació. Pot ser : Urbana, Suburbana o Rural\"}, {'key': '13.Emissions_properes', 'value': \"Emissions dominants a l'entorn de l'estació. Pot ser:  Trànsit, Industrial i Fons\"}, {'key': '14.Contaminant_1', 'value': 'Indicador contaminant NO2'}, {'key': '15.Contaminant_2', 'value': 'Indicador contaminant O3'}, {'key': '16.Contaminant_3', 'value': \"Indicador contaminant PM10. S'indica si existeix mesura o no\"}]\n"
     ]
    }
   ],
   "source": [
    "for key in datasetOtro:\n",
    "    print(key, datasetOtro[key])"
   ]
  },
  {
   "cell_type": "code",
   "execution_count": 20,
   "metadata": {},
   "outputs": [
    {
     "data": {
      "text/plain": [
       "'Estaciones de medida de la calidad del aire de la ciudad de Barcelona'"
      ]
     },
     "execution_count": 20,
     "metadata": {},
     "output_type": "execute_result"
    }
   ],
   "source": [
    "datasetOtro[\"title_translated\"][\"es\"]"
   ]
  },
  {
   "cell_type": "markdown",
   "metadata": {},
   "source": [
    "Efectivamente, se trata del portal del dataset con las estaciones de calidad del aire. Obtenemos su identificador."
   ]
  },
  {
   "cell_type": "code",
   "execution_count": 21,
   "metadata": {},
   "outputs": [
    {
     "data": {
      "text/plain": [
       "'4dff88b1-151b-48db-91c2-45007cd5d07a'"
      ]
     },
     "execution_count": 21,
     "metadata": {},
     "output_type": "execute_result"
    }
   ],
   "source": [
    "datasetOtro[\"id\"]"
   ]
  },
  {
   "cell_type": "code",
   "execution_count": 22,
   "metadata": {},
   "outputs": [
    {
     "name": "stdout",
     "output_type": "stream",
     "text": [
      "cache_last_updated\n",
      "package_id\n",
      "datastore_active\n",
      "id\n",
      "size\n",
      "state\n",
      "api_access_number\n",
      "api_access_number_absolute\n",
      "hash\n",
      "description\n",
      "format\n",
      "downloads\n",
      "mimetype_inner\n",
      "url_type\n",
      "file_volum\n",
      "mimetype\n",
      "cache_url\n",
      "name\n",
      "created\n",
      "url\n",
      "downloads_absolute\n",
      "map_visualization_res\n",
      "qa\n",
      "last_modified\n",
      "position\n",
      "revision_id\n",
      "resource_type\n"
     ]
    }
   ],
   "source": [
    "for key in datasetOtro[\"resources\"][0]:\n",
    "    print(key)"
   ]
  },
  {
   "cell_type": "code",
   "execution_count": 23,
   "metadata": {},
   "outputs": [
    {
     "name": "stdout",
     "output_type": "stream",
     "text": [
      "qualitat_aire_estacions_bcn.csv\n"
     ]
    }
   ],
   "source": [
    "for item in datasetOtro[\"resources\"]:\n",
    "    print(item[\"name\"])"
   ]
  },
  {
   "cell_type": "markdown",
   "metadata": {},
   "source": [
    "Tenemos el dataset que buscábamos. Extraemos su `id`:"
   ]
  },
  {
   "cell_type": "code",
   "execution_count": 24,
   "metadata": {},
   "outputs": [
    {
     "data": {
      "text/plain": [
       "'6c33f60b-2f52-4954-a5e6-cf879890551c'"
      ]
     },
     "execution_count": 24,
     "metadata": {},
     "output_type": "execute_result"
    }
   ],
   "source": [
    "datasetOtro[\"resources\"][0][\"id\"]"
   ]
  },
  {
   "cell_type": "markdown",
   "metadata": {},
   "source": [
    "Ya está."
   ]
  },
  {
   "cell_type": "markdown",
   "metadata": {},
   "source": [
    "2. Continuamos con el dataset de *Tráfico/Estado de tŕansito* de Barcelona, que se trata del dataset correspondiente al mes de Noviembre de 2018:\n",
    "\n",
    "Realizamos la consulta, lo cargamos como `json` y vemos si la estructura de la respuesta es igual a la anterior."
   ]
  },
  {
   "cell_type": "code",
   "execution_count": 25,
   "metadata": {},
   "outputs": [
    {
     "data": {
      "text/plain": [
       "<Response [200]>"
      ]
     },
     "execution_count": 25,
     "metadata": {},
     "output_type": "execute_result"
    }
   ],
   "source": [
    "urlConsulta = \"http://opendata-ajuntament.barcelona.cat/data/api/3/action/package_search?q=Tramos\"\n",
    "consulta = requests.get(urlConsulta)\n",
    "consulta"
   ]
  },
  {
   "cell_type": "code",
   "execution_count": 26,
   "metadata": {},
   "outputs": [],
   "source": [
    "datasetsTrafico = json.loads(consulta.text)"
   ]
  },
  {
   "cell_type": "code",
   "execution_count": 27,
   "metadata": {},
   "outputs": [
    {
     "data": {
      "text/plain": [
       "dict"
      ]
     },
     "execution_count": 27,
     "metadata": {},
     "output_type": "execute_result"
    }
   ],
   "source": [
    "type(datasetsTrafico)"
   ]
  },
  {
   "cell_type": "code",
   "execution_count": 28,
   "metadata": {},
   "outputs": [
    {
     "name": "stdout",
     "output_type": "stream",
     "text": [
      "help\n",
      "success\n",
      "result\n"
     ]
    }
   ],
   "source": [
    "for key in datasetsTrafico:\n",
    "    print(key)"
   ]
  },
  {
   "cell_type": "code",
   "execution_count": 29,
   "metadata": {},
   "outputs": [
    {
     "data": {
      "text/plain": [
       "dict"
      ]
     },
     "execution_count": 29,
     "metadata": {},
     "output_type": "execute_result"
    }
   ],
   "source": [
    "type(datasetsTrafico[\"result\"])"
   ]
  },
  {
   "cell_type": "code",
   "execution_count": 30,
   "metadata": {},
   "outputs": [
    {
     "name": "stdout",
     "output_type": "stream",
     "text": [
      "count\n",
      "sort\n",
      "facets\n",
      "results\n",
      "search_facets\n"
     ]
    }
   ],
   "source": [
    "for key in datasetsTrafico[\"result\"]:\n",
    "    print(key)"
   ]
  },
  {
   "cell_type": "code",
   "execution_count": 31,
   "metadata": {},
   "outputs": [
    {
     "data": {
      "text/plain": [
       "list"
      ]
     },
     "execution_count": 31,
     "metadata": {},
     "output_type": "execute_result"
    }
   ],
   "source": [
    "type(datasetsTrafico[\"result\"][\"results\"])"
   ]
  },
  {
   "cell_type": "markdown",
   "metadata": {},
   "source": [
    "En efecto, parece que es la misma estructura, se procede a hacer la misma búsqueda que antes, pero esta vez para los datos de *Tráfico* y *Sensores de tráfico*."
   ]
  },
  {
   "cell_type": "code",
   "execution_count": 32,
   "metadata": {},
   "outputs": [
    {
     "name": "stdout",
     "output_type": "stream",
     "text": [
      "<class 'dict'>\n",
      "<class 'dict'>\n",
      "<class 'dict'>\n",
      "<class 'dict'>\n",
      "<class 'dict'>\n",
      "<class 'dict'>\n",
      "<class 'dict'>\n",
      "<class 'dict'>\n"
     ]
    }
   ],
   "source": [
    "for item in datasetsTrafico[\"result\"][\"results\"]:\n",
    "    print(type(item))"
   ]
  },
  {
   "cell_type": "code",
   "execution_count": 33,
   "metadata": {
    "scrolled": true
   },
   "outputs": [
    {
     "name": "stdout",
     "output_type": "stream",
     "text": [
      "notes_translated\n",
      "geolocation\n",
      "code\n",
      "url_tornada\n",
      "dataset_fields_description\n",
      "fuente\n",
      "private\n",
      "num_tags\n",
      "api\n",
      "frequency\n",
      "update_string\n",
      "id\n",
      "title_translated\n",
      "metadata_modified\n",
      "author\n",
      "author_email\n",
      "isopen\n",
      "state\n",
      "version\n",
      "observations\n",
      "relationships_as_object\n",
      "department\n",
      "creator_user_id\n",
      "type\n",
      "resources\n",
      "num_resources\n",
      "tags\n",
      "fecha_publicacion\n",
      "load_type\n",
      "groups\n",
      "license_id\n",
      "relationships_as_subject\n",
      "license_title\n",
      "organization\n",
      "name\n",
      "url\n",
      "notes\n",
      "owner_org\n",
      "tag\n",
      "license_url\n",
      "historical\n",
      "title\n",
      "revision_id\n",
      "date_deactivation_informed\n",
      "extras\n"
     ]
    }
   ],
   "source": [
    "for key in datasetsTrafico[\"result\"][\"results\"][0]:\n",
    "    print(key)"
   ]
  },
  {
   "cell_type": "markdown",
   "metadata": {},
   "source": [
    "Previamente el título, en español, se encontraba en el diccionario bajo las `keys`: `title_transalted`, `es`. \n",
    "\n",
    "Comenzamos buscando el dataset de tráfico y obtenemos su `id`."
   ]
  },
  {
   "cell_type": "code",
   "execution_count": 34,
   "metadata": {},
   "outputs": [
    {
     "name": "stdout",
     "output_type": "stream",
     "text": [
      "6\n"
     ]
    }
   ],
   "source": [
    "for i, item in enumerate(datasetsTrafico[\"result\"][\"results\"]):\n",
    "    if item[\"title_translated\"][\"es\"] == \"Información del estado del tránsito en los tramos de la ciudad de Barcelona\":\n",
    "        print(i)"
   ]
  },
  {
   "cell_type": "code",
   "execution_count": 35,
   "metadata": {},
   "outputs": [
    {
     "data": {
      "text/plain": [
       "'8319c2b1-4c21-4962-9acd-6db4c5ff1148'"
      ]
     },
     "execution_count": 35,
     "metadata": {},
     "output_type": "execute_result"
    }
   ],
   "source": [
    "datasetTramosBcn = datasetsTrafico[\"result\"][\"results\"][6]\n",
    "datasetTramosBcn[\"id\"]"
   ]
  },
  {
   "cell_type": "markdown",
   "metadata": {},
   "source": [
    "Tenemos ya el *id* de los recursos sobre los tramos de tránsito de Barcelona. Ahora estamos interesados en buscar el *id* del *dataset* que corresponde con el mes de Noviembre de $2018$.\n"
   ]
  },
  {
   "cell_type": "code",
   "execution_count": 36,
   "metadata": {},
   "outputs": [
    {
     "name": "stdout",
     "output_type": "stream",
     "text": [
      "0 TRAMS_TRAMS\n",
      "1 2019_01_Gener_TRAMS_TRAMS\n",
      "2 2018_01_Gener_TRAMS_TRAMS\n",
      "3 2018_02_Febrer_TRAMS_TRAMS\n",
      "4 2018_03_Marc_TRAMS_TRAMS\n",
      "5 2018_04_Abril_TRAMS_TRAMS\n",
      "6 2018_05_Maig_TRAMS_TRAMS\n",
      "7 2018_06_Juny_TRAMS_TRAMS\n",
      "8 2018_07_Juliol_TRAMS_TRAMS\n",
      "9 2018_08_Agost_TRAMS_TRAMS\n",
      "10 2018_09_Setembre_TRAMS_TRAMS\n",
      "11 2018_10_Octubre_TRAMS_TRAMS\n",
      "12 2018_11_Novembre_TRAMS_TRAMS\n",
      "13 2018_12_Desembre_TRAMS_TRAMS\n",
      "14 2017_10_Octubre_TRAMS_TRAMS\n",
      "15 2017_11_Novembre_TRAMS_TRAMS\n",
      "16 2017_12_Desembre_TRAMS_TRAMS\n"
     ]
    }
   ],
   "source": [
    "for i, item in enumerate(datasetTramosBcn[\"resources\"]):\n",
    "    print(i, item[\"name\"])"
   ]
  },
  {
   "cell_type": "code",
   "execution_count": 37,
   "metadata": {},
   "outputs": [
    {
     "data": {
      "text/plain": [
       "dict"
      ]
     },
     "execution_count": 37,
     "metadata": {},
     "output_type": "execute_result"
    }
   ],
   "source": [
    "type(datasetTramosBcn[\"resources\"][12])"
   ]
  },
  {
   "cell_type": "code",
   "execution_count": 38,
   "metadata": {},
   "outputs": [
    {
     "name": "stdout",
     "output_type": "stream",
     "text": [
      "cache_last_updated\n",
      "package_id\n",
      "datastore_active\n",
      "id\n",
      "api_access_number_absolute\n",
      "state\n",
      "api_access_number\n",
      "size\n",
      "hash\n",
      "description\n",
      "format\n",
      "downloads\n",
      "last_modified\n",
      "url_type\n",
      "mimetype\n",
      "cache_url\n",
      "name\n",
      "created\n",
      "url\n",
      "downloads_absolute\n",
      "qa\n",
      "mimetype_inner\n",
      "position\n",
      "revision_id\n",
      "resource_type\n"
     ]
    }
   ],
   "source": [
    "for key in datasetTramosBcn[\"resources\"][12]:\n",
    "    print(key)"
   ]
  },
  {
   "cell_type": "code",
   "execution_count": 39,
   "metadata": {},
   "outputs": [
    {
     "data": {
      "text/plain": [
       "'690ad8d0-c83e-45d4-b412-29feb45a6963'"
      ]
     },
     "execution_count": 39,
     "metadata": {},
     "output_type": "execute_result"
    }
   ],
   "source": [
    "datasetTramosBcn[\"resources\"][12][\"id\"]"
   ]
  },
  {
   "cell_type": "markdown",
   "metadata": {},
   "source": [
    "El identificador del dataset correspondiente al tráfico en el mes de Noviembre del año $2018$ es: `690ad8d0-c83e-45d4-b412-29feb45a6963`.\n",
    "\n",
    "Del mismo modo que para el aire observamos si en los demás recursos se encuentra el *dataset* con los sensores del tráfico."
   ]
  },
  {
   "cell_type": "code",
   "execution_count": 40,
   "metadata": {},
   "outputs": [
    {
     "name": "stdout",
     "output_type": "stream",
     "text": [
      "5\n"
     ]
    }
   ],
   "source": [
    "for i, item in enumerate(datasetsTrafico[\"result\"][\"results\"]):\n",
    "    if item[\"title_translated\"][\"es\"] == \"Relación de tramos de la vía pública de la ciudad de Barcelona\":\n",
    "        print(i)"
   ]
  },
  {
   "cell_type": "code",
   "execution_count": 41,
   "metadata": {},
   "outputs": [
    {
     "data": {
      "text/plain": [
       "'1090983a-1c40-4609-8620-14ad49aae3ab'"
      ]
     },
     "execution_count": 41,
     "metadata": {},
     "output_type": "execute_result"
    }
   ],
   "source": [
    "datasetEstTramosBcn = datasetsTrafico[\"result\"][\"results\"][5]\n",
    "datasetEstTramosBcn[\"id\"]"
   ]
  },
  {
   "cell_type": "markdown",
   "metadata": {},
   "source": [
    "En efecto se encuentra y el identificador el portal es `1090983a-1c40-4609-8620-14ad49aae3ab`. Ahora estamos interesados en el identificador del *dataset*."
   ]
  },
  {
   "cell_type": "code",
   "execution_count": 42,
   "metadata": {},
   "outputs": [
    {
     "name": "stdout",
     "output_type": "stream",
     "text": [
      "0 TRANSIT_RELACIO_TRAMS.xls\n"
     ]
    }
   ],
   "source": [
    "for i, item in enumerate(datasetEstTramosBcn[\"resources\"]):\n",
    "    print(i, item[\"name\"])"
   ]
  },
  {
   "cell_type": "code",
   "execution_count": 43,
   "metadata": {},
   "outputs": [
    {
     "name": "stdout",
     "output_type": "stream",
     "text": [
      "036bfde0-b73e-4cb9-93db-5785f032ab68\n"
     ]
    }
   ],
   "source": [
    "print(datasetEstTramosBcn[\"resources\"][0][\"id\"])"
   ]
  },
  {
   "cell_type": "markdown",
   "metadata": {},
   "source": [
    "Ese identificador que buscábamos sobre el *dataset* de los sensores es `036bfde0-b73e-4cb9-93db-5785f032ab68`.\n",
    "\n",
    "## Madrid"
   ]
  },
  {
   "cell_type": "code",
   "execution_count": 71,
   "metadata": {},
   "outputs": [
    {
     "data": {
      "text/plain": [
       "<Response [200]>"
      ]
     },
     "execution_count": 71,
     "metadata": {},
     "output_type": "execute_result"
    }
   ],
   "source": [
    "url = \"https://datos.madrid.es/egob/catalogo/title/Tr%C3%A1fico.%20Hist%C3%B3rico%20de%20datos%20del%20tr%C3%A1fico%20desde%202013.json\"\n",
    "headers = {'Accept': 'application/json', \"Accept-Charset\":\"utf-8\", \"User-Agent\":\"curl/7.61.0\"}\n",
    "respuesta = requests.get(url , headers=headers)\n",
    "respuesta"
   ]
  },
  {
   "cell_type": "code",
   "execution_count": 72,
   "metadata": {},
   "outputs": [
    {
     "name": "stdout",
     "output_type": "stream",
     "text": [
      "<class 'dict'>\n"
     ]
    }
   ],
   "source": [
    "datasetMadrid = json.loads(respuesta.text)\n",
    "print(type(datasetMadrid))"
   ]
  },
  {
   "cell_type": "code",
   "execution_count": 73,
   "metadata": {},
   "outputs": [
    {
     "name": "stdout",
     "output_type": "stream",
     "text": [
      "format\n",
      "version\n",
      "result\n"
     ]
    }
   ],
   "source": [
    "for key in datasetMadrid:\n",
    "    print(key)"
   ]
  },
  {
   "cell_type": "code",
   "execution_count": 74,
   "metadata": {},
   "outputs": [
    {
     "name": "stdout",
     "output_type": "stream",
     "text": [
      "<class 'dict'>\n"
     ]
    }
   ],
   "source": [
    "print(type(datasetMadrid[\"result\"]))"
   ]
  },
  {
   "cell_type": "code",
   "execution_count": 75,
   "metadata": {},
   "outputs": [
    {
     "name": "stdout",
     "output_type": "stream",
     "text": [
      "first\n",
      "items\n",
      "itemsPerPage\n",
      "page\n",
      "startIndex\n",
      "total\n",
      "type\n"
     ]
    }
   ],
   "source": [
    "for key in datasetMadrid[\"result\"]:\n",
    "    print(key)"
   ]
  },
  {
   "cell_type": "code",
   "execution_count": 76,
   "metadata": {},
   "outputs": [
    {
     "data": {
      "text/plain": [
       "list"
      ]
     },
     "execution_count": 76,
     "metadata": {},
     "output_type": "execute_result"
    }
   ],
   "source": [
    "type(datasetMadrid[\"result\"][\"items\"])"
   ]
  },
  {
   "cell_type": "code",
   "execution_count": 77,
   "metadata": {},
   "outputs": [
    {
     "name": "stdout",
     "output_type": "stream",
     "text": [
      "_about\n",
      "description\n",
      "identifier\n",
      "issued\n",
      "modified\n",
      "publisher\n",
      "theme\n",
      "title\n",
      "keyword\n",
      "distribution\n",
      "type\n"
     ]
    }
   ],
   "source": [
    "for key in datasetMadrid[\"result\"][\"items\"][0]:\n",
    "    print(key)"
   ]
  },
  {
   "cell_type": "code",
   "execution_count": 78,
   "metadata": {},
   "outputs": [
    {
     "name": "stdout",
     "output_type": "stream",
     "text": [
      "https://datos.madrid.es/egob/catalogo/208627-0-transporte-ptomedida-historico\n"
     ]
    }
   ],
   "source": [
    "print(datasetMadrid[\"result\"][\"items\"][0][\"identifier\"])"
   ]
  },
  {
   "cell_type": "code",
   "execution_count": 79,
   "metadata": {},
   "outputs": [
    {
     "name": "stdout",
     "output_type": "stream",
     "text": [
      "['Movilidad y Transportes', 'Circulación']\n"
     ]
    }
   ],
   "source": [
    "print(datasetMadrid[\"result\"][\"items\"][0][\"keyword\"])"
   ]
  },
  {
   "cell_type": "code",
   "execution_count": 62,
   "metadata": {},
   "outputs": [
    {
     "data": {
      "text/plain": [
       "<Response [200]>"
      ]
     },
     "execution_count": 62,
     "metadata": {},
     "output_type": "execute_result"
    }
   ],
   "source": [
    "url = \"https://datos.madrid.es/egob/catalogo/title/Calidad%20del%20aire.%20Datos%20diarios%20a%C3%B1os%202001%20a%202018.json\"\n",
    "respuesta = requests.get(url, headers=headers)\n",
    "respuesta"
   ]
  },
  {
   "cell_type": "code",
   "execution_count": 63,
   "metadata": {},
   "outputs": [
    {
     "name": "stdout",
     "output_type": "stream",
     "text": [
      "<class 'dict'>\n"
     ]
    }
   ],
   "source": [
    "aireMadrid = json.loads(respuesta.text)\n",
    "print(type(aireMadrid))"
   ]
  },
  {
   "cell_type": "code",
   "execution_count": 64,
   "metadata": {},
   "outputs": [
    {
     "name": "stdout",
     "output_type": "stream",
     "text": [
      "format\n",
      "version\n",
      "result\n"
     ]
    }
   ],
   "source": [
    "for key in aireMadrid:\n",
    "    print(key)"
   ]
  },
  {
   "cell_type": "code",
   "execution_count": 65,
   "metadata": {},
   "outputs": [
    {
     "data": {
      "text/plain": [
       "dict"
      ]
     },
     "execution_count": 65,
     "metadata": {},
     "output_type": "execute_result"
    }
   ],
   "source": [
    "type(aireMadrid[\"result\"])"
   ]
  },
  {
   "cell_type": "code",
   "execution_count": 66,
   "metadata": {},
   "outputs": [
    {
     "name": "stdout",
     "output_type": "stream",
     "text": [
      "first\n",
      "items\n",
      "itemsPerPage\n",
      "page\n",
      "startIndex\n",
      "total\n",
      "type\n"
     ]
    }
   ],
   "source": [
    "for key in aireMadrid[\"result\"]:\n",
    "    print(key)"
   ]
  },
  {
   "cell_type": "code",
   "execution_count": 67,
   "metadata": {},
   "outputs": [
    {
     "data": {
      "text/plain": [
       "1"
      ]
     },
     "execution_count": 67,
     "metadata": {},
     "output_type": "execute_result"
    }
   ],
   "source": [
    "len(aireMadrid[\"result\"][\"items\"])"
   ]
  },
  {
   "cell_type": "code",
   "execution_count": 69,
   "metadata": {},
   "outputs": [
    {
     "name": "stdout",
     "output_type": "stream",
     "text": [
      "_about\n",
      "description\n",
      "identifier\n",
      "issued\n",
      "modified\n",
      "publisher\n",
      "theme\n",
      "title\n",
      "keyword\n",
      "distribution\n",
      "type\n"
     ]
    }
   ],
   "source": [
    "for key in aireMadrid[\"result\"][\"items\"][0]:\n",
    "    print(key)"
   ]
  },
  {
   "cell_type": "code",
   "execution_count": 70,
   "metadata": {},
   "outputs": [
    {
     "name": "stdout",
     "output_type": "stream",
     "text": [
      "https://datos.madrid.es/egob/catalogo/201410-0-calidad-aire-diario\n"
     ]
    }
   ],
   "source": [
    "print(aireMadrid[\"result\"][\"items\"][0][\"identifier\"])"
   ]
  },
  {
   "cell_type": "code",
   "execution_count": 80,
   "metadata": {},
   "outputs": [
    {
     "data": {
      "text/plain": [
       "<Response [200]>"
      ]
     },
     "execution_count": 80,
     "metadata": {},
     "output_type": "execute_result"
    }
   ],
   "source": [
    "url = \"https://datos.madrid.es/egob/catalogo/title/Tr%C3%A1fico.%20Ubicaci%C3%B3n%20de%20los%20puntos%20de%20medida%20del%20tr%C3%A1fico\"\n",
    "respuesta = requests.get(url, headers=headers)\n",
    "respuesta"
   ]
  },
  {
   "cell_type": "code",
   "execution_count": 83,
   "metadata": {},
   "outputs": [
    {
     "name": "stdout",
     "output_type": "stream",
     "text": [
      "<class 'dict'>\n"
     ]
    }
   ],
   "source": [
    "ubcMadrid = json.loads(respuesta.text)\n",
    "print(type(ubcMadrid))"
   ]
  },
  {
   "cell_type": "code",
   "execution_count": 84,
   "metadata": {},
   "outputs": [
    {
     "name": "stdout",
     "output_type": "stream",
     "text": [
      "format\n",
      "version\n",
      "result\n"
     ]
    }
   ],
   "source": [
    "for key in ubcMadrid:\n",
    "    print(key)"
   ]
  },
  {
   "cell_type": "code",
   "execution_count": 85,
   "metadata": {},
   "outputs": [
    {
     "name": "stdout",
     "output_type": "stream",
     "text": [
      "<class 'dict'>\n"
     ]
    }
   ],
   "source": [
    "print(type(ubcMadrid[\"result\"]))"
   ]
  },
  {
   "cell_type": "code",
   "execution_count": 86,
   "metadata": {},
   "outputs": [
    {
     "name": "stdout",
     "output_type": "stream",
     "text": [
      "first\n",
      "items\n",
      "itemsPerPage\n",
      "page\n",
      "startIndex\n",
      "total\n",
      "type\n"
     ]
    }
   ],
   "source": [
    "for key in ubcMadrid[\"result\"]:\n",
    "    print(key)"
   ]
  },
  {
   "cell_type": "code",
   "execution_count": 88,
   "metadata": {},
   "outputs": [
    {
     "name": "stdout",
     "output_type": "stream",
     "text": [
      "_about\n",
      "description\n",
      "identifier\n",
      "issued\n",
      "modified\n",
      "publisher\n",
      "theme\n",
      "title\n",
      "distribution\n",
      "type\n"
     ]
    }
   ],
   "source": [
    "for key in ubcMadrid[\"result\"][\"items\"][0]:\n",
    "    print(key)"
   ]
  },
  {
   "cell_type": "code",
   "execution_count": 89,
   "metadata": {},
   "outputs": [
    {
     "data": {
      "text/plain": [
       "33"
      ]
     },
     "execution_count": 89,
     "metadata": {},
     "output_type": "execute_result"
    }
   ],
   "source": [
    "len(ubcMadrid[\"result\"][\"items\"])"
   ]
  },
  {
   "cell_type": "code",
   "execution_count": 90,
   "metadata": {},
   "outputs": [
    {
     "name": "stdout",
     "output_type": "stream",
     "text": [
      "29\n"
     ]
    }
   ],
   "source": [
    "for i, item in enumerate(ubcMadrid[\"result\"][\"items\"]):\n",
    "    if item[\"title\"] == \"Tráfico. Ubicación de los puntos de medida del tráfico\":\n",
    "        print(i)"
   ]
  },
  {
   "cell_type": "code",
   "execution_count": 92,
   "metadata": {},
   "outputs": [
    {
     "name": "stdout",
     "output_type": "stream",
     "text": [
      "Tráfico. Ubicación de los puntos de medida del tráfico\n",
      "https://datos.madrid.es/egob/catalogo/202468-0-intensidad-trafico\n"
     ]
    }
   ],
   "source": [
    "ubcMadridInteresa = ubcMadrid[\"result\"][\"items\"][29]\n",
    "print(ubcMadridInteresa[\"title\"])\n",
    "print(ubcMadridInteresa[\"identifier\"])"
   ]
  },
  {
   "cell_type": "code",
   "execution_count": 93,
   "metadata": {},
   "outputs": [
    {
     "data": {
      "text/plain": [
       "<Response [200]>"
      ]
     },
     "execution_count": 93,
     "metadata": {},
     "output_type": "execute_result"
    }
   ],
   "source": [
    "url = \"https://datos.madrid.es/egob/catalogo/title/Calidad%20del%20aire.%20Estaciones%20de%20control\"\n",
    "respuesta = requests.get(url, headers=headers)\n",
    "respuesta"
   ]
  },
  {
   "cell_type": "code",
   "execution_count": 95,
   "metadata": {},
   "outputs": [
    {
     "data": {
      "text/plain": [
       "dict"
      ]
     },
     "execution_count": 95,
     "metadata": {},
     "output_type": "execute_result"
    }
   ],
   "source": [
    "airUbcMadrid = json.loads(respuesta.text)\n",
    "type(airUbcMadrid)"
   ]
  },
  {
   "cell_type": "code",
   "execution_count": 96,
   "metadata": {},
   "outputs": [
    {
     "name": "stdout",
     "output_type": "stream",
     "text": [
      "format\n",
      "version\n",
      "result\n"
     ]
    }
   ],
   "source": [
    "for key in airUbcMadrid:\n",
    "    print(key)"
   ]
  },
  {
   "cell_type": "code",
   "execution_count": 97,
   "metadata": {},
   "outputs": [
    {
     "name": "stdout",
     "output_type": "stream",
     "text": [
      "<class 'dict'>\n"
     ]
    }
   ],
   "source": [
    "print(type(airUbcMadrid[\"result\"]))"
   ]
  },
  {
   "cell_type": "code",
   "execution_count": 98,
   "metadata": {},
   "outputs": [
    {
     "name": "stdout",
     "output_type": "stream",
     "text": [
      "first\n",
      "items\n",
      "itemsPerPage\n",
      "page\n",
      "startIndex\n",
      "total\n",
      "type\n"
     ]
    }
   ],
   "source": [
    "for key in airUbcMadrid[\"result\"]:\n",
    "    print(key)"
   ]
  },
  {
   "cell_type": "code",
   "execution_count": 99,
   "metadata": {},
   "outputs": [
    {
     "name": "stdout",
     "output_type": "stream",
     "text": [
      "4\n",
      "_about\n",
      "description\n",
      "identifier\n",
      "issued\n",
      "modified\n",
      "publisher\n",
      "theme\n",
      "title\n",
      "keyword\n",
      "distribution\n",
      "type\n"
     ]
    }
   ],
   "source": [
    "print(len(airUbcMadrid[\"result\"][\"items\"]))\n",
    "for key in airUbcMadrid[\"result\"][\"items\"][0]:\n",
    "    print(key)"
   ]
  },
  {
   "cell_type": "code",
   "execution_count": 102,
   "metadata": {},
   "outputs": [
    {
     "name": "stdout",
     "output_type": "stream",
     "text": [
      "3\n"
     ]
    }
   ],
   "source": [
    "for i, item in enumerate(airUbcMadrid[\"result\"][\"items\"]):\n",
    "    if \"Estaciones de control\" in item[\"title\"]:\n",
    "        print(i)"
   ]
  },
  {
   "cell_type": "code",
   "execution_count": 103,
   "metadata": {},
   "outputs": [
    {
     "name": "stdout",
     "output_type": "stream",
     "text": [
      "https://datos.madrid.es/egob/catalogo/212629-0-estaciones-control-aire\n"
     ]
    }
   ],
   "source": [
    "print(airUbcMadrid[\"result\"][\"items\"][3][\"identifier\"])"
   ]
  }
 ],
 "metadata": {
  "kernelspec": {
   "display_name": "Python 3",
   "language": "python",
   "name": "python3"
  },
  "language_info": {
   "codemirror_mode": {
    "name": "ipython",
    "version": 3
   },
   "file_extension": ".py",
   "mimetype": "text/x-python",
   "name": "python",
   "nbconvert_exporter": "python",
   "pygments_lexer": "ipython3",
   "version": "3.7.1"
  }
 },
 "nbformat": 4,
 "nbformat_minor": 2
}
