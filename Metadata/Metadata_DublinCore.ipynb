{
 "cells": [
  {
   "cell_type": "markdown",
   "metadata": {},
   "source": [
    "## METADATOS DUBLIN CORE:\n",
    " **Fuente**: http://www.dublincore.org/documents/usageguide/elements/"
   ]
  },
  {
   "cell_type": "markdown",
   "metadata": {},
   "source": [
    "**Metadatos Dublin Core sobre el proyecto:**"
   ]
  },
  {
   "cell_type": "markdown",
   "metadata": {},
   "source": [
    "  ```XML\n",
    "    <dc:title>Calidad del aire en ciudades y otros factores</dc:title>\n",
    "    <dc:type>Informe, Presentación</dc:type>\n",
    "    <dc:subject>Calidad aire Madrid</dc:subject>\n",
    "    <dc:subject>Tráfico carretera Madrid</dc:subject>\n",
    "    <dc:subject>Contaminación Madrid</dc:subject>\n",
    "    <dc:subject>Calidad aire Barcelona</dc:subject>\n",
    "    <dc:subject>Tráfico carretera Barcelona</dc:subject>\n",
    "    <dc:subject>Contaminación Barcelona</dc:subject>\n",
    "    <dc:contributor>Universidad de Cantabria, repositorio UCREA</dc:contributor>\n",
    "    <dc:coverage>2017-2018-2019, Santander</dc:coverage>\n",
    "    <dc:creator>Elsa Cerezo, Razvan Pascal, Miguel Carlos Blanco, Álvaro Ibrain, Miguel Traspuesto, Julia Ruiz</dc:creator>\n",
    "    <dc:date>2019-01</dc:date>\n",
    "    <dc:description>Estudio sobre la calidad del aire en relación con el tráfico de vehículos en ciudades grandes como Madrid y Barcelona</dc:description>\n",
    "    <dc:format>PDF</dc:format>\n",
    "    <dc:identifier>http://hdl.handle.net/16022/10581</dc:identifier>\n",
    "    <dc:language>es</dc:language>\n",
    "    <dc:publisher>Universidad de Cantabria</dc:publisher>\n",
    "    <dc:attribute name=\"Campo\">O3: Ozono</dc:attribute>\n",
    "    <dc:attribute name=\"Campo\">NO2: Dióxido de nitrógeno</dc:attribute>\n",
    "    <dc:attribute name=\"Campo\">PM10: Partículas sólidas o líquidas de polvo, cenizas, hollín, partículas metálicas, cemento o polen</dc:attribute>\n",
    "    <dc:attribute name=\"Campo\">Estación Vallecas: 28079040</dc:attribute>\n",
    "    <dc:attribute name=\"Campo\">Estación Moratalaz: 28079036</dc:attribute>\n",
    "    <dc:attribute name=\"Campo\">02.qualitat_aire: Calidad del Aire: Buena, Regular o Pobre</dc:attribute>\n",
    "    <dc:attribute name=\"Campo\">03.estatActual: Estado actual del tramo</dc:attribute>\n",
    "    <dc:relation></dc:relation>\n",
    "    <dc:rights>Acceso público</dc:rights>\n",
    "    <dc:source name=\"Madrid\">\"Calidad del aire y estaciones de control\": https://datos.madrid.es/portal/site/egob/menuitem.c05c1f754a33a9fbe4b2e4b284f1a5a0/?vgnextoid=aecb88a7e2b73410VgnVCM2000000c205a0aRCRD&vgnextchannel=374512b9ace9f310VgnVCM100000171f5a0aRCRD&vgnextfmt=default%3E</dc:source> \n",
    "    <dc:source name=\"Madrid\">\"Tráfico y ubicación punto de medida\": https://datos.madrid.es/portal/site/egob/menuitem.c05c1f754a33a9fbe4b2e4b284f1a5a0/?vgnextoid=33cb30c367e78410VgnVCM1000000b205a0aRCRD&vgnextchannel=374512b9ace9f310VgnVCM100000171f5a0aRCRD&vgnextfmt=default</dc:source>\n",
    "    <dc:source name=\"Barcelona\">\"Calidad de aire\":http://opendata-ajuntament.barcelona.cat/data/es/dataset/qualitat-aire-detall-bcn</dc:source>\n",
    "    <dc:source name=\"Barcelona\">\"Estaciones de control\":http://opendata-ajuntament.barcelona.cat/data/es/dataset/qualitat-aire-detall-bcn</dc:source>\n",
    "    <dc:source name=\"Barcelona\">\"Web de tránsito del Ayuntamiento de Barcelona\": https://com-shi-va.barcelona.cat/es/transit</dc:source>\n",
    "    <dc:source name=\"Barcelona\">\"Sensores de tramos\":http://opendata-ajuntament.barcelona.cat/data/ca/dataset/transit-relacio-trams/resource/036bfde0-b73e-4cb9-93db-5785f032ab68</dc:source>\n",
    "    <dc:source name=\"Barcelona\">\"Tráfico\": http://opendata-ajuntament.barcelona.cat/data/es/dataset/trams</dc:source>\n",
    "    ```"
   ]
  },
  {
   "cell_type": "markdown",
   "metadata": {},
   "source": [
    "**Metadatos Dublin Core sobre los datos de calidad de aire:**"
   ]
  },
  {
   "cell_type": "markdown",
   "metadata": {},
   "source": [
    "**MADRID**:"
   ]
  },
  {
   "cell_type": "markdown",
   "metadata": {},
   "source": [
    "  ```XML\n",
    "    <dc:title>Calidad del aire. Datos diarios</dc:title>\n",
    "    <dc:type>Archivo</dc:type>\n",
    "    <dc:subject>Medio Ambiente</dc:subject>\n",
    "    <dc:subject>Salud ambiental</dc:subject>\n",
    "    <dc:subject>Impacto ambiental</dc:subject>\n",
    "    <dc:subject>Salud</dc:subject>\n",
    "    <dc:contributor>Portal de datos en abierto de Madrid</dc:contributor>\n",
    "    <dc:coverage>2018, Madrid</dc:coverage>\n",
    "    <dc:creator>Ayuntamiento de Madrid</dc:creator>\n",
    "    <dc:date>10-01-2014, Madrid</dc:date>\n",
    "    <dc:description>Datos diarios recogidos sobre la calidad del aire en diferentes estaciones de Madrid</dc:description>\n",
    "    <dc:format>CSV</dc:format>\n",
    "    <dc:measuretime>diario</dc:measuretime> \n",
    "    <dc:identifier> https://datos.madrid.es/egob/catalogo/201410-0-calidad-aire-diario</dc:identifier>\n",
    "    <dc:language>es</dc:language>\n",
    "    <dc:publisher>Ayuntamiento de Madrid</dc:publisher>\n",
    "    <dc:relation>http://gestiona.madrid.org/azul_internet/run/j/AvisosAccion.icm</dc:relation>\n",
    "    <dc:relation> http://www.mambiente.munimadrid.es/opencms/opencms/calaire/SistemaIntegral/SistVigilancia/SistVigilancia_Equipos.html</dc:relation>\n",
    "    <dc:legend name=\"Calidad de aire\">\n",
    "https://datos.madrid.es/FWProjects/egob/Catalogo/MedioAmbiente/Aire/Ficheros/Interprete_ficheros_%20calidad_%20del_%20aire_global.pdf</dc:legend>\n",
    "    <dc:legend name=\"Sensores de medición\"> http://www.mambiente.munimadrid.es/opencms/export/sites/default/calaire/Anexos/aparatos_de_medida.pdf</dc:legend>\n",
    "    <dc:legend name=\"Índice de calidad del aire\"> http://gestiona.madrid.org/azul_internet/run/j/AvisosAccion.icm</dc:legend>\n",
    "    <dc:rights>https://datos.madrid.es/egob/catalogo/aviso-legal</dc:rights>\n",
    "    <dc:source>https://datos.madrid.es/portal/site/egob/menuitem.c05c1f754a33a9fbe4b2e4b284f1a5a0/?vgnextoid=aecb88a7e2b73410VgnVCM2000000c205a0aRCRD&vgnextchannel=374512b9ace9f310VgnVCM100000171f5a0aRCRD&vgnextfmt=default%3E\n",
    "    </dc:source>\n",
    "```"
   ]
  },
  {
   "cell_type": "markdown",
   "metadata": {},
   "source": [
    "**BARCELONA**"
   ]
  },
  {
   "cell_type": "markdown",
   "metadata": {},
   "source": [
    "  ```XML\n",
    "    <dc:title>Calidad del aire de la ciudad de Barcelona/dc:title>\n",
    "    <dc:type>Archivo</dc:type>\n",
    "    <dc:subject>Medio Ambiente</dc:subject>\n",
    "    <dc:subject>Calidad</dc:subject>\n",
    "    <dc:subject>Salud pública</dc:subject>\n",
    "    <dc:contributor>Portal de datos en abierto de Barcelona</dc:contributor>\n",
    "    <dc:coverage>2018, Barcelona</dc:coverage>\n",
    "    <dc:creator>Dirección General de Calidad Ambiental y Cambio Climático de la Generalidad de Cataluña</dc:creator>\n",
    "    <dc:date>15-06-2018, Barcelona</dc:date>\n",
    "    <dc:description>Datos recogidos sobre la calidad del aire en diferentes estaciones de Barcelona</dc:description>\n",
    "    <dc:format>CSV</dc:format>\n",
    "    <dc:measuretime>hora</dc:measuretime>\n",
    "    <dc:identifier name=\"Estaciones de control\">6c33f60b-2f52-4954-a5e6-cf879890551c</dc:identifier>\n",
    "    <dc:identifier name=\"Calidad de aire\">cc993126-fb6f-4a63-a460-a2ffdb2b6886</dc:identifier>\n",
    "    <dc:language>es</dc:language>\n",
    "    <dc:publisher>Ayuntamiento de Barcelona</dc:publisher>\n",
    "    <dc:relation></dc:relation>\n",
    "    <dc:legend name=\"Estaciones de control\">https://i.ibb.co/6mCwnp1/leyenda-estaciones-aire-barcelona.png</dc:legend>\n",
    "    <dc:legend name=\"Calidad de aire\">https://i.ibb.co/HhHb2WY/leyenda-aire-barcelona.png</dc:legend>\n",
    "    <dc:rights>https://creativecommons.org/licenses/by/4.0/</dc:rights>\n",
    "    <dc:source name=\"Estaciones de control\">http://opendata-ajuntament.barcelona.cat/data/es/dataset/qualitat-aire-estacions-bcn</dc:source>\n",
    "    <dc:source name=\"Calidad del aire\">http://opendata-ajuntament.barcelona.cat/data/es/dataset/qualitat-aire-detall-bcn</dc:source>\n",
    "```"
   ]
  },
  {
   "cell_type": "markdown",
   "metadata": {},
   "source": [
    "**Metadatos Dublin Core sobre los datos de tráfico:**"
   ]
  },
  {
   "cell_type": "markdown",
   "metadata": {},
   "source": [
    "**MADRID**"
   ]
  },
  {
   "cell_type": "markdown",
   "metadata": {},
   "source": [
    "  ```XML\n",
    "    <dc:title>Tráfico. Histórico de datos del tráfico</dc:title>\n",
    "    <dc:type>Archivo</dc:type>\n",
    "    <dc:subject>Movilidad y Transportes</dc:subject>\n",
    "    <dc:subject>Circulación</dc:subject>\n",
    "    <dc:contributor>Portal de datos en abierto de Madrid</dc:contributor>\n",
    "    <dc:coverage>2018, Madrid</dc:coverage>\n",
    "    <dc:creator>Ayuntamiento de Madrid</dc:creator>\n",
    "    <dc:date>16-09-2014 (Madrid)</dc:date>\n",
    "    <dc:description>Información sobre el estado del tráfico en diferentes tramos de Madrid</dc:description>\n",
    "    <dc:format>CSV</dc:format>\n",
    "    <dc:measuretime>15 minutos</dc:measuretime>\n",
    "    <dc:identifier name=\"Tráfico.Histórico\">https://datos.madrid.es/egob/catalogo/208627-0-transporte-ptomedida-historico</dc:identifier>\n",
    "    <dc:identifier name=\"Tráfico.Puntos de medida\">https://datos.madrid.es/egob/catalogo/202468-0-intensidad-trafico</dc:identifier>\n",
    "    <dc:language>es</dc:language>\n",
    "    <dc:publisher>Ayuntamiento de Madrid</dc:publisher>\n",
    "    <dc:relation>https://datos.madrid.es/egob/catalogo/208223-0-trafico-intensidad-tramas</dc:relation>\n",
    "    <dc:relation>https://datos.madrid.es/egob/new/detalle/auxiliar/mapa.jsp?geoUrl=https://datos.madrid.es/egob/catalogo/208223-7605492-trafico-intensidad-tramas.kml</dc:relation>\n",
    "    <dc:legend name=\"Tráfico.Histórico\">\n",
    "https://datos.madrid.es/FWProjects/egob/Catalogo/Transporte/Trafico/ficheros/Estructura_DS_Contenido_Trafico_Historico.pdf</dc:legend>\n",
    "    <dc:legend name=\"Tráfico.Puntos de medida\"> https://datos.madrid.es/FWProjects/egob/Catalogo/Transporte/Trafico/ficheros/InformacionUbicacionPuntosMedida.pdf</dc:legend>\n",
    "    <dc:rights>https://datos.madrid.es/egob/catalogo/aviso-legal</dc:rights>\n",
    "    <dc:source name=\"Tráfico.Histórico\"> https://datos.madrid.es/portal/site/egob/menuitem.c05c1f754a33a9fbe4b2e4b284f1a5a0/?vgnextoid=33cb30c367e78410VgnVCM1000000b205a0aRCRD&vgnextchannel=374512b9ace9f310VgnVCM100000171f5a0aRCRD&vgnextfmt=default</dc:source>\n",
    "    <dc:source name=\"Tráfico.Puntos de medida\"> https://datos.madrid.es/portal/site/egob/menuitem.c05c1f754a33a9fbe4b2e4b284f1a5a0/?vgnextoid=ee941ce6ba6d3410VgnVCM1000000b205a0aRCRD&vgnextchannel=374512b9ace9f310VgnVCM100000171f5a0aRCRD</dc:source>\n",
    "\n",
    "   ```"
   ]
  },
  {
   "cell_type": "markdown",
   "metadata": {},
   "source": [
    "**BARCELONA**"
   ]
  },
  {
   "cell_type": "markdown",
   "metadata": {},
   "source": [
    "  ```XML\n",
    "    <dc:title>Tránsito del tráfico/dc:title>\n",
    "    <dc:type>Archivo</dc:type>\n",
    "    <dc:subject>Tramo Tráfico</dc:subject>\n",
    "    <dc:contributor>Portal de datos en abierto de Barcelona</dc:contributor>\n",
    "    <dc:coverage>2018, Barcelona</dc:coverage>\n",
    "    <dc:creator>Web de tránsito del Ayuntamiento de Barcelona</dc:creator>\n",
    "    <dc:date>17-02-2011 (Barcelona)</dc:date>\n",
    "    <dc:description>Información sobre el estado del tráfico en diferentes tramos de Barcelona\n",
    "    </dc:description>\n",
    "    <dc:format>CSV</dc:format>\n",
    "    <dc:measuretime>5 minutos</dc:measuretime>\n",
    "    <dc:identifier name=\"Sensores de tramos\">036bfde0-b73e-4cb9-93db-5785f032ab68</dc:identifier>\n",
    "    <dc:identifier name=\"Tráfico\">690ad8d0-c83e-45d4-b412-29feb45a6963</dc:identifier>\n",
    "    <dc:language>es</dc:language>\n",
    "    <dc:publisher>Ayuntamiento de Barcelona</dc:publisher>\n",
    "    <dc:relation>https://com-shi-va.barcelona.cat/es/transit</dc:relation>\n",
    "    <dc:legend>https://i.ibb.co/sQK2pR1/leyenda-tramos-barcelona.png</dc:legend>\n",
    "    <dc:rights>https://creativecommons.org/licenses/by/4.0/</dc:rights>\n",
    "    <dc:source name=\"Sensores de tramos\">http://opendata-ajuntament.barcelona.cat/data/ca/dataset/transit-relacio-trams/resource/036bfde0-b73e-4cb9-93db-5785f032ab68</dc:source>\n",
    "    <dc:source name=\"Tráfico\">http://opendata-ajuntament.barcelona.cat/data/es/dataset/trams</dc:source>\n",
    "   ```"
   ]
  },
  {
   "cell_type": "code",
   "execution_count": null,
   "metadata": {},
   "outputs": [],
   "source": []
  }
 ],
 "metadata": {
  "kernelspec": {
   "display_name": "Python 3",
   "language": "python",
   "name": "python3"
  },
  "language_info": {
   "codemirror_mode": {
    "name": "ipython",
    "version": 3
   },
   "file_extension": ".py",
   "mimetype": "text/x-python",
   "name": "python",
   "nbconvert_exporter": "python",
   "pygments_lexer": "ipython3",
   "version": "3.7.1"
  }
 },
 "nbformat": 4,
 "nbformat_minor": 2
}
